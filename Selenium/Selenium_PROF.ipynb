{
 "cells": [
  {
   "cell_type": "markdown",
   "metadata": {},
   "source": [
    "# Web Scraping: Selenium"
   ]
  },
  {
   "cell_type": "markdown",
   "metadata": {},
   "source": [
    "A menudo, los datos están disponibles públicamente para nosotros, pero no en una forma que sea fácilmente utilizable. Ahí es donde entra en juego el web scraping, podemos usar web scraping para obtener nuestros datos deseados en un formato conveniente que luego se puede usar. A continuación, mostraré cómo se puede extraer información de interés de un sitio web usando el paquete Selenium en Python. Selenium nos permite manejar una ventana del navegador e interactuar con el sitio web mediante programación. \n",
    "\n",
    "Selenium también tiene varios métodos que facilitan la extracción de datos.\n",
    "En este Jupyter Notebook vamos a usar Python 3 en Windows.\n",
    "\n",
    "En primer lugar, tendremos que descargar un controlador.\n",
    "\n",
    "Usaremos ChromeDriver para Google Chrome. Para obtener una lista completa de controladores y plataformas compatibles, consulte [Selenium](https://www.selenium.dev/downloads/). Si desea utilizar Google Chrome, diríjase a [chrome](https://chromedriver.chromium.org/) y descargue el controlador que corresponde a su versión actual de Google Chrome.\n",
    "\n",
    "Como saber cual es la version de chrome que utilizo simple utilizamos pegamos el siguiente enlace en la barra de chrome chrome://settings/help\n",
    "\n",
    "Antes de comenzar se preguntaran si ya se BeautifulSoup cual es la diferencia con Selenium.\n",
    "\n",
    "A diferencia BeautifulSoup, Selenium no trabaja con el texto fuente en HTML de la web en cuestión, sino que carga la página en un navegador sin interfaz de usuario. El navegador interpreta entonces el código fuente de la página y crea, a partir de él, un Document Object Model (modelo de objetos de documento o DOM). Esta interfaz estandarizada permite poner a prueba las interacciones de los usuarios. De esta forma se consigue, por ejemplo, simular clics y rellenar formularios automáticamente. Los cambios en la web que resultan de dichas acciones se reflejan en el DOM. La estructura del proceso de web scraping con Selenium es la siguiente:\n",
    "\n",
    "URL → Solicitud HTTP → HTML → Selenium → DOM\n",
    "\n"
   ]
  },
  {
   "cell_type": "markdown",
   "metadata": {},
   "source": [
    "## Comencemos importando las bibliotecas que usaremos:"
   ]
  },
  {
   "cell_type": "code",
   "execution_count": 79,
   "metadata": {
    "ExecuteTime": {
     "end_time": "2021-02-26T12:16:59.303652Z",
     "start_time": "2021-02-26T12:16:59.300657Z"
    }
   },
   "outputs": [],
   "source": [
    "from selenium import webdriver\n",
    "from selenium.webdriver.common.by import By\n",
    "import urllib3 # urllib3 es un cliente HTTP potente y fácil de usar para Python.\n",
    "import re # Expresiones regulares \n",
    "import time\n",
    "import pandas as pd"
   ]
  },
  {
   "cell_type": "markdown",
   "metadata": {},
   "source": [
    "El objeto driver es con el que trabajaremos a partir de ahora"
   ]
  },
  {
   "cell_type": "code",
   "execution_count": 80,
   "metadata": {
    "ExecuteTime": {
     "end_time": "2021-02-26T10:22:46.333679Z",
     "start_time": "2021-02-26T10:22:45.178780Z"
    }
   },
   "outputs": [],
   "source": [
    "# especificamos el path hasta nuestro driver recién descargado:\n",
    "chrome_driver_path = 'chromedriver.exe'\n",
    "options  = webdriver.ChromeOptions()"
   ]
  },
  {
   "cell_type": "code",
   "execution_count": 3,
   "metadata": {},
   "outputs": [
    {
     "name": "stderr",
     "output_type": "stream",
     "text": [
      "C:\\Users\\Alex\\AppData\\Local\\Temp\\ipykernel_3496\\2445550838.py:2: DeprecationWarning: executable_path has been deprecated, please pass in a Service object\n",
      "  driver = webdriver.Chrome(executable_path = chrome_driver_path, options = options)\n"
     ]
    }
   ],
   "source": [
    "# Creamos el driver con el que nos vamos a manejar en la sesión de scrapeo:\n",
    "driver = webdriver.Chrome(executable_path = chrome_driver_path, options = options)"
   ]
  },
  {
   "cell_type": "code",
   "execution_count": 4,
   "metadata": {},
   "outputs": [],
   "source": [
    "# indicamos la URL de la página web a la que queremos acceder:\n",
    "url = 'https://insolvencyinsider.ca/filing/'\n",
    "# el objeto driver nos va a permitir alterar el estado del la página\n",
    "driver.get(url)"
   ]
  },
  {
   "cell_type": "markdown",
   "metadata": {},
   "source": [
    "Ahora si queremos hacer click en el boton de \"Load more\"."
   ]
  },
  {
   "cell_type": "markdown",
   "metadata": {},
   "source": [
    "Selenium proporciona varios métodos para localizar elementos en la página web. Usaremos el método find_element_by_xpath() para crear un objeto de botón, con el que luego podremos interactuar:"
   ]
  },
  {
   "cell_type": "code",
   "execution_count": 5,
   "metadata": {},
   "outputs": [],
   "source": [
    "# loadMore = driver.find_element_by_xpath(xpath=\"/html/body/div[2]/div/main/div/div/div/button\")"
   ]
  },
  {
   "cell_type": "code",
   "execution_count": 6,
   "metadata": {},
   "outputs": [],
   "source": [
    "loadMore = driver.find_element(By.XPATH, '/html/body/div[2]/div/main/div/div/div/button')"
   ]
  },
  {
   "cell_type": "markdown",
   "metadata": {},
   "source": [
    "Antes de continuar, necesitaremos saber cuántas páginas hay para saber cuántas veces debemos hacer clic en el botón. Necesitaremos una forma de extraer el código fuente del sitio web. Afortunadamente, este proceso es relativamente sencillo con las bibliotecas urllib3 y re."
   ]
  },
  {
   "cell_type": "code",
   "execution_count": 7,
   "metadata": {},
   "outputs": [],
   "source": [
    "url = \"https://insolvencyinsider.ca/filing/\"\n",
    "http = urllib3.PoolManager()\n",
    "r = http.request(\"GET\", url)\n",
    "text = str(r.data)\n"
   ]
  },
  {
   "cell_type": "markdown",
   "metadata": {},
   "source": [
    "```text``` ahora es una cadena. Ahora, necesitamos una forma de extraer total_pages de nuestra cadena de texto. Imprima texto para ver cómo podemos extraerlo usando RegEx con el paquete re. Podemos totalizar_páginas así:"
   ]
  },
  {
   "cell_type": "code",
   "execution_count": 8,
   "metadata": {},
   "outputs": [],
   "source": [
    "totalPagesObj = re.search(pattern='\"total_pages\":\\d+', string=text)\n",
    "totalPagesStr = totalPagesObj.group(0)\n",
    "totalPages = int((re.search(pattern=\"\\d+\", string=totalPagesStr)).group(0))"
   ]
  },
  {
   "cell_type": "markdown",
   "metadata": {},
   "source": [
    "El método de búsqueda toma un patrón y una cadena. En este caso nuestro patrón es '\"total_pages\":\\d+' . Si no está familiarizado con RegEx, todo esto significa que estamos buscando la cadena \"total_pages\": con dos o más dígitos después de los dos puntos. \\d se refiere a un dígito entre 0 y 9, mientras que + indica que Python debe buscar una o más de las expresiones regulares anteriores. Puedes leer más sobre el paquete re aquí. El método search() devuelve un objeto Match. re proporciona el método group() que devuelve uno o más subgrupos de la coincidencia. Pasamos 0 como argumento para indicar que queremos el parche completo. La tercera línea simplemente extrae el entero correspondiente a total_pages de la cadena."
   ]
  },
  {
   "cell_type": "code",
   "execution_count": 9,
   "metadata": {},
   "outputs": [
    {
     "name": "stdout",
     "output_type": "stream",
     "text": [
      "<re.Match object; span=(107950, 107966), match='\"total_pages\":97'>\n",
      "\"total_pages\":97\n",
      "97\n"
     ]
    }
   ],
   "source": [
    "print(totalPagesObj)\n",
    "print(totalPagesStr)\n",
    "print(totalPages)"
   ]
  },
  {
   "cell_type": "markdown",
   "metadata": {},
   "source": [
    "Con eso completo, ahora podemos cargar todas las páginas de Insolvency Insider. Podemos hacer clic en el botón Cargar más accediendo al método click() del objeto. Esperamos tres segundos entre clics para no sobrecargar el sitio web."
   ]
  },
  {
   "cell_type": "markdown",
   "metadata": {},
   "source": [
    "Recuerde que el total de las páginas son 88 pero comenzamos en 0 asi que es 88-1"
   ]
  },
  {
   "cell_type": "code",
   "execution_count": 10,
   "metadata": {},
   "outputs": [
    {
     "name": "stderr",
     "output_type": "stream",
     "text": [
      "100%|██████████| 96/96 [04:52<00:00,  3.04s/it]\n"
     ]
    }
   ],
   "source": [
    "from tqdm import tqdm\n",
    "\n",
    "for i in tqdm(range(totalPages-1)):\n",
    "    loadMore.click()\n",
    "    time.sleep(3)"
   ]
  },
  {
   "cell_type": "markdown",
   "metadata": {},
   "source": [
    "Una vez que ejecute esto, debería ver que se hace clic en el botón Cargar más y que se cargan las páginas restantes.\n",
    "Una vez que se carga cada página, podemos comenzar a raspar el contenido. Ahora, eliminar ciertos elementos como el nombre de presentación, la fecha y la hiperreferencia es bastante sencillo. Podemos usar los métodos find_elements_by_class_name() y find_elements_by_xpath() de Selenium (importante la ```s``` extra después de element):"
   ]
  },
  {
   "cell_type": "code",
   "execution_count": 11,
   "metadata": {},
   "outputs": [],
   "source": [
    "# filingNamesElements = driver.find_elements_by_class_name(\"filing-name\")\n",
    "\n",
    "# filingDateElements = driver.find_elements_by_class_name(\"filing-date\")\n",
    "\n",
    "# filingHrefElements = driver.find_elements_by_xpath(\"//*[@id='content']/div[2]/div/div[1]/h3/a\")"
   ]
  },
  {
   "cell_type": "code",
   "execution_count": 13,
   "metadata": {},
   "outputs": [],
   "source": [
    "filingNamesElements = driver.find_elements(By.CLASS_NAME, \"filing-name\")\n",
    "filingDateElements = driver.find_elements(By.CLASS_NAME, \"filing-date\")\n",
    "filingHrefElements = driver.find_elements(By.XPATH, \"//*[@id='content']/div[2]/div/div[1]/h3/a\")"
   ]
  },
  {
   "cell_type": "markdown",
   "metadata": {},
   "source": [
    "También nos gustaría conocer los metadatos de presentación, es decir, el tipo de archivo, el sector de la empresa y el lugar en la que operan. Extraer estos datos requiere un poco más de trabajo."
   ]
  },
  {
   "cell_type": "code",
   "execution_count": 14,
   "metadata": {},
   "outputs": [
    {
     "name": "stderr",
     "output_type": "stream",
     "text": [
      "100%|██████████| 963/963 [00:39<00:00, 24.18it/s]\n"
     ]
    }
   ],
   "source": [
    "filingMetas = []\n",
    "for i in tqdm(range(len(filingNamesElements) + 1)):\n",
    "    filingMetai = driver.find_elements(By.XPATH, (\"//*[@id='content']/div[2]/div[%d]/div[2]/div[1]\" %(i)))\n",
    "    for element in filingMetai:\n",
    "        filingMetaTexti = element.text\n",
    "        filingMetas.append(filingMetaTexti)"
   ]
  },
  {
   "cell_type": "markdown",
   "metadata": {},
   "source": [
    "De cada elemento de la presentación de Metas podemos extraer el tipo de presentación, la industria y la provincia, así:"
   ]
  },
  {
   "cell_type": "code",
   "execution_count": 45,
   "metadata": {},
   "outputs": [],
   "source": [
    "metaDict = {\"Filing Type\": [], \"Industry\": [], \"Province\": []}\n",
    "for filing in tqdm(filingMetas):\n",
    "    filingSplit = filing.split(\"\\n\")\n",
    "  \n",
    "    for item in tqdm(filingSplit):\n",
    "        itemSplit = item.split(\":\")\n",
    "\n",
    "        \n",
    "        if itemSplit[0] == \"Filing Type\":\n",
    "            metaDict[\"Filing Type\"].append(itemSplit[1])\n",
    "        if itemSplit[0] == \"Industry\":\n",
    "            metaDict[\"Industry\"].append(itemSplit[1])\n",
    "        if itemSplit[0] == \"Province\":\n",
    "            metaDict[\"Province\"].append(itemSplit[1])\n",
    "            \n",
    "    if \"Filing Type\" not in filing:\n",
    "        metaDict[\"Filing Type\"].append(\"NA\")\n",
    "    if \"Industry\" not in filing:\n",
    "        metaDict[\"Industry\"].append(\"NA\")\n",
    "    if \"Province\" not in filing:\n",
    "        metaDict[\"Province\"].append(\"NA\")"
   ]
  },
  {
   "cell_type": "markdown",
   "metadata": {},
   "source": [
    "Ahora, todavía tenemos que poner nuestros nombres y fechas de presentación en las listas. Hacemos esto agregando el texto de cada elemento a una lista usando el método text() de antes:"
   ]
  },
  {
   "cell_type": "code",
   "execution_count": 15,
   "metadata": {},
   "outputs": [
    {
     "name": "stderr",
     "output_type": "stream",
     "text": [
      "100%|██████████| 962/962 [00:08<00:00, 109.42it/s]\n",
      "100%|██████████| 962/962 [00:08<00:00, 111.91it/s]\n",
      "100%|██████████| 962/962 [00:11<00:00, 84.39it/s]\n"
     ]
    }
   ],
   "source": [
    "filingName = []\n",
    "filingDate = []\n",
    "filingLink = []\n",
    "# para cada elemento en la lista de elementos de nombre de archivo, agrega el\n",
    "# texto del elemento a la lista de nombres de archivo.\n",
    "for element in tqdm(filingNamesElements):\n",
    "    filingName.append(element.text)\n",
    "# para cada elemento en la lista de elementos de la fecha de presentación, agrega el\n",
    "# texto del elemento a la lista de fechas de presentación.\n",
    "for element in tqdm(filingDateElements):\n",
    "    filingDate.append(element.text)\n",
    "for link in tqdm(filingHrefElements):\n",
    "    if link.get_attribute(\"href\"):\n",
    "        filingLink.append(link.get_attribute(\"href\"))"
   ]
  },
  {
   "cell_type": "markdown",
   "metadata": {},
   "source": [
    "Una vez que tengamos eso, estamos listos para poner todo en un diccionario y luego crear un DataFrame de pandas:"
   ]
  },
  {
   "cell_type": "code",
   "execution_count": 18,
   "metadata": {},
   "outputs": [],
   "source": [
    "# Crea un diccionario final con nombres y fechas de archivo.\n",
    "# fullDict = {\n",
    "\n",
    "#     \"Filing Name\": filingName,\n",
    "#     \"Filing Date\": filingDate, \n",
    "#     \"Filing Type\": metaDict[\"Filing Type\"],\n",
    "#     \"Industry\": metaDict[\"Industry\"],\n",
    "#     \"Province\": metaDict[\"Province\"],\n",
    "#     \"Link\": filingLink\n",
    "# }\n",
    "fullDict = {\n",
    "    \"Filing Name\": filingName,\n",
    "    \"Filing Date\": filingDate, \n",
    "    \"Link\": filingLink\n",
    "}\n",
    "# Crea un DataFrame.\n",
    "df = pd.DataFrame(fullDict)\n",
    "df[\"Filing Date\"] = pd.to_datetime(df[\"Filing Date\"], infer_datetime_format=True)"
   ]
  },
  {
   "cell_type": "code",
   "execution_count": 19,
   "metadata": {},
   "outputs": [
    {
     "data": {
      "text/html": [
       "<div>\n",
       "<style scoped>\n",
       "    .dataframe tbody tr th:only-of-type {\n",
       "        vertical-align: middle;\n",
       "    }\n",
       "\n",
       "    .dataframe tbody tr th {\n",
       "        vertical-align: top;\n",
       "    }\n",
       "\n",
       "    .dataframe thead th {\n",
       "        text-align: right;\n",
       "    }\n",
       "</style>\n",
       "<table border=\"1\" class=\"dataframe\">\n",
       "  <thead>\n",
       "    <tr style=\"text-align: right;\">\n",
       "      <th></th>\n",
       "      <th>Filing Name</th>\n",
       "      <th>Filing Date</th>\n",
       "      <th>Link</th>\n",
       "    </tr>\n",
       "  </thead>\n",
       "  <tbody>\n",
       "    <tr>\n",
       "      <th>0</th>\n",
       "      <td>2737524 Ontario Inc. o/a Estrada Automotive</td>\n",
       "      <td>2022-07-05</td>\n",
       "      <td>https://insolvencyinsider.ca/filing/2737524-on...</td>\n",
       "    </tr>\n",
       "    <tr>\n",
       "      <th>1</th>\n",
       "      <td>Premium Comfort Heating &amp; Air Conditioning Ltd</td>\n",
       "      <td>2022-06-28</td>\n",
       "      <td>https://insolvencyinsider.ca/filing/premium-co...</td>\n",
       "    </tr>\n",
       "    <tr>\n",
       "      <th>2</th>\n",
       "      <td>Sproutly Inc. and its wholly-owned subsidiary,...</td>\n",
       "      <td>2022-06-24</td>\n",
       "      <td>https://insolvencyinsider.ca/filing/sproutly-i...</td>\n",
       "    </tr>\n",
       "    <tr>\n",
       "      <th>3</th>\n",
       "      <td>Revlon Canada Inc. and Elizabeth Arden (Canada...</td>\n",
       "      <td>2022-06-20</td>\n",
       "      <td>https://insolvencyinsider.ca/filing/revlon-can...</td>\n",
       "    </tr>\n",
       "    <tr>\n",
       "      <th>4</th>\n",
       "      <td>Zenabis Global Inc. &amp; al. (the “Zenabis Group”)</td>\n",
       "      <td>2022-06-17</td>\n",
       "      <td>https://insolvencyinsider.ca/filing/zenabis-gl...</td>\n",
       "    </tr>\n",
       "    <tr>\n",
       "      <th>...</th>\n",
       "      <td>...</td>\n",
       "      <td>...</td>\n",
       "      <td>...</td>\n",
       "    </tr>\n",
       "    <tr>\n",
       "      <th>957</th>\n",
       "      <td>ReidBuilt</td>\n",
       "      <td>2017-11-02</td>\n",
       "      <td>https://insolvencyinsider.ca/filing/reidbuilt/</td>\n",
       "    </tr>\n",
       "    <tr>\n",
       "      <th>958</th>\n",
       "      <td>Spareparts</td>\n",
       "      <td>2017-10-31</td>\n",
       "      <td>https://insolvencyinsider.ca/filing/spareparts/</td>\n",
       "    </tr>\n",
       "    <tr>\n",
       "      <th>959</th>\n",
       "      <td>BuildDirect</td>\n",
       "      <td>2017-10-31</td>\n",
       "      <td>https://insolvencyinsider.ca/filing/builddirect/</td>\n",
       "    </tr>\n",
       "    <tr>\n",
       "      <th>960</th>\n",
       "      <td>1735549 Ontario</td>\n",
       "      <td>2017-10-27</td>\n",
       "      <td>https://insolvencyinsider.ca/filing/1735549-on...</td>\n",
       "    </tr>\n",
       "    <tr>\n",
       "      <th>961</th>\n",
       "      <td>2203284 Ontario</td>\n",
       "      <td>2017-06-22</td>\n",
       "      <td>https://insolvencyinsider.ca/filing/2203284-on...</td>\n",
       "    </tr>\n",
       "  </tbody>\n",
       "</table>\n",
       "<p>962 rows × 3 columns</p>\n",
       "</div>"
      ],
      "text/plain": [
       "                                           Filing Name Filing Date  \\\n",
       "0          2737524 Ontario Inc. o/a Estrada Automotive  2022-07-05   \n",
       "1       Premium Comfort Heating & Air Conditioning Ltd  2022-06-28   \n",
       "2    Sproutly Inc. and its wholly-owned subsidiary,...  2022-06-24   \n",
       "3    Revlon Canada Inc. and Elizabeth Arden (Canada...  2022-06-20   \n",
       "4      Zenabis Global Inc. & al. (the “Zenabis Group”)  2022-06-17   \n",
       "..                                                 ...         ...   \n",
       "957                                          ReidBuilt  2017-11-02   \n",
       "958                                         Spareparts  2017-10-31   \n",
       "959                                        BuildDirect  2017-10-31   \n",
       "960                                    1735549 Ontario  2017-10-27   \n",
       "961                                    2203284 Ontario  2017-06-22   \n",
       "\n",
       "                                                  Link  \n",
       "0    https://insolvencyinsider.ca/filing/2737524-on...  \n",
       "1    https://insolvencyinsider.ca/filing/premium-co...  \n",
       "2    https://insolvencyinsider.ca/filing/sproutly-i...  \n",
       "3    https://insolvencyinsider.ca/filing/revlon-can...  \n",
       "4    https://insolvencyinsider.ca/filing/zenabis-gl...  \n",
       "..                                                 ...  \n",
       "957     https://insolvencyinsider.ca/filing/reidbuilt/  \n",
       "958    https://insolvencyinsider.ca/filing/spareparts/  \n",
       "959   https://insolvencyinsider.ca/filing/builddirect/  \n",
       "960  https://insolvencyinsider.ca/filing/1735549-on...  \n",
       "961  https://insolvencyinsider.ca/filing/2203284-on...  \n",
       "\n",
       "[962 rows x 3 columns]"
      ]
     },
     "execution_count": 19,
     "metadata": {},
     "output_type": "execute_result"
    }
   ],
   "source": [
    "df"
   ]
  },
  {
   "cell_type": "markdown",
   "metadata": {},
   "source": [
    "------------------------"
   ]
  },
  {
   "cell_type": "markdown",
   "metadata": {},
   "source": [
    "# Ahora algo más visual"
   ]
  },
  {
   "cell_type": "code",
   "execution_count": 20,
   "metadata": {},
   "outputs": [
    {
     "name": "stderr",
     "output_type": "stream",
     "text": [
      "C:\\Users\\Alex\\AppData\\Local\\Temp\\ipykernel_3496\\3395105876.py:1: DeprecationWarning: executable_path has been deprecated, please pass in a Service object\n",
      "  driver = webdriver.Chrome(executable_path = chrome_driver_path, options = options)\n"
     ]
    }
   ],
   "source": [
    "driver = webdriver.Chrome(executable_path = chrome_driver_path, options = options)"
   ]
  },
  {
   "cell_type": "code",
   "execution_count": 21,
   "metadata": {},
   "outputs": [],
   "source": [
    "# indicamos la URL de la página web a la que queremos acceder:\n",
    "url = 'https://www.filmaffinity.com/es/main.html'\n",
    "# el objeto driver nos va a permitir alterar el estado del la página\n",
    "driver.get(url)"
   ]
  },
  {
   "cell_type": "markdown",
   "metadata": {},
   "source": [
    "La página de Filmaffinity se ha abierto"
   ]
  },
  {
   "cell_type": "markdown",
   "metadata": {},
   "source": [
    "Pero...."
   ]
  },
  {
   "cell_type": "markdown",
   "metadata": {},
   "source": [
    "Nos hemos encontrado con un pop-up que nos pide aceptar cookies"
   ]
  },
  {
   "cell_type": "markdown",
   "metadata": {},
   "source": [
    "1. Buscamos el botón\n",
    "2. Hacemos click en el botón"
   ]
  },
  {
   "cell_type": "markdown",
   "metadata": {},
   "source": [
    "Vamos a quitar el boton para seguir"
   ]
  },
  {
   "cell_type": "code",
   "execution_count": 25,
   "metadata": {
    "ExecuteTime": {
     "end_time": "2021-02-26T10:22:48.546287Z",
     "start_time": "2021-02-26T10:22:48.489040Z"
    }
   },
   "outputs": [],
   "source": [
    "elements_by_tag = driver.find_elements(By.TAG_NAME,'button')\n",
    "elements_by_class_name = driver.find_elements(By.CLASS_NAME, 'css-2tkghh')\n",
    "element_by_xpath = driver.find_element(By.XPATH, '/html/body/div[1]/div/div/div/div[2]/div/button[2]')"
   ]
  },
  {
   "cell_type": "markdown",
   "metadata": {},
   "source": [
    "Una vez tenemos los elementos podemos hacer varias cosas con ellos"
   ]
  },
  {
   "cell_type": "markdown",
   "metadata": {},
   "source": [
    "Podemos extraer todos los atributos que tenga"
   ]
  },
  {
   "cell_type": "code",
   "execution_count": 26,
   "metadata": {
    "ExecuteTime": {
     "end_time": "2021-02-26T10:22:51.542538Z",
     "start_time": "2021-02-26T10:22:51.508077Z"
    }
   },
   "outputs": [
    {
     "data": {
      "text/plain": [
       "['__abstractmethods__',\n",
       " '__class__',\n",
       " '__delattr__',\n",
       " '__dict__',\n",
       " '__dir__',\n",
       " '__doc__',\n",
       " '__eq__',\n",
       " '__format__',\n",
       " '__ge__',\n",
       " '__getattribute__',\n",
       " '__gt__',\n",
       " '__hash__',\n",
       " '__init__',\n",
       " '__init_subclass__',\n",
       " '__le__',\n",
       " '__lt__',\n",
       " '__module__',\n",
       " '__ne__',\n",
       " '__new__',\n",
       " '__reduce__',\n",
       " '__reduce_ex__',\n",
       " '__repr__',\n",
       " '__setattr__',\n",
       " '__sizeof__',\n",
       " '__str__',\n",
       " '__subclasshook__',\n",
       " '__weakref__',\n",
       " '_abc_impl',\n",
       " '_execute',\n",
       " '_id',\n",
       " '_parent',\n",
       " '_upload',\n",
       " 'accessible_name',\n",
       " 'aria_role',\n",
       " 'clear',\n",
       " 'click',\n",
       " 'find_element',\n",
       " 'find_elements',\n",
       " 'get_attribute',\n",
       " 'get_dom_attribute',\n",
       " 'get_property',\n",
       " 'id',\n",
       " 'is_displayed',\n",
       " 'is_enabled',\n",
       " 'is_selected',\n",
       " 'location',\n",
       " 'location_once_scrolled_into_view',\n",
       " 'parent',\n",
       " 'rect',\n",
       " 'screenshot',\n",
       " 'screenshot_as_base64',\n",
       " 'screenshot_as_png',\n",
       " 'send_keys',\n",
       " 'shadow_root',\n",
       " 'size',\n",
       " 'submit',\n",
       " 'tag_name',\n",
       " 'text',\n",
       " 'value_of_css_property']"
      ]
     },
     "execution_count": 26,
     "metadata": {},
     "output_type": "execute_result"
    }
   ],
   "source": [
    "dir(element_by_xpath)\n",
    "# obtenemos todos sus métodos y atributos:"
   ]
  },
  {
   "cell_type": "markdown",
   "metadata": {},
   "source": [
    "Podemos evaluar que tipo de elemento es (tag)"
   ]
  },
  {
   "cell_type": "code",
   "execution_count": 27,
   "metadata": {
    "ExecuteTime": {
     "end_time": "2021-02-26T10:22:53.325430Z",
     "start_time": "2021-02-26T10:22:53.306520Z"
    }
   },
   "outputs": [
    {
     "data": {
      "text/plain": [
       "'button'"
      ]
     },
     "execution_count": 27,
     "metadata": {},
     "output_type": "execute_result"
    }
   ],
   "source": [
    "element_by_xpath.tag_name"
   ]
  },
  {
   "cell_type": "markdown",
   "metadata": {},
   "source": [
    "Podemos sacar el valor que tiene (el texto)"
   ]
  },
  {
   "cell_type": "code",
   "execution_count": 28,
   "metadata": {
    "ExecuteTime": {
     "end_time": "2021-02-26T10:22:54.583190Z",
     "start_time": "2021-02-26T10:22:54.553596Z"
    }
   },
   "outputs": [
    {
     "data": {
      "text/plain": [
       "'ACEPTO'"
      ]
     },
     "execution_count": 28,
     "metadata": {},
     "output_type": "execute_result"
    }
   ],
   "source": [
    "element_by_xpath.text"
   ]
  },
  {
   "cell_type": "code",
   "execution_count": 29,
   "metadata": {},
   "outputs": [
    {
     "name": "stderr",
     "output_type": "stream",
     "text": [
      "100%|██████████| 3/3 [00:00<00:00, 125.02it/s]"
     ]
    },
    {
     "name": "stdout",
     "output_type": "stream",
     "text": [
      "socios\n",
      "MÁS OPCIONES\n",
      "ACEPTO\n"
     ]
    },
    {
     "name": "stderr",
     "output_type": "stream",
     "text": [
      "\n"
     ]
    }
   ],
   "source": [
    "from tqdm import tqdm\n",
    "for i in tqdm(range(0,len(elements_by_tag))):\n",
    "    print(elements_by_tag[i].text)"
   ]
  },
  {
   "cell_type": "markdown",
   "metadata": {},
   "source": [
    "Incluso podemos guardar una imagen del elemento"
   ]
  },
  {
   "cell_type": "code",
   "execution_count": 30,
   "metadata": {},
   "outputs": [
    {
     "data": {
      "text/plain": [
       "selenium.webdriver.remote.webelement.WebElement"
      ]
     },
     "execution_count": 30,
     "metadata": {},
     "output_type": "execute_result"
    }
   ],
   "source": [
    "type(element_by_xpath)\n",
    "# Vemos que es tipo 'WebElement' y en la documentación podremos encontrar sus métodos"
   ]
  },
  {
   "cell_type": "code",
   "execution_count": 31,
   "metadata": {
    "ExecuteTime": {
     "end_time": "2021-02-26T10:24:41.830050Z",
     "start_time": "2021-02-26T10:24:41.510086Z"
    }
   },
   "outputs": [
    {
     "data": {
      "text/plain": [
       "True"
      ]
     },
     "execution_count": 31,
     "metadata": {},
     "output_type": "execute_result"
    }
   ],
   "source": [
    "# guardamos como 'mi_imagen.png' la imagen asociada al xpath\n",
    "element_by_xpath.screenshot('mi_imagen.png')"
   ]
  },
  {
   "cell_type": "markdown",
   "metadata": {
    "ExecuteTime": {
     "end_time": "2021-02-25T09:56:21.322475Z",
     "start_time": "2021-02-25T09:56:21.318715Z"
    }
   },
   "source": [
    "Evaluamos que elementos hemos encontrado por el tag:"
   ]
  },
  {
   "cell_type": "code",
   "execution_count": 32,
   "metadata": {
    "ExecuteTime": {
     "end_time": "2021-02-25T10:40:47.561469Z",
     "start_time": "2021-02-25T10:40:46.812684Z"
    }
   },
   "outputs": [
    {
     "name": "stdout",
     "output_type": "stream",
     "text": [
      "Elemento: 0\n",
      "Texto del elemento 0 es socios\n",
      "El tag del elemento 0 es button\n",
      "Elemento: 1\n",
      "Texto del elemento 1 es MÁS OPCIONES\n",
      "El tag del elemento 1 es button\n",
      "Elemento: 2\n",
      "Texto del elemento 2 es ACEPTO\n",
      "El tag del elemento 2 es button\n"
     ]
    }
   ],
   "source": [
    "for index, element in enumerate(elements_by_tag):\n",
    "    print('Elemento:', index)\n",
    "    print('Texto del elemento',index, 'es', element.text)\n",
    "    print('El tag del elemento',index, 'es', element.tag_name)\n",
    "    element.screenshot('mi_imagen'+str(index)+'.png')"
   ]
  },
  {
   "cell_type": "markdown",
   "metadata": {},
   "source": [
    "Basta de tonterias seguimos"
   ]
  },
  {
   "cell_type": "markdown",
   "metadata": {},
   "source": [
    "Instanciamos el elemento del tag [2] en la variable boton aceptar"
   ]
  },
  {
   "cell_type": "code",
   "execution_count": 33,
   "metadata": {
    "ExecuteTime": {
     "end_time": "2021-02-26T10:24:47.302978Z",
     "start_time": "2021-02-26T10:24:47.291261Z"
    }
   },
   "outputs": [],
   "source": [
    "boton_aceptar = elements_by_tag[2]"
   ]
  },
  {
   "cell_type": "markdown",
   "metadata": {},
   "source": [
    "Si el elemento es interactivo podremos hacer más cosas además de las anteriores. Por ejemplo: hacer click"
   ]
  },
  {
   "cell_type": "code",
   "execution_count": 34,
   "metadata": {
    "ExecuteTime": {
     "end_time": "2021-02-26T10:24:48.611716Z",
     "start_time": "2021-02-26T10:24:48.390430Z"
    }
   },
   "outputs": [],
   "source": [
    "boton_aceptar.click()"
   ]
  },
  {
   "cell_type": "markdown",
   "metadata": {},
   "source": [
    "Buscamos una película por título"
   ]
  },
  {
   "cell_type": "code",
   "execution_count": 35,
   "metadata": {},
   "outputs": [],
   "source": [
    "from selenium.webdriver.common.keys import Keys"
   ]
  },
  {
   "cell_type": "code",
   "execution_count": 38,
   "metadata": {
    "ExecuteTime": {
     "end_time": "2021-02-26T10:28:14.592155Z",
     "start_time": "2021-02-26T10:28:13.509998Z"
    }
   },
   "outputs": [],
   "source": [
    "buscador = driver.find_element(By.XPATH, '/html/body/div[2]/div[1]/div[1]/div[2]/form/div/input')"
   ]
  },
  {
   "cell_type": "code",
   "execution_count": 39,
   "metadata": {},
   "outputs": [],
   "source": [
    "buscador.send_keys('al filo del mañana')"
   ]
  },
  {
   "cell_type": "code",
   "execution_count": 40,
   "metadata": {},
   "outputs": [],
   "source": [
    "# una vez escrita la búsqueda deberíamos poder activarla:\n",
    "buscador.send_keys(Keys.ENTER)"
   ]
  },
  {
   "cell_type": "code",
   "execution_count": 41,
   "metadata": {},
   "outputs": [],
   "source": [
    "# volvemos a la página anterior\n",
    "driver.back()"
   ]
  },
  {
   "cell_type": "code",
   "execution_count": 77,
   "metadata": {},
   "outputs": [],
   "source": [
    "# buscador.clear()"
   ]
  },
  {
   "cell_type": "markdown",
   "metadata": {
    "ExecuteTime": {
     "end_time": "2021-02-25T10:09:19.308961Z",
     "start_time": "2021-02-25T10:09:19.299983Z"
    }
   },
   "source": [
    "### Vamos a buscar todas las películas que se estrenan el próximo viernes"
   ]
  },
  {
   "cell_type": "markdown",
   "metadata": {},
   "source": [
    "1. Cogemos los containers que hay en la zona lateral"
   ]
  },
  {
   "cell_type": "code",
   "execution_count": 78,
   "metadata": {
    "ExecuteTime": {
     "end_time": "2021-02-25T10:40:53.961145Z",
     "start_time": "2021-02-25T10:40:53.793388Z"
    }
   },
   "outputs": [
    {
     "ename": "WebDriverException",
     "evalue": "Message: chrome not reachable\n  (Session info: chrome=103.0.5060.114)\nStacktrace:\nBacktrace:\n\tOrdinal0 [0x003C6463+2188387]\n\tOrdinal0 [0x0035E461+1762401]\n\tOrdinal0 [0x00273C40+801856]\n\tOrdinal0 [0x00268932+756018]\n\tOrdinal0 [0x00269168+758120]\n\tOrdinal0 [0x0026AA22+764450]\n\tOrdinal0 [0x00264379+738169]\n\tOrdinal0 [0x002750D0+807120]\n\tOrdinal0 [0x002CC402+1164290]\n\tOrdinal0 [0x002BC5F6+1099254]\n\tOrdinal0 [0x00296BE0+945120]\n\tOrdinal0 [0x00297AD6+948950]\n\tGetHandleVerifier [0x006671F2+2712546]\n\tGetHandleVerifier [0x0065886D+2652765]\n\tGetHandleVerifier [0x0045002A+520730]\n\tGetHandleVerifier [0x0044EE06+516086]\n\tOrdinal0 [0x0036468B+1787531]\n\tOrdinal0 [0x00368E88+1805960]\n\tOrdinal0 [0x00368F75+1806197]\n\tOrdinal0 [0x00371DF1+1842673]\n\tBaseThreadInitThunk [0x76806739+25]\n\tRtlGetFullPathName_UEx [0x77AD8FEF+1215]\n\tRtlGetFullPathName_UEx [0x77AD8FBD+1165]\n",
     "output_type": "error",
     "traceback": [
      "\u001b[1;31m---------------------------------------------------------------------------\u001b[0m",
      "\u001b[1;31mWebDriverException\u001b[0m                        Traceback (most recent call last)",
      "\u001b[1;32mc:\\Users\\Alex\\Documents\\The_Bridge_School\\data_science_TheBridge_TA\\junio_2022\\Taller_Webscrapping\\Selenium\\Selenium_PROF.ipynb Celda 73\u001b[0m in \u001b[0;36m<cell line: 1>\u001b[1;34m()\u001b[0m\n\u001b[1;32m----> <a href='vscode-notebook-cell:/c%3A/Users/Alex/Documents/The_Bridge_School/data_science_TheBridge_TA/junio_2022/Taller_Webscrapping/Selenium/Selenium_PROF.ipynb#ch0000072?line=0'>1</a>\u001b[0m menu_lateral \u001b[39m=\u001b[39m driver\u001b[39m.\u001b[39;49mfind_element(By\u001b[39m.\u001b[39;49mID, \u001b[39m'\u001b[39;49m\u001b[39mlsmenu\u001b[39;49m\u001b[39m'\u001b[39;49m) \u001b[39m####### si se corrompe el navegador seleciona cualquier pagina distinta a proximos extrenos y ejecuta desde aqui\u001b[39;00m\n\u001b[0;32m      <a href='vscode-notebook-cell:/c%3A/Users/Alex/Documents/The_Bridge_School/data_science_TheBridge_TA/junio_2022/Taller_Webscrapping/Selenium/Selenium_PROF.ipynb#ch0000072?line=1'>2</a>\u001b[0m menu_lateral\n",
      "File \u001b[1;32mc:\\Users\\Alex\\Documents\\The_Bridge_School\\data_science_TheBridge_TA\\junio_2022\\Taller_Webscrapping\\.venv_webscrapping\\lib\\site-packages\\selenium\\webdriver\\remote\\webdriver.py:857\u001b[0m, in \u001b[0;36mWebDriver.find_element\u001b[1;34m(self, by, value)\u001b[0m\n\u001b[0;32m    854\u001b[0m     by \u001b[39m=\u001b[39m By\u001b[39m.\u001b[39mCSS_SELECTOR\n\u001b[0;32m    855\u001b[0m     value \u001b[39m=\u001b[39m \u001b[39m'\u001b[39m\u001b[39m[name=\u001b[39m\u001b[39m\"\u001b[39m\u001b[39m%s\u001b[39;00m\u001b[39m\"\u001b[39m\u001b[39m]\u001b[39m\u001b[39m'\u001b[39m \u001b[39m%\u001b[39m value\n\u001b[1;32m--> 857\u001b[0m \u001b[39mreturn\u001b[39;00m \u001b[39mself\u001b[39;49m\u001b[39m.\u001b[39;49mexecute(Command\u001b[39m.\u001b[39;49mFIND_ELEMENT, {\n\u001b[0;32m    858\u001b[0m     \u001b[39m'\u001b[39;49m\u001b[39musing\u001b[39;49m\u001b[39m'\u001b[39;49m: by,\n\u001b[0;32m    859\u001b[0m     \u001b[39m'\u001b[39;49m\u001b[39mvalue\u001b[39;49m\u001b[39m'\u001b[39;49m: value})[\u001b[39m'\u001b[39m\u001b[39mvalue\u001b[39m\u001b[39m'\u001b[39m]\n",
      "File \u001b[1;32mc:\\Users\\Alex\\Documents\\The_Bridge_School\\data_science_TheBridge_TA\\junio_2022\\Taller_Webscrapping\\.venv_webscrapping\\lib\\site-packages\\selenium\\webdriver\\remote\\webdriver.py:435\u001b[0m, in \u001b[0;36mWebDriver.execute\u001b[1;34m(self, driver_command, params)\u001b[0m\n\u001b[0;32m    433\u001b[0m response \u001b[39m=\u001b[39m \u001b[39mself\u001b[39m\u001b[39m.\u001b[39mcommand_executor\u001b[39m.\u001b[39mexecute(driver_command, params)\n\u001b[0;32m    434\u001b[0m \u001b[39mif\u001b[39;00m response:\n\u001b[1;32m--> 435\u001b[0m     \u001b[39mself\u001b[39;49m\u001b[39m.\u001b[39;49merror_handler\u001b[39m.\u001b[39;49mcheck_response(response)\n\u001b[0;32m    436\u001b[0m     response[\u001b[39m'\u001b[39m\u001b[39mvalue\u001b[39m\u001b[39m'\u001b[39m] \u001b[39m=\u001b[39m \u001b[39mself\u001b[39m\u001b[39m.\u001b[39m_unwrap_value(\n\u001b[0;32m    437\u001b[0m         response\u001b[39m.\u001b[39mget(\u001b[39m'\u001b[39m\u001b[39mvalue\u001b[39m\u001b[39m'\u001b[39m, \u001b[39mNone\u001b[39;00m))\n\u001b[0;32m    438\u001b[0m     \u001b[39mreturn\u001b[39;00m response\n",
      "File \u001b[1;32mc:\\Users\\Alex\\Documents\\The_Bridge_School\\data_science_TheBridge_TA\\junio_2022\\Taller_Webscrapping\\.venv_webscrapping\\lib\\site-packages\\selenium\\webdriver\\remote\\errorhandler.py:247\u001b[0m, in \u001b[0;36mErrorHandler.check_response\u001b[1;34m(self, response)\u001b[0m\n\u001b[0;32m    245\u001b[0m         alert_text \u001b[39m=\u001b[39m value[\u001b[39m'\u001b[39m\u001b[39malert\u001b[39m\u001b[39m'\u001b[39m]\u001b[39m.\u001b[39mget(\u001b[39m'\u001b[39m\u001b[39mtext\u001b[39m\u001b[39m'\u001b[39m)\n\u001b[0;32m    246\u001b[0m     \u001b[39mraise\u001b[39;00m exception_class(message, screen, stacktrace, alert_text)  \u001b[39m# type: ignore[call-arg]  # mypy is not smart enough here\u001b[39;00m\n\u001b[1;32m--> 247\u001b[0m \u001b[39mraise\u001b[39;00m exception_class(message, screen, stacktrace)\n",
      "\u001b[1;31mWebDriverException\u001b[0m: Message: chrome not reachable\n  (Session info: chrome=103.0.5060.114)\nStacktrace:\nBacktrace:\n\tOrdinal0 [0x003C6463+2188387]\n\tOrdinal0 [0x0035E461+1762401]\n\tOrdinal0 [0x00273C40+801856]\n\tOrdinal0 [0x00268932+756018]\n\tOrdinal0 [0x00269168+758120]\n\tOrdinal0 [0x0026AA22+764450]\n\tOrdinal0 [0x00264379+738169]\n\tOrdinal0 [0x002750D0+807120]\n\tOrdinal0 [0x002CC402+1164290]\n\tOrdinal0 [0x002BC5F6+1099254]\n\tOrdinal0 [0x00296BE0+945120]\n\tOrdinal0 [0x00297AD6+948950]\n\tGetHandleVerifier [0x006671F2+2712546]\n\tGetHandleVerifier [0x0065886D+2652765]\n\tGetHandleVerifier [0x0045002A+520730]\n\tGetHandleVerifier [0x0044EE06+516086]\n\tOrdinal0 [0x0036468B+1787531]\n\tOrdinal0 [0x00368E88+1805960]\n\tOrdinal0 [0x00368F75+1806197]\n\tOrdinal0 [0x00371DF1+1842673]\n\tBaseThreadInitThunk [0x76806739+25]\n\tRtlGetFullPathName_UEx [0x77AD8FEF+1215]\n\tRtlGetFullPathName_UEx [0x77AD8FBD+1165]\n"
     ]
    }
   ],
   "source": [
    "menu_lateral = driver.find_element(By.ID, 'lsmenu') ####### si se corrompe el navegador seleciona cualquier pagina distinta a proximos extrenos y ejecuta desde aqui\n",
    "menu_lateral"
   ]
  },
  {
   "cell_type": "code",
   "execution_count": 47,
   "metadata": {},
   "outputs": [],
   "source": [
    "mis_secciones = menu_lateral.find_elements(By.TAG_NAME, 'a')"
   ]
  },
  {
   "cell_type": "markdown",
   "metadata": {},
   "source": [
    "2. Vemos con cuál nos tenemos que quedar"
   ]
  },
  {
   "cell_type": "code",
   "execution_count": 48,
   "metadata": {
    "ExecuteTime": {
     "end_time": "2021-02-25T10:40:55.130681Z",
     "start_time": "2021-02-25T10:40:54.930234Z"
    }
   },
   "outputs": [
    {
     "name": "stderr",
     "output_type": "stream",
     "text": [
      " 11%|█         | 5/45 [00:01<00:09,  4.17it/s]\n"
     ]
    }
   ],
   "source": [
    "for a in tqdm(mis_secciones):\n",
    "    if a.text == 'Próximos estrenos':\n",
    "        a.click()\n",
    "        break"
   ]
  },
  {
   "cell_type": "markdown",
   "metadata": {},
   "source": [
    "Accedemos al container central, en el que aparecen los estrenos por semana que queremos ver, exactamente igual que hemos hecho antes"
   ]
  },
  {
   "cell_type": "code",
   "execution_count": 49,
   "metadata": {
    "ExecuteTime": {
     "end_time": "2021-02-25T10:43:53.772471Z",
     "start_time": "2021-02-25T10:43:53.757510Z"
    }
   },
   "outputs": [],
   "source": [
    "cajon_central = driver.find_elements(By.ID, 'main-wrapper-rdcat')"
   ]
  },
  {
   "cell_type": "code",
   "execution_count": 50,
   "metadata": {},
   "outputs": [
    {
     "data": {
      "text/plain": [
       "list"
      ]
     },
     "execution_count": 50,
     "metadata": {},
     "output_type": "execute_result"
    }
   ],
   "source": [
    "type(cajon_central)"
   ]
  },
  {
   "cell_type": "code",
   "execution_count": 51,
   "metadata": {
    "ExecuteTime": {
     "end_time": "2021-02-25T11:04:59.734561Z",
     "start_time": "2021-02-25T11:04:59.617626Z"
    }
   },
   "outputs": [
    {
     "name": "stdout",
     "output_type": "stream",
     "text": [
      "14 de julio de 2022\n",
      "2022-07-14\n",
      "15 de julio de 2022\n",
      "2022-07-15\n",
      "22 de julio de 2022\n",
      "2022-07-22\n",
      "29 de julio de 2022\n",
      "2022-07-29\n",
      "5 de agosto de 2022\n",
      "2022-08-05\n",
      "12 de agosto de 2022\n",
      "2022-08-12\n",
      "19 de agosto de 2022\n",
      "2022-08-19\n",
      "26 de agosto de 2022\n",
      "2022-08-26\n"
     ]
    }
   ],
   "source": [
    "for semana in cajon_central:\n",
    "    print(semana.find_element(By.TAG_NAME, 'div').text)\n",
    "    print(semana.find_element(By.TAG_NAME, 'div').get_attribute('id'))"
   ]
  },
  {
   "cell_type": "markdown",
   "metadata": {},
   "source": [
    "El siguiente comando es para buscar un boton y darle click en un solo paso"
   ]
  },
  {
   "cell_type": "code",
   "execution_count": 54,
   "metadata": {},
   "outputs": [],
   "source": [
    "driver.find_element(By.XPATH, '//*[@id=\"mt-content-cell\"]/div[5]/a[2]/div').click()"
   ]
  },
  {
   "cell_type": "code",
   "execution_count": 56,
   "metadata": {},
   "outputs": [
    {
     "name": "stdout",
     "output_type": "stream",
     "text": [
      "8 de julio de 2022\n",
      "2022-07-08\n",
      "1 de julio de 2022\n",
      "2022-07-01\n",
      "24 de junio de 2022\n",
      "2022-06-24\n",
      "17 de junio de 2022\n",
      "2022-06-17\n",
      "9 de junio de 2022\n",
      "2022-06-09\n",
      "3 de junio de 2022\n",
      "2022-06-03\n"
     ]
    }
   ],
   "source": [
    "cajon_central = driver.find_elements(By.ID, 'main-wrapper-rdcat')\n",
    "for semana in cajon_central:\n",
    "    print(semana.find_element(By.TAG_NAME, 'div').text)\n",
    "    print(semana.find_element(By.TAG_NAME, 'div').get_attribute('id'))"
   ]
  },
  {
   "cell_type": "code",
   "execution_count": 57,
   "metadata": {},
   "outputs": [
    {
     "name": "stdout",
     "output_type": "stream",
     "text": [
      "ok\n"
     ]
    }
   ],
   "source": [
    "for semana in cajon_central:\n",
    "    fecha = semana.find_element(By.TAG_NAME, 'div').get_attribute('id')\n",
    "    if fecha == '2022-06-17':\n",
    "        print('ok')\n",
    "        break"
   ]
  },
  {
   "cell_type": "markdown",
   "metadata": {
    "ExecuteTime": {
     "end_time": "2021-02-25T11:04:08.219853Z",
     "start_time": "2021-02-25T11:04:08.215863Z"
    }
   },
   "source": [
    "Buscamos cómo acceder a las películas"
   ]
  },
  {
   "cell_type": "code",
   "execution_count": 58,
   "metadata": {
    "ExecuteTime": {
     "end_time": "2021-02-25T11:10:28.294864Z",
     "start_time": "2021-02-25T11:10:28.174126Z"
    }
   },
   "outputs": [],
   "source": [
    "caratulas = semana.find_elements(By.CLASS_NAME, 'mc-poster')\n",
    "lista_pelis = []\n",
    "for peli in caratulas:\n",
    "    lista_pelis.append(peli.find_element(By.TAG_NAME, 'a').get_attribute('href'))"
   ]
  },
  {
   "cell_type": "code",
   "execution_count": 59,
   "metadata": {},
   "outputs": [
    {
     "data": {
      "text/plain": [
       "['https://www.filmaffinity.com/es/film463196.html',\n",
       " 'https://www.filmaffinity.com/es/film695730.html',\n",
       " 'https://www.filmaffinity.com/es/film696765.html',\n",
       " 'https://www.filmaffinity.com/es/film300039.html',\n",
       " 'https://www.filmaffinity.com/es/film808865.html',\n",
       " 'https://www.filmaffinity.com/es/film754398.html',\n",
       " 'https://www.filmaffinity.com/es/film428934.html',\n",
       " 'https://www.filmaffinity.com/es/film316289.html']"
      ]
     },
     "execution_count": 59,
     "metadata": {},
     "output_type": "execute_result"
    }
   ],
   "source": [
    "lista_pelis"
   ]
  },
  {
   "cell_type": "markdown",
   "metadata": {},
   "source": [
    "Una vez tenemos todas las urls vamos a ver qué hacemos con cada una de ellas"
   ]
  },
  {
   "cell_type": "code",
   "execution_count": 60,
   "metadata": {
    "ExecuteTime": {
     "end_time": "2021-02-25T11:15:40.003059Z",
     "start_time": "2021-02-25T11:15:39.091047Z"
    }
   },
   "outputs": [],
   "source": [
    "# Accedemos a la página de la primera pelicula\n",
    "driver.get(lista_pelis[0])"
   ]
  },
  {
   "cell_type": "markdown",
   "metadata": {
    "ExecuteTime": {
     "end_time": "2021-02-25T11:21:51.020248Z",
     "start_time": "2021-02-25T11:21:50.381138Z"
    }
   },
   "source": [
    "Vamos a ver el proceso que deberíamos hacer con cada una de las películas:"
   ]
  },
  {
   "cell_type": "markdown",
   "metadata": {},
   "source": [
    "1. Sacamos toda la información que nos interesa"
   ]
  },
  {
   "cell_type": "code",
   "execution_count": 61,
   "metadata": {
    "ExecuteTime": {
     "end_time": "2021-02-25T11:36:58.487622Z",
     "start_time": "2021-02-25T11:36:58.420292Z"
    }
   },
   "outputs": [],
   "source": [
    "# titulo, nota, numero de votos y ficha técnica\n",
    "titulo = driver.find_element(By.XPATH, '/html/body/div[4]/table/tbody/tr/td[2]/div[1]/div[4]/h1/span').text\n",
    "nota = driver.find_element(By.XPATH, '/html/body/div[4]/table/tbody/tr/td[2]/div[1]/div[4]/div/div[2]/div[2]/div[1]/div[2]/div[1]').text\n",
    "votos = driver.find_element(By.XPATH, '/html/body/div[4]/table/tbody/tr/td[2]/div[1]/div[4]/div/div[2]/div[2]/div[1]/div[2]/div[2]/span').text\n",
    "ficha = driver.find_element(By.XPATH, '/html/body/div[4]/table/tbody/tr/td[2]/div[1]/div[4]/div/div[3]/dl[1]')"
   ]
  },
  {
   "cell_type": "code",
   "execution_count": 62,
   "metadata": {},
   "outputs": [
    {
     "data": {
      "text/plain": [
       "'Lightyear'"
      ]
     },
     "execution_count": 62,
     "metadata": {},
     "output_type": "execute_result"
    }
   ],
   "source": [
    "titulo"
   ]
  },
  {
   "cell_type": "markdown",
   "metadata": {},
   "source": [
    "2. Creamos una lista a partir de la ficha técnica"
   ]
  },
  {
   "cell_type": "code",
   "execution_count": 63,
   "metadata": {
    "ExecuteTime": {
     "end_time": "2021-02-25T11:34:54.218938Z",
     "start_time": "2021-02-25T11:34:53.923558Z"
    }
   },
   "outputs": [],
   "source": [
    "# Los nombres estan con tag  = 'dt' y los valores con 'dd'\n",
    "ficha_names = []\n",
    "ficha_values = []\n",
    "\n",
    "for name in ficha.find_elements(By.TAG_NAME, 'dt'):\n",
    "    ficha_names.append(name.text)\n",
    "for value in ficha.find_elements(By.TAG_NAME, 'dd'):\n",
    "    ficha_values.append(value.text)"
   ]
  },
  {
   "cell_type": "code",
   "execution_count": 64,
   "metadata": {},
   "outputs": [
    {
     "data": {
      "text/plain": [
       "['Lightyear',\n",
       " '2022',\n",
       " '100 min.',\n",
       " ' Estados Unidos',\n",
       " 'Angus MacLane',\n",
       " 'Jason Headley, Angus MacLane, Matthew Aldrich. Personaje: John Lasseter, Pete Docter, Andrew Stanton, Joe Ranft',\n",
       " 'Michael Giacchino',\n",
       " 'Animación, Jeremy Lasky, Ian Megibben',\n",
       " 'Animación',\n",
       " 'Pixar Animation Studios, Walt Disney Pictures. Distribuidora: Walt Disney Pictures',\n",
       " 'Animación. Aventuras. Ciencia ficción. Comedia | Cine familiar. Aventura espacial. Robots. Pixar. Spin-off',\n",
       " 'Toy Story | Pixar (Películas)',\n",
       " 'La historia del origen de Buzz Lightyear, el héroe que inspiró el juguete, y que nos da a conocer al legendario Guardián Espacial que acabaría contando con generaciones de fans. (FILMAFFINITY)']"
      ]
     },
     "execution_count": 64,
     "metadata": {},
     "output_type": "execute_result"
    }
   ],
   "source": [
    "ficha_values"
   ]
  },
  {
   "cell_type": "markdown",
   "metadata": {},
   "source": [
    "3. Creamos un dataframe con la info"
   ]
  },
  {
   "cell_type": "code",
   "execution_count": 65,
   "metadata": {
    "ExecuteTime": {
     "end_time": "2021-02-25T11:38:19.916044Z",
     "start_time": "2021-02-25T11:38:19.899094Z"
    }
   },
   "outputs": [
    {
     "data": {
      "text/plain": [
       "16"
      ]
     },
     "execution_count": 65,
     "metadata": {},
     "output_type": "execute_result"
    }
   ],
   "source": [
    "columns = ['Titulo', 'Nota', 'Votos']\n",
    "columns.extend(ficha_names)\n",
    "len(columns)"
   ]
  },
  {
   "cell_type": "code",
   "execution_count": 66,
   "metadata": {},
   "outputs": [
    {
     "data": {
      "text/plain": [
       "16"
      ]
     },
     "execution_count": 66,
     "metadata": {},
     "output_type": "execute_result"
    }
   ],
   "source": [
    "values = [titulo, nota, votos]\n",
    "values.extend(ficha_values)\n",
    "len(values)"
   ]
  },
  {
   "cell_type": "code",
   "execution_count": 67,
   "metadata": {},
   "outputs": [
    {
     "data": {
      "text/html": [
       "<div>\n",
       "<style scoped>\n",
       "    .dataframe tbody tr th:only-of-type {\n",
       "        vertical-align: middle;\n",
       "    }\n",
       "\n",
       "    .dataframe tbody tr th {\n",
       "        vertical-align: top;\n",
       "    }\n",
       "\n",
       "    .dataframe thead th {\n",
       "        text-align: right;\n",
       "    }\n",
       "</style>\n",
       "<table border=\"1\" class=\"dataframe\">\n",
       "  <thead>\n",
       "    <tr style=\"text-align: right;\">\n",
       "      <th></th>\n",
       "      <th>Titulo</th>\n",
       "      <th>Nota</th>\n",
       "      <th>Votos</th>\n",
       "      <th>Título original</th>\n",
       "      <th>Año</th>\n",
       "      <th>Duración</th>\n",
       "      <th>País</th>\n",
       "      <th>Dirección</th>\n",
       "      <th>Guion</th>\n",
       "      <th>Música</th>\n",
       "      <th>Fotografía</th>\n",
       "      <th>Reparto</th>\n",
       "      <th>Productora</th>\n",
       "      <th>Género</th>\n",
       "      <th>Grupos</th>\n",
       "      <th>Sinopsis</th>\n",
       "    </tr>\n",
       "  </thead>\n",
       "  <tbody>\n",
       "    <tr>\n",
       "      <th>0</th>\n",
       "      <td>Lightyear</td>\n",
       "      <td>6,0</td>\n",
       "      <td>2.329</td>\n",
       "      <td>Lightyear</td>\n",
       "      <td>2022</td>\n",
       "      <td>100 min.</td>\n",
       "      <td>Estados Unidos</td>\n",
       "      <td>Angus MacLane</td>\n",
       "      <td>Jason Headley, Angus MacLane, Matthew Aldrich....</td>\n",
       "      <td>Michael Giacchino</td>\n",
       "      <td>Animación, Jeremy Lasky, Ian Megibben</td>\n",
       "      <td>Animación</td>\n",
       "      <td>Pixar Animation Studios, Walt Disney Pictures....</td>\n",
       "      <td>Animación. Aventuras. Ciencia ficción. Comedia...</td>\n",
       "      <td>Toy Story | Pixar (Películas)</td>\n",
       "      <td>La historia del origen de Buzz Lightyear, el h...</td>\n",
       "    </tr>\n",
       "  </tbody>\n",
       "</table>\n",
       "</div>"
      ],
      "text/plain": [
       "      Titulo Nota  Votos Título original   Año  Duración             País  \\\n",
       "0  Lightyear  6,0  2.329       Lightyear  2022  100 min.   Estados Unidos   \n",
       "\n",
       "       Dirección                                              Guion  \\\n",
       "0  Angus MacLane  Jason Headley, Angus MacLane, Matthew Aldrich....   \n",
       "\n",
       "              Música                             Fotografía    Reparto  \\\n",
       "0  Michael Giacchino  Animación, Jeremy Lasky, Ian Megibben  Animación   \n",
       "\n",
       "                                          Productora  \\\n",
       "0  Pixar Animation Studios, Walt Disney Pictures....   \n",
       "\n",
       "                                              Género  \\\n",
       "0  Animación. Aventuras. Ciencia ficción. Comedia...   \n",
       "\n",
       "                          Grupos  \\\n",
       "0  Toy Story | Pixar (Películas)   \n",
       "\n",
       "                                            Sinopsis  \n",
       "0  La historia del origen de Buzz Lightyear, el h...  "
      ]
     },
     "execution_count": 67,
     "metadata": {},
     "output_type": "execute_result"
    }
   ],
   "source": [
    "pd.DataFrame([values],columns=columns)"
   ]
  },
  {
   "cell_type": "markdown",
   "metadata": {},
   "source": [
    "Ahora vamos a crear una función que nos haga todo esto para cada una de las películas:"
   ]
  },
  {
   "cell_type": "code",
   "execution_count": 68,
   "metadata": {
    "ExecuteTime": {
     "end_time": "2021-02-25T11:58:39.349919Z",
     "start_time": "2021-02-25T11:58:39.052802Z"
    }
   },
   "outputs": [],
   "source": [
    "def sacar_info(driver):\n",
    "    \n",
    "    titulo = driver.find_element(By.XPATH, '/html/body/div[4]/table/tbody/tr/td[2]/div[1]/div[4]/h1/span').text\n",
    "    try:\n",
    "        nota = driver.find_element(By.XPATH, '/html/body/div[4]/table/tbody/tr/td[2]/div[1]/div[4]/div/div[2]/div[2]/div[1]/div[2]/div[1]').text\n",
    "        votos = driver.find_element(By.XPATH, '/html/body/div[4]/table/tbody/tr/td[2]/div[1]/div[4]/div/div[2]/div[2]/div[1]/div[2]/div[2]/span').text\n",
    "    except:\n",
    "        nota = None\n",
    "        votos = None\n",
    "    ficha = driver.find_element(By.XPATH, '/html/body/div[4]/table/tbody/tr/td[2]/div[1]/div[4]/div/div[3]/dl[1]')\n",
    "    \n",
    "    return titulo, nota, votos, ficha\n",
    "\n",
    "def sacar_ficha(ficha):\n",
    "    \n",
    "    ficha_names = []\n",
    "    ficha_values = []\n",
    "\n",
    "    for name in ficha.find_elements(By.TAG_NAME, 'dt'):\n",
    "        ficha_names.append(name.text)\n",
    "    for value in ficha.find_elements(By.TAG_NAME, 'dd'):\n",
    "        ficha_values.append(value.text)\n",
    "        \n",
    "    return ficha_names, ficha_values\n",
    "\n",
    "def montar_df(ficha_names, ficha_values, titulo, nota, votos):\n",
    "    \n",
    "    columns = ['Titulo', 'Nota', 'Votos']\n",
    "    columns.extend(ficha_names)\n",
    "    values = [titulo, nota, votos]\n",
    "    values.extend(ficha_values)\n",
    "    \n",
    "    return pd.DataFrame([values], columns = columns)\n",
    "    \n",
    "def nueva_pelicula(driver):\n",
    "    \n",
    "    titulo, nota, votos, ficha = sacar_info(driver)\n",
    "    ficha_names, ficha_values = sacar_ficha(ficha)\n",
    "    df_peli = montar_df(ficha_names, ficha_values, titulo, nota, votos)\n",
    "    \n",
    "    return df_peli\n"
   ]
  },
  {
   "cell_type": "markdown",
   "metadata": {},
   "source": [
    "Vamos a ver cómo nos podemos mover entre ventanas del navegador\n",
    "\n",
    "Abrir nueva ventana:"
   ]
  },
  {
   "cell_type": "code",
   "execution_count": 69,
   "metadata": {},
   "outputs": [],
   "source": [
    "driver.execute_script('window.open(\"\");')"
   ]
  },
  {
   "cell_type": "markdown",
   "metadata": {},
   "source": [
    "Movernos a otra ventana"
   ]
  },
  {
   "cell_type": "code",
   "execution_count": 70,
   "metadata": {},
   "outputs": [],
   "source": [
    "driver.switch_to.window(driver.window_handles[0])"
   ]
  },
  {
   "cell_type": "markdown",
   "metadata": {},
   "source": [
    "Cerrar ventana"
   ]
  },
  {
   "cell_type": "code",
   "execution_count": 71,
   "metadata": {
    "ExecuteTime": {
     "end_time": "2021-02-25T12:04:17.177986Z",
     "start_time": "2021-02-25T12:04:17.160442Z"
    }
   },
   "outputs": [],
   "source": [
    "driver.close()"
   ]
  },
  {
   "cell_type": "markdown",
   "metadata": {},
   "source": [
    "Una vez cerramos la ventana tenemos que indicarle a qué ventana tiene que ir"
   ]
  },
  {
   "cell_type": "code",
   "execution_count": 72,
   "metadata": {
    "ExecuteTime": {
     "end_time": "2021-02-25T12:05:01.711952Z",
     "start_time": "2021-02-25T12:05:01.583709Z"
    }
   },
   "outputs": [],
   "source": [
    "driver.switch_to.window(driver.window_handles[-1])"
   ]
  },
  {
   "cell_type": "markdown",
   "metadata": {},
   "source": [
    "Sabiendo cómo podemos movernos por entre las ventanas y sabiendo cómo extraer de cada página toda la información que necesitamos vamos a crear nuestro dataframe:"
   ]
  },
  {
   "cell_type": "code",
   "execution_count": 73,
   "metadata": {},
   "outputs": [],
   "source": [
    "# para abrir todos los links en lista_pelis\n",
    "for link in lista_pelis:\n",
    "    driver.execute_script('window.open(\"'+link+'\");')\n",
    "    driver.get(link)"
   ]
  },
  {
   "cell_type": "code",
   "execution_count": 75,
   "metadata": {
    "ExecuteTime": {
     "end_time": "2021-02-25T12:00:27.038323Z",
     "start_time": "2021-02-25T11:59:37.219902Z"
    }
   },
   "outputs": [
    {
     "name": "stderr",
     "output_type": "stream",
     "text": [
      "C:\\Users\\Alex\\AppData\\Local\\Temp\\ipykernel_3496\\2147100405.py:9: FutureWarning: The frame.append method is deprecated and will be removed from pandas in a future version. Use pandas.concat instead.\n",
      "  df_peliculas = df_peliculas.append(nueva_peli)\n",
      "C:\\Users\\Alex\\AppData\\Local\\Temp\\ipykernel_3496\\2147100405.py:9: FutureWarning: The frame.append method is deprecated and will be removed from pandas in a future version. Use pandas.concat instead.\n",
      "  df_peliculas = df_peliculas.append(nueva_peli)\n",
      "C:\\Users\\Alex\\AppData\\Local\\Temp\\ipykernel_3496\\2147100405.py:9: FutureWarning: The frame.append method is deprecated and will be removed from pandas in a future version. Use pandas.concat instead.\n",
      "  df_peliculas = df_peliculas.append(nueva_peli)\n",
      "C:\\Users\\Alex\\AppData\\Local\\Temp\\ipykernel_3496\\2147100405.py:9: FutureWarning: The frame.append method is deprecated and will be removed from pandas in a future version. Use pandas.concat instead.\n",
      "  df_peliculas = df_peliculas.append(nueva_peli)\n",
      "C:\\Users\\Alex\\AppData\\Local\\Temp\\ipykernel_3496\\2147100405.py:9: FutureWarning: The frame.append method is deprecated and will be removed from pandas in a future version. Use pandas.concat instead.\n",
      "  df_peliculas = df_peliculas.append(nueva_peli)\n",
      "C:\\Users\\Alex\\AppData\\Local\\Temp\\ipykernel_3496\\2147100405.py:9: FutureWarning: The frame.append method is deprecated and will be removed from pandas in a future version. Use pandas.concat instead.\n",
      "  df_peliculas = df_peliculas.append(nueva_peli)\n",
      "C:\\Users\\Alex\\AppData\\Local\\Temp\\ipykernel_3496\\2147100405.py:9: FutureWarning: The frame.append method is deprecated and will be removed from pandas in a future version. Use pandas.concat instead.\n",
      "  df_peliculas = df_peliculas.append(nueva_peli)\n",
      "C:\\Users\\Alex\\AppData\\Local\\Temp\\ipykernel_3496\\2147100405.py:9: FutureWarning: The frame.append method is deprecated and will be removed from pandas in a future version. Use pandas.concat instead.\n",
      "  df_peliculas = df_peliculas.append(nueva_peli)\n"
     ]
    }
   ],
   "source": [
    "# Creamos un dataframe con todas las pelis que se estrenan la próxima semana:\n",
    "df_peliculas = pd.DataFrame()\n",
    "\n",
    "for link in lista_pelis:\n",
    "    driver.execute_script('window.open(\"\");')\n",
    "    driver.switch_to.window(driver.window_handles[-1])\n",
    "    driver.get(link)\n",
    "    nueva_peli = nueva_pelicula(driver)\n",
    "    df_peliculas = df_peliculas.append(nueva_peli)"
   ]
  },
  {
   "cell_type": "code",
   "execution_count": 76,
   "metadata": {
    "ExecuteTime": {
     "end_time": "2021-02-25T12:00:36.221987Z",
     "start_time": "2021-02-25T12:00:36.207006Z"
    }
   },
   "outputs": [
    {
     "name": "stdout",
     "output_type": "stream",
     "text": [
      "<class 'pandas.core.frame.DataFrame'>\n",
      "Int64Index: 8 entries, 0 to 0\n",
      "Data columns (total 16 columns):\n",
      " #   Column           Non-Null Count  Dtype \n",
      "---  ------           --------------  ----- \n",
      " 0   Titulo           8 non-null      object\n",
      " 1   Nota             8 non-null      object\n",
      " 2   Votos            8 non-null      object\n",
      " 3   Título original  8 non-null      object\n",
      " 4   Año              8 non-null      object\n",
      " 5   Duración         8 non-null      object\n",
      " 6   País             8 non-null      object\n",
      " 7   Dirección        8 non-null      object\n",
      " 8   Guion            8 non-null      object\n",
      " 9   Música           7 non-null      object\n",
      " 10  Fotografía       8 non-null      object\n",
      " 11  Reparto          8 non-null      object\n",
      " 12  Productora       8 non-null      object\n",
      " 13  Género           8 non-null      object\n",
      " 14  Grupos           1 non-null      object\n",
      " 15  Sinopsis         8 non-null      object\n",
      "dtypes: object(16)\n",
      "memory usage: 1.1+ KB\n"
     ]
    }
   ],
   "source": [
    "df_peliculas.info()"
   ]
  },
  {
   "cell_type": "code",
   "execution_count": 347,
   "metadata": {},
   "outputs": [
    {
     "data": {
      "text/html": [
       "<div>\n",
       "<style scoped>\n",
       "    .dataframe tbody tr th:only-of-type {\n",
       "        vertical-align: middle;\n",
       "    }\n",
       "\n",
       "    .dataframe tbody tr th {\n",
       "        vertical-align: top;\n",
       "    }\n",
       "\n",
       "    .dataframe thead th {\n",
       "        text-align: right;\n",
       "    }\n",
       "</style>\n",
       "<table border=\"1\" class=\"dataframe\">\n",
       "  <thead>\n",
       "    <tr style=\"text-align: right;\">\n",
       "      <th></th>\n",
       "      <th>Titulo</th>\n",
       "      <th>Nota</th>\n",
       "      <th>Votos</th>\n",
       "      <th>Título original</th>\n",
       "      <th>Año</th>\n",
       "      <th>Duración</th>\n",
       "      <th>País</th>\n",
       "      <th>Dirección</th>\n",
       "      <th>Guion</th>\n",
       "      <th>Música</th>\n",
       "      <th>Fotografía</th>\n",
       "      <th>Reparto</th>\n",
       "      <th>Productora</th>\n",
       "      <th>Género</th>\n",
       "      <th>Grupos</th>\n",
       "      <th>Sinopsis</th>\n",
       "    </tr>\n",
       "  </thead>\n",
       "  <tbody>\n",
       "    <tr>\n",
       "      <th>0</th>\n",
       "      <td>Lightyear</td>\n",
       "      <td>6,0</td>\n",
       "      <td>2.269</td>\n",
       "      <td>Lightyear</td>\n",
       "      <td>2022</td>\n",
       "      <td>100 min.</td>\n",
       "      <td>Estados Unidos</td>\n",
       "      <td>Angus MacLane</td>\n",
       "      <td>Jason Headley, Angus MacLane, Matthew Aldrich....</td>\n",
       "      <td>Michael Giacchino</td>\n",
       "      <td>Animación, Jeremy Lasky, Ian Megibben</td>\n",
       "      <td>Animación</td>\n",
       "      <td>Pixar Animation Studios, Walt Disney Pictures....</td>\n",
       "      <td>Animación. Aventuras. Ciencia ficción. Comedia...</td>\n",
       "      <td>Toy Story | Pixar (Películas)</td>\n",
       "      <td>La historia del origen de Buzz Lightyear, el h...</td>\n",
       "    </tr>\n",
       "    <tr>\n",
       "      <th>0</th>\n",
       "      <td>El insoportable peso de un talento descomunal</td>\n",
       "      <td>6,2</td>\n",
       "      <td>1.302</td>\n",
       "      <td>The Unbearable Weight of Massive Talent</td>\n",
       "      <td>2022</td>\n",
       "      <td>105 min.</td>\n",
       "      <td>Estados Unidos</td>\n",
       "      <td>Tom Gormican</td>\n",
       "      <td>Kevin Etten, Tom Gormican</td>\n",
       "      <td>Mark Isham</td>\n",
       "      <td>Nigel Bluck</td>\n",
       "      <td>Nicolas Cage, Pedro Pascal, Tiffany Haddish, S...</td>\n",
       "      <td>Lionsgate, Saturn Films. Distribuidora: Lionsgate</td>\n",
       "      <td>Acción. Comedia | Comedia negra. Secuestros / ...</td>\n",
       "      <td>NaN</td>\n",
       "      <td>Nicolas Cage se interpreta a sí mismo en esta ...</td>\n",
       "    </tr>\n",
       "    <tr>\n",
       "      <th>0</th>\n",
       "      <td>La brigada de la cocina</td>\n",
       "      <td>5,8</td>\n",
       "      <td>75</td>\n",
       "      <td>La brigade</td>\n",
       "      <td>2022</td>\n",
       "      <td>97 min.</td>\n",
       "      <td>Francia</td>\n",
       "      <td>Louis-Julien Petit</td>\n",
       "      <td>Liza Benguigui, Sophie Bensadoun, Louis-Julien...</td>\n",
       "      <td>Laurent Perez del Mar</td>\n",
       "      <td>David Chambille</td>\n",
       "      <td>Audrey Lamy, François Cluzet, Chantal Neuwirth...</td>\n",
       "      <td>Odyssée Pictures, Apollo Films, France 3 Ciném...</td>\n",
       "      <td>Comedia | Cocina</td>\n",
       "      <td>NaN</td>\n",
       "      <td>Cathy es una estricta chef de 40 años. Cuando ...</td>\n",
       "    </tr>\n",
       "    <tr>\n",
       "      <th>0</th>\n",
       "      <td>Estamos hechos para entendernos</td>\n",
       "      <td>6,4</td>\n",
       "      <td>32</td>\n",
       "      <td>On est fait pour s'entendre</td>\n",
       "      <td>2021</td>\n",
       "      <td>93 min.</td>\n",
       "      <td>Francia</td>\n",
       "      <td>Pascal Elbé</td>\n",
       "      <td>Pascal Elbé</td>\n",
       "      <td>Christophe Minck</td>\n",
       "      <td>Rémy Chevrin</td>\n",
       "      <td>Sandrine Kiberlain, Pascal Elbé, Valérie Donze...</td>\n",
       "      <td>Jerico, Pere Films, France 3 Cinéma, Canal+, C...</td>\n",
       "      <td>Romance. Comedia | Comedia romántica. Discapac...</td>\n",
       "      <td>NaN</td>\n",
       "      <td>Antoine, un profesor de historia de cincuenta ...</td>\n",
       "    </tr>\n",
       "    <tr>\n",
       "      <th>0</th>\n",
       "      <td>Nosotros no nos mataremos con pistolas</td>\n",
       "      <td>5,5</td>\n",
       "      <td>109</td>\n",
       "      <td>Nosotros no nos mataremos con pistolas</td>\n",
       "      <td>2022</td>\n",
       "      <td>88 min.</td>\n",
       "      <td>España</td>\n",
       "      <td>María Ripoll</td>\n",
       "      <td>Antonio Escámez, Victor Sanchez Rodriguez. Obr...</td>\n",
       "      <td>Simon Smith</td>\n",
       "      <td>Joan Bordera</td>\n",
       "      <td>Ingrid García Jonsson, Elena Martin, Joe Manjó...</td>\n",
       "      <td>Turanga Films, À Punt Media, Un Capricho de Pr...</td>\n",
       "      <td>Drama. Comedia | Amistad</td>\n",
       "      <td>NaN</td>\n",
       "      <td>Mientras el pueblo se prepara para celebrar su...</td>\n",
       "    </tr>\n",
       "    <tr>\n",
       "      <th>0</th>\n",
       "      <td>Tenéis que venir a verla</td>\n",
       "      <td>6,6</td>\n",
       "      <td>383</td>\n",
       "      <td>Tenéis que venir a verla</td>\n",
       "      <td>2022</td>\n",
       "      <td>64 min.</td>\n",
       "      <td>España</td>\n",
       "      <td>Jonás Trueba</td>\n",
       "      <td>Jonás Trueba</td>\n",
       "      <td>NaN</td>\n",
       "      <td>Santiago Racaj</td>\n",
       "      <td>Itsaso Arana, Francesco Carril, Irene Escolar,...</td>\n",
       "      <td>Los Ilusos Films</td>\n",
       "      <td>Drama. Comedia | Comedia dramática</td>\n",
       "      <td>NaN</td>\n",
       "      <td>Dos parejas de amigos se reencuentran. Escucha...</td>\n",
       "    </tr>\n",
       "    <tr>\n",
       "      <th>0</th>\n",
       "      <td>Rendir los machos</td>\n",
       "      <td>6,0</td>\n",
       "      <td>79</td>\n",
       "      <td>Rendir los machos</td>\n",
       "      <td>2021</td>\n",
       "      <td>80 min.</td>\n",
       "      <td>España</td>\n",
       "      <td>David Pantaleón</td>\n",
       "      <td>Amos Milbor, David Pantaleón</td>\n",
       "      <td>Pedro Perles</td>\n",
       "      <td>Cris Noda</td>\n",
       "      <td>Alejandro Benito, Lili Quintana, José Mentado,...</td>\n",
       "      <td>Coproducción España-Francia; Noodles Productio...</td>\n",
       "      <td>Comedia. Drama | Familia</td>\n",
       "      <td>NaN</td>\n",
       "      <td>Alejandro y Julio son miembros de los hermanos...</td>\n",
       "    </tr>\n",
       "    <tr>\n",
       "      <th>0</th>\n",
       "      <td>Comuneros</td>\n",
       "      <td>8,1</td>\n",
       "      <td>38</td>\n",
       "      <td>Comuneros</td>\n",
       "      <td>2021</td>\n",
       "      <td>84 min.</td>\n",
       "      <td>España</td>\n",
       "      <td>Pablo García Sanz</td>\n",
       "      <td>Pablo García Sanz, Carlos Belloso, Nerea Mugüerza</td>\n",
       "      <td>Héctor Castrillejo, Carlos Herrero</td>\n",
       "      <td>Víctor Hugo Martín Caballero</td>\n",
       "      <td>Documental</td>\n",
       "      <td>Visual Creative, Plan Secreto S.L</td>\n",
       "      <td>Documental | Documental sobre Historia. Siglo XVI</td>\n",
       "      <td>NaN</td>\n",
       "      <td>Largometraje documental que narra los hechos a...</td>\n",
       "    </tr>\n",
       "  </tbody>\n",
       "</table>\n",
       "</div>"
      ],
      "text/plain": [
       "                                          Titulo Nota  Votos  \\\n",
       "0                                      Lightyear  6,0  2.269   \n",
       "0  El insoportable peso de un talento descomunal  6,2  1.302   \n",
       "0                        La brigada de la cocina  5,8     75   \n",
       "0                Estamos hechos para entendernos  6,4     32   \n",
       "0         Nosotros no nos mataremos con pistolas  5,5    109   \n",
       "0                       Tenéis que venir a verla  6,6    383   \n",
       "0                              Rendir los machos  6,0     79   \n",
       "0                                      Comuneros  8,1     38   \n",
       "\n",
       "                           Título original   Año  Duración             País  \\\n",
       "0                                Lightyear  2022  100 min.   Estados Unidos   \n",
       "0  The Unbearable Weight of Massive Talent  2022  105 min.   Estados Unidos   \n",
       "0                               La brigade  2022   97 min.          Francia   \n",
       "0              On est fait pour s'entendre  2021   93 min.          Francia   \n",
       "0   Nosotros no nos mataremos con pistolas  2022   88 min.           España   \n",
       "0                 Tenéis que venir a verla  2022   64 min.           España   \n",
       "0                        Rendir los machos  2021   80 min.           España   \n",
       "0                                Comuneros  2021   84 min.           España   \n",
       "\n",
       "            Dirección                                              Guion  \\\n",
       "0       Angus MacLane  Jason Headley, Angus MacLane, Matthew Aldrich....   \n",
       "0        Tom Gormican                          Kevin Etten, Tom Gormican   \n",
       "0  Louis-Julien Petit  Liza Benguigui, Sophie Bensadoun, Louis-Julien...   \n",
       "0         Pascal Elbé                                        Pascal Elbé   \n",
       "0        María Ripoll  Antonio Escámez, Victor Sanchez Rodriguez. Obr...   \n",
       "0        Jonás Trueba                                       Jonás Trueba   \n",
       "0     David Pantaleón                       Amos Milbor, David Pantaleón   \n",
       "0   Pablo García Sanz  Pablo García Sanz, Carlos Belloso, Nerea Mugüerza   \n",
       "\n",
       "                               Música                             Fotografía  \\\n",
       "0                   Michael Giacchino  Animación, Jeremy Lasky, Ian Megibben   \n",
       "0                          Mark Isham                            Nigel Bluck   \n",
       "0               Laurent Perez del Mar                        David Chambille   \n",
       "0                    Christophe Minck                           Rémy Chevrin   \n",
       "0                         Simon Smith                           Joan Bordera   \n",
       "0                                 NaN                         Santiago Racaj   \n",
       "0                        Pedro Perles                              Cris Noda   \n",
       "0  Héctor Castrillejo, Carlos Herrero           Víctor Hugo Martín Caballero   \n",
       "\n",
       "                                             Reparto  \\\n",
       "0                                          Animación   \n",
       "0  Nicolas Cage, Pedro Pascal, Tiffany Haddish, S...   \n",
       "0  Audrey Lamy, François Cluzet, Chantal Neuwirth...   \n",
       "0  Sandrine Kiberlain, Pascal Elbé, Valérie Donze...   \n",
       "0  Ingrid García Jonsson, Elena Martin, Joe Manjó...   \n",
       "0  Itsaso Arana, Francesco Carril, Irene Escolar,...   \n",
       "0  Alejandro Benito, Lili Quintana, José Mentado,...   \n",
       "0                                         Documental   \n",
       "\n",
       "                                          Productora  \\\n",
       "0  Pixar Animation Studios, Walt Disney Pictures....   \n",
       "0  Lionsgate, Saturn Films. Distribuidora: Lionsgate   \n",
       "0  Odyssée Pictures, Apollo Films, France 3 Ciném...   \n",
       "0  Jerico, Pere Films, France 3 Cinéma, Canal+, C...   \n",
       "0  Turanga Films, À Punt Media, Un Capricho de Pr...   \n",
       "0                                   Los Ilusos Films   \n",
       "0  Coproducción España-Francia; Noodles Productio...   \n",
       "0                  Visual Creative, Plan Secreto S.L   \n",
       "\n",
       "                                              Género  \\\n",
       "0  Animación. Aventuras. Ciencia ficción. Comedia...   \n",
       "0  Acción. Comedia | Comedia negra. Secuestros / ...   \n",
       "0                                   Comedia | Cocina   \n",
       "0  Romance. Comedia | Comedia romántica. Discapac...   \n",
       "0                           Drama. Comedia | Amistad   \n",
       "0                 Drama. Comedia | Comedia dramática   \n",
       "0                           Comedia. Drama | Familia   \n",
       "0  Documental | Documental sobre Historia. Siglo XVI   \n",
       "\n",
       "                          Grupos  \\\n",
       "0  Toy Story | Pixar (Películas)   \n",
       "0                            NaN   \n",
       "0                            NaN   \n",
       "0                            NaN   \n",
       "0                            NaN   \n",
       "0                            NaN   \n",
       "0                            NaN   \n",
       "0                            NaN   \n",
       "\n",
       "                                            Sinopsis  \n",
       "0  La historia del origen de Buzz Lightyear, el h...  \n",
       "0  Nicolas Cage se interpreta a sí mismo en esta ...  \n",
       "0  Cathy es una estricta chef de 40 años. Cuando ...  \n",
       "0  Antoine, un profesor de historia de cincuenta ...  \n",
       "0  Mientras el pueblo se prepara para celebrar su...  \n",
       "0  Dos parejas de amigos se reencuentran. Escucha...  \n",
       "0  Alejandro y Julio son miembros de los hermanos...  \n",
       "0  Largometraje documental que narra los hechos a...  "
      ]
     },
     "execution_count": 347,
     "metadata": {},
     "output_type": "execute_result"
    }
   ],
   "source": [
    "df_peliculas"
   ]
  },
  {
   "cell_type": "markdown",
   "metadata": {},
   "source": [
    "Ya tenemos un dataframe con todas las películas que se van a estrenar el próximo viernes"
   ]
  }
 ],
 "metadata": {
  "hide_input": false,
  "kernelspec": {
   "display_name": "Python 3.9.2 ('.venv_webscrapping': venv)",
   "language": "python",
   "name": "python3"
  },
  "language_info": {
   "codemirror_mode": {
    "name": "ipython",
    "version": 3
   },
   "file_extension": ".py",
   "mimetype": "text/x-python",
   "name": "python",
   "nbconvert_exporter": "python",
   "pygments_lexer": "ipython3",
   "version": "3.9.2"
  },
  "nbTranslate": {
   "displayLangs": [
    "*"
   ],
   "hotkey": "alt-t",
   "langInMainMenu": true,
   "sourceLang": "en",
   "targetLang": "fr",
   "useGoogleTranslate": true
  },
  "varInspector": {
   "cols": {
    "lenName": 16,
    "lenType": 16,
    "lenVar": 40
   },
   "kernels_config": {
    "python": {
     "delete_cmd_postfix": "",
     "delete_cmd_prefix": "del ",
     "library": "var_list.py",
     "varRefreshCmd": "print(var_dic_list())"
    },
    "r": {
     "delete_cmd_postfix": ") ",
     "delete_cmd_prefix": "rm(",
     "library": "var_list.r",
     "varRefreshCmd": "cat(var_dic_list()) "
    }
   },
   "types_to_exclude": [
    "module",
    "function",
    "builtin_function_or_method",
    "instance",
    "_Feature"
   ],
   "window_display": false
  },
  "vscode": {
   "interpreter": {
    "hash": "300ec46974fb394b59eeb06ce774efc5cb05281be6c8dbd56e22ccc9373d1b5e"
   }
  }
 },
 "nbformat": 4,
 "nbformat_minor": 2
}
