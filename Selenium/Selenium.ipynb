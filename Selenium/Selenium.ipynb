{
 "cells": [
  {
   "cell_type": "markdown",
   "metadata": {},
   "source": [
    "# Web Scraping: Selenium"
   ]
  },
  {
   "cell_type": "markdown",
   "metadata": {},
   "source": [
    "Selenium también tiene varios métodos que facilitan la extracción de datos.\n",
    "\n",
    "En primer lugar, tendremos que descargar un controlador.\n",
    "\n",
    "Usaremos ChromeDriver para Google Chrome. Para obtener una lista completa de controladores y plataformas compatibles, consulte [Selenium](https://www.selenium.dev/downloads/). Si desea utilizar Google Chrome, diríjase a [chrome](https://chromedriver.chromium.org/) y descargue el controlador que corresponde a su versión actual de Google Chrome.\n",
    "\n",
    "Como saber cual es la version de chrome que utilizo simple utilizamos pegamos el siguiente enlace en la barra de chrome chrome://settings/help\n",
    "\n",
    "El proceso de web scraping con Selenium es el siguiente:\n",
    "\n",
    "URL → Solicitud HTTP → HTML → Selenium → DOM\n",
    "\n"
   ]
  },
  {
   "cell_type": "markdown",
   "metadata": {},
   "source": [
    "## Comencemos importando las bibliotecas que usaremos:"
   ]
  },
  {
   "cell_type": "code",
   "execution_count": null,
   "metadata": {},
   "outputs": [],
   "source": [
    "!pip install selenium"
   ]
  },
  {
   "cell_type": "code",
   "execution_count": 2,
   "metadata": {
    "ExecuteTime": {
     "end_time": "2021-02-26T12:16:59.303652Z",
     "start_time": "2021-02-26T12:16:59.300657Z"
    }
   },
   "outputs": [],
   "source": [
    "from selenium import webdriver\n",
    "import urllib3 # urllib3 es un cliente HTTP potente y fácil de usar para Python.\n",
    "import re # Expresiones regulares \n",
    "import time\n",
    "import pandas as pd"
   ]
  },
  {
   "cell_type": "markdown",
   "metadata": {},
   "source": [
    "El objeto driver es con el que trabajaremos a partir de ahora"
   ]
  },
  {
   "cell_type": "code",
   "execution_count": 3,
   "metadata": {
    "ExecuteTime": {
     "end_time": "2021-02-26T10:22:46.333679Z",
     "start_time": "2021-02-26T10:22:45.178780Z"
    }
   },
   "outputs": [],
   "source": [
    "# especificamos el path hasta nuestro driver recién descargado:\n",
    "chrome_driver_path = 'chromedriver.exe'\n",
    "options  = webdriver.ChromeOptions()"
   ]
  },
  {
   "cell_type": "code",
   "execution_count": 4,
   "metadata": {},
   "outputs": [
    {
     "name": "stderr",
     "output_type": "stream",
     "text": [
      "C:\\Users\\Alex\\AppData\\Local\\Temp\\ipykernel_26988\\2445550838.py:2: DeprecationWarning: executable_path has been deprecated, please pass in a Service object\n",
      "  driver = webdriver.Chrome(executable_path = chrome_driver_path, options = options)\n"
     ]
    }
   ],
   "source": [
    "# Creamos el driver con el que nos vamos a manejar en la sesión de scrapeo:\n",
    "driver = webdriver.Chrome(executable_path = chrome_driver_path, options = options)"
   ]
  },
  {
   "cell_type": "code",
   "execution_count": 5,
   "metadata": {},
   "outputs": [],
   "source": [
    "# indicamos la URL de la página web a la que queremos acceder:\n",
    "url = 'https://insolvencyinsider.ca/filing/'\n",
    "# el objeto driver nos va a permitir alterar el estado del la página\n",
    "driver.get(url)"
   ]
  },
  {
   "cell_type": "markdown",
   "metadata": {},
   "source": [
    "Ahora si queremos hacer click en el boton de \"Load more\".."
   ]
  },
  {
   "cell_type": "markdown",
   "metadata": {},
   "source": [
    "Selenium proporciona varios métodos para localizar elementos en la página web. Usaremos el método find_element_by_xpath() para crear un objeto de botón, con el que luego podremos interactuar:"
   ]
  },
  {
   "cell_type": "markdown",
   "metadata": {},
   "source": [
    "/html/body/div[2]/div/main/div/div/div/button"
   ]
  },
  {
   "cell_type": "code",
   "execution_count": 6,
   "metadata": {},
   "outputs": [],
   "source": [
    "from selenium.webdriver.common.by import By"
   ]
  },
  {
   "cell_type": "code",
   "execution_count": 7,
   "metadata": {},
   "outputs": [],
   "source": [
    "loadMore = driver.find_element(By.XPATH, '/html/body/div[2]/div/main/div/div/div/button')"
   ]
  },
  {
   "cell_type": "code",
   "execution_count": null,
   "metadata": {},
   "outputs": [],
   "source": [
    "# loadMore = driver.find_element(By.XPATH, '//*[@id=\"content\"]/button')"
   ]
  },
  {
   "cell_type": "markdown",
   "metadata": {},
   "source": [
    "Antes de continuar, necesitaremos saber cuántas páginas hay para saber cuántas veces debemos hacer clic en el botón."
   ]
  },
  {
   "cell_type": "code",
   "execution_count": 8,
   "metadata": {},
   "outputs": [],
   "source": [
    "http = urllib3.PoolManager()\n",
    "r = http.request(\"GET\", url)\n",
    "text = str(r.data)"
   ]
  },
  {
   "cell_type": "code",
   "execution_count": null,
   "metadata": {},
   "outputs": [],
   "source": [
    "text"
   ]
  },
  {
   "cell_type": "markdown",
   "metadata": {},
   "source": [
    "```text``` ahora es una cadena de texto. Gracias a la librería Regex, podemos extraer el número de páginas total."
   ]
  },
  {
   "cell_type": "code",
   "execution_count": 10,
   "metadata": {},
   "outputs": [],
   "source": [
    "paginas_totales_obj = re.search(pattern='\"total_pages\":\\d+', string=text)\n",
    "paginas_totales_str = paginas_totales_obj.group(0)\n",
    "paginas_totales = int(re.search(pattern=\"\\d+\", string=paginas_totales_str).group(0))"
   ]
  },
  {
   "cell_type": "code",
   "execution_count": 11,
   "metadata": {},
   "outputs": [
    {
     "data": {
      "text/plain": [
       "97"
      ]
     },
     "execution_count": 11,
     "metadata": {},
     "output_type": "execute_result"
    }
   ],
   "source": [
    "paginas_totales"
   ]
  },
  {
   "cell_type": "code",
   "execution_count": 12,
   "metadata": {},
   "outputs": [
    {
     "name": "stderr",
     "output_type": "stream",
     "text": [
      "100%|██████████| 96/96 [04:52<00:00,  3.04s/it]\n"
     ]
    }
   ],
   "source": [
    "from tqdm import tqdm\n",
    "\n",
    "for i in tqdm(range(paginas_totales-1)):\n",
    "    loadMore.click()\n",
    "    time.sleep(3)"
   ]
  },
  {
   "cell_type": "markdown",
   "metadata": {},
   "source": [
    "Con eso completo, ahora podemos cargar todas las páginas de Insolvency Insider. Podemos hacer clic en el botón Cargar más accediendo al método click() del objeto. Esperamos tres segundos entre clics para no sobrecargar el sitio web."
   ]
  },
  {
   "cell_type": "markdown",
   "metadata": {},
   "source": [
    "Recuerde que el total de las páginas son 88 pero comenzamos en 0 asi que es 88-1"
   ]
  },
  {
   "cell_type": "code",
   "execution_count": null,
   "metadata": {},
   "outputs": [],
   "source": []
  },
  {
   "cell_type": "markdown",
   "metadata": {},
   "source": [
    "Una vez que ejecute esto, debería ver que se hace clic en el botón Cargar más y que se cargan las páginas restantes.\n",
    "Una vez que se carga cada página, podemos comenzar a raspar el contenido. Ahora, eliminar ciertos elementos como el nombre de presentación, la fecha y la hiperreferencia es bastante sencillo. Podemos usar los métodos find_elements_by_class_name() y find_elements_by_xpath() de Selenium (importante la ```s``` extra después de element):"
   ]
  },
  {
   "cell_type": "markdown",
   "metadata": {},
   "source": [
    "filing-name\n",
    "filing-date\n",
    "//*[@id='content']/div[2]/div/div[1]/h3/a"
   ]
  },
  {
   "cell_type": "code",
   "execution_count": 17,
   "metadata": {},
   "outputs": [],
   "source": [
    "filing_names_elementos = driver.find_elements(By.CLASS_NAME, 'filing-name')\n",
    "filing_dates_elementos = driver.find_elements(By.CLASS_NAME, 'filing-date')\n"
   ]
  },
  {
   "cell_type": "code",
   "execution_count": 25,
   "metadata": {},
   "outputs": [],
   "source": [
    "filing_href_elementos = driver.find_elements(By.XPATH, '//*[@id=\"content\"]/div[2]/div/div[1]/h3/a')"
   ]
  },
  {
   "cell_type": "markdown",
   "metadata": {},
   "source": [
    "También nos gustaría conocer los metadatos de presentación, es decir, el tipo de archivo, el sector de la empresa y el lugar en la que operan. Extraer estos datos requiere un poco más de trabajo."
   ]
  },
  {
   "cell_type": "markdown",
   "metadata": {},
   "source": [
    "//*[@id='content']/div[2]/div[%d]/div[2]/div[1]"
   ]
  },
  {
   "cell_type": "code",
   "execution_count": 26,
   "metadata": {},
   "outputs": [
    {
     "data": {
      "text/plain": [
       "[<selenium.webdriver.remote.webelement.WebElement (session=\"93e7e8620a33a83f48c1e1e98836c50d\", element=\"c1bb588a-8820-4d84-beec-31bd492dc902\")>,\n",
       " <selenium.webdriver.remote.webelement.WebElement (session=\"93e7e8620a33a83f48c1e1e98836c50d\", element=\"c87297f7-a9d9-4a98-928f-d39885844b92\")>,\n",
       " <selenium.webdriver.remote.webelement.WebElement (session=\"93e7e8620a33a83f48c1e1e98836c50d\", element=\"77e567bd-e816-4fde-ac72-a8fe9570c697\")>,\n",
       " <selenium.webdriver.remote.webelement.WebElement (session=\"93e7e8620a33a83f48c1e1e98836c50d\", element=\"03dd812a-4323-421a-98c6-43c555e8e4a8\")>,\n",
       " <selenium.webdriver.remote.webelement.WebElement (session=\"93e7e8620a33a83f48c1e1e98836c50d\", element=\"6eb76a2e-b36e-47d9-b9be-c24fba5f7261\")>,\n",
       " <selenium.webdriver.remote.webelement.WebElement (session=\"93e7e8620a33a83f48c1e1e98836c50d\", element=\"e5abf7e5-6021-4704-8eea-f087f8e250bb\")>,\n",
       " <selenium.webdriver.remote.webelement.WebElement (session=\"93e7e8620a33a83f48c1e1e98836c50d\", element=\"b103e433-b3b0-4a21-8316-305fc86d8aec\")>,\n",
       " <selenium.webdriver.remote.webelement.WebElement (session=\"93e7e8620a33a83f48c1e1e98836c50d\", element=\"2748e293-82bb-49bb-bbe6-5e9a606635e5\")>,\n",
       " <selenium.webdriver.remote.webelement.WebElement (session=\"93e7e8620a33a83f48c1e1e98836c50d\", element=\"1b5c88a2-fb42-4fdb-a2ca-94963ce2af69\")>,\n",
       " <selenium.webdriver.remote.webelement.WebElement (session=\"93e7e8620a33a83f48c1e1e98836c50d\", element=\"2ed98530-6741-40f4-8856-f7c366c92af1\")>,\n",
       " <selenium.webdriver.remote.webelement.WebElement (session=\"93e7e8620a33a83f48c1e1e98836c50d\", element=\"80f48237-53c9-4d51-bd32-906a56b71b24\")>,\n",
       " <selenium.webdriver.remote.webelement.WebElement (session=\"93e7e8620a33a83f48c1e1e98836c50d\", element=\"2709d1f3-9394-42bf-9d43-dc07adc4bfe2\")>,\n",
       " <selenium.webdriver.remote.webelement.WebElement (session=\"93e7e8620a33a83f48c1e1e98836c50d\", element=\"9db59c27-d1dd-4291-b0d7-8db9af8353fb\")>,\n",
       " <selenium.webdriver.remote.webelement.WebElement (session=\"93e7e8620a33a83f48c1e1e98836c50d\", element=\"f47391fa-eebd-429c-9257-3230d200fa02\")>,\n",
       " <selenium.webdriver.remote.webelement.WebElement (session=\"93e7e8620a33a83f48c1e1e98836c50d\", element=\"dcfdb519-0657-436a-971f-328dff70ee90\")>,\n",
       " <selenium.webdriver.remote.webelement.WebElement (session=\"93e7e8620a33a83f48c1e1e98836c50d\", element=\"3a3bec97-c573-4c9b-85f4-2268b0600d2c\")>,\n",
       " <selenium.webdriver.remote.webelement.WebElement (session=\"93e7e8620a33a83f48c1e1e98836c50d\", element=\"1dfe1e45-97b4-45a1-9882-05825e7cfbb6\")>,\n",
       " <selenium.webdriver.remote.webelement.WebElement (session=\"93e7e8620a33a83f48c1e1e98836c50d\", element=\"20aabdfd-936d-49aa-ace1-b5c05a14ad76\")>,\n",
       " <selenium.webdriver.remote.webelement.WebElement (session=\"93e7e8620a33a83f48c1e1e98836c50d\", element=\"f807777b-63d5-4b56-92eb-c4f3cdcd9c4e\")>,\n",
       " <selenium.webdriver.remote.webelement.WebElement (session=\"93e7e8620a33a83f48c1e1e98836c50d\", element=\"a1971667-c499-4d5e-84d8-452b4bc9fcf7\")>,\n",
       " <selenium.webdriver.remote.webelement.WebElement (session=\"93e7e8620a33a83f48c1e1e98836c50d\", element=\"b40e0ffc-2691-48fb-b040-3f1b1832a83c\")>,\n",
       " <selenium.webdriver.remote.webelement.WebElement (session=\"93e7e8620a33a83f48c1e1e98836c50d\", element=\"a582cc47-7b75-4e94-81b4-c9f44ae09e56\")>,\n",
       " <selenium.webdriver.remote.webelement.WebElement (session=\"93e7e8620a33a83f48c1e1e98836c50d\", element=\"93d85870-6c92-4748-bc2d-af0bba15e3e4\")>,\n",
       " <selenium.webdriver.remote.webelement.WebElement (session=\"93e7e8620a33a83f48c1e1e98836c50d\", element=\"302777e0-626b-4625-a226-96b5e0241918\")>,\n",
       " <selenium.webdriver.remote.webelement.WebElement (session=\"93e7e8620a33a83f48c1e1e98836c50d\", element=\"1a6cc493-1658-4d35-9ef4-745b05867ffa\")>,\n",
       " <selenium.webdriver.remote.webelement.WebElement (session=\"93e7e8620a33a83f48c1e1e98836c50d\", element=\"ef6ff559-e24f-45e6-b3cf-3ca0f2562d3f\")>,\n",
       " <selenium.webdriver.remote.webelement.WebElement (session=\"93e7e8620a33a83f48c1e1e98836c50d\", element=\"84322846-5e4a-44a2-86a9-e9b291891de9\")>,\n",
       " <selenium.webdriver.remote.webelement.WebElement (session=\"93e7e8620a33a83f48c1e1e98836c50d\", element=\"ce723ddf-9540-4af4-bfda-1d25b6000e03\")>,\n",
       " <selenium.webdriver.remote.webelement.WebElement (session=\"93e7e8620a33a83f48c1e1e98836c50d\", element=\"5adf1521-3be3-4ecf-8fe3-5eed87d571c4\")>,\n",
       " <selenium.webdriver.remote.webelement.WebElement (session=\"93e7e8620a33a83f48c1e1e98836c50d\", element=\"69ee8eef-ca3c-4251-920b-e8c8c30755e3\")>,\n",
       " <selenium.webdriver.remote.webelement.WebElement (session=\"93e7e8620a33a83f48c1e1e98836c50d\", element=\"08bf4891-52de-45cf-86b9-32d4de2ad90a\")>,\n",
       " <selenium.webdriver.remote.webelement.WebElement (session=\"93e7e8620a33a83f48c1e1e98836c50d\", element=\"9345d71f-10e0-4400-8753-b40f5ab236dc\")>,\n",
       " <selenium.webdriver.remote.webelement.WebElement (session=\"93e7e8620a33a83f48c1e1e98836c50d\", element=\"20640704-0e26-432e-b252-4c5692c0eca0\")>,\n",
       " <selenium.webdriver.remote.webelement.WebElement (session=\"93e7e8620a33a83f48c1e1e98836c50d\", element=\"0dffbcb1-1002-4a92-ad04-7fdb55396d91\")>,\n",
       " <selenium.webdriver.remote.webelement.WebElement (session=\"93e7e8620a33a83f48c1e1e98836c50d\", element=\"5a453c29-2211-4d47-972f-3ecea8e2d67f\")>,\n",
       " <selenium.webdriver.remote.webelement.WebElement (session=\"93e7e8620a33a83f48c1e1e98836c50d\", element=\"bacd680c-125e-402c-b0ac-dcb17766700f\")>,\n",
       " <selenium.webdriver.remote.webelement.WebElement (session=\"93e7e8620a33a83f48c1e1e98836c50d\", element=\"75435f4d-bb2a-463f-ba48-5321c2835fca\")>,\n",
       " <selenium.webdriver.remote.webelement.WebElement (session=\"93e7e8620a33a83f48c1e1e98836c50d\", element=\"f60a31df-0014-4af2-a247-d79c1b0404e3\")>,\n",
       " <selenium.webdriver.remote.webelement.WebElement (session=\"93e7e8620a33a83f48c1e1e98836c50d\", element=\"322c5a0b-4945-4e5e-a818-c4847ea71516\")>,\n",
       " <selenium.webdriver.remote.webelement.WebElement (session=\"93e7e8620a33a83f48c1e1e98836c50d\", element=\"c14b2e19-5c66-45e6-a40a-6b6466d59d66\")>,\n",
       " <selenium.webdriver.remote.webelement.WebElement (session=\"93e7e8620a33a83f48c1e1e98836c50d\", element=\"d31864a9-40ca-4986-a806-7053c7ca05a0\")>,\n",
       " <selenium.webdriver.remote.webelement.WebElement (session=\"93e7e8620a33a83f48c1e1e98836c50d\", element=\"9f3dbb8b-e797-4191-8d84-20b13e75b843\")>,\n",
       " <selenium.webdriver.remote.webelement.WebElement (session=\"93e7e8620a33a83f48c1e1e98836c50d\", element=\"d541018d-ac3e-4afe-889c-0af82aed1d06\")>,\n",
       " <selenium.webdriver.remote.webelement.WebElement (session=\"93e7e8620a33a83f48c1e1e98836c50d\", element=\"4904e849-1451-4bc3-91bb-6087066967bd\")>,\n",
       " <selenium.webdriver.remote.webelement.WebElement (session=\"93e7e8620a33a83f48c1e1e98836c50d\", element=\"13e918f3-22e7-471c-b78a-28f23d35db41\")>,\n",
       " <selenium.webdriver.remote.webelement.WebElement (session=\"93e7e8620a33a83f48c1e1e98836c50d\", element=\"ac29a733-c9fe-47ff-b130-a1f0e02988a0\")>,\n",
       " <selenium.webdriver.remote.webelement.WebElement (session=\"93e7e8620a33a83f48c1e1e98836c50d\", element=\"fdc9ba56-e168-478d-9855-5eac50397a47\")>,\n",
       " <selenium.webdriver.remote.webelement.WebElement (session=\"93e7e8620a33a83f48c1e1e98836c50d\", element=\"2de97a9f-afc0-4724-ad78-b1a87070fa1c\")>,\n",
       " <selenium.webdriver.remote.webelement.WebElement (session=\"93e7e8620a33a83f48c1e1e98836c50d\", element=\"d251bfaf-6395-4481-b9e8-966d2eb2a65b\")>,\n",
       " <selenium.webdriver.remote.webelement.WebElement (session=\"93e7e8620a33a83f48c1e1e98836c50d\", element=\"2ee88a2b-04a3-4b04-bd30-1bdc328dcf4f\")>,\n",
       " <selenium.webdriver.remote.webelement.WebElement (session=\"93e7e8620a33a83f48c1e1e98836c50d\", element=\"4df3e3cc-a959-4af4-af5b-d346bc3004a3\")>,\n",
       " <selenium.webdriver.remote.webelement.WebElement (session=\"93e7e8620a33a83f48c1e1e98836c50d\", element=\"adae6597-e046-4293-ba9c-c219759c4818\")>,\n",
       " <selenium.webdriver.remote.webelement.WebElement (session=\"93e7e8620a33a83f48c1e1e98836c50d\", element=\"5ee8bece-ed33-4619-b6ba-35eebf8232d8\")>,\n",
       " <selenium.webdriver.remote.webelement.WebElement (session=\"93e7e8620a33a83f48c1e1e98836c50d\", element=\"04c9aeae-cf2b-4277-b958-427986572a7e\")>,\n",
       " <selenium.webdriver.remote.webelement.WebElement (session=\"93e7e8620a33a83f48c1e1e98836c50d\", element=\"a0b5e855-3893-42d7-bd0b-dd5bb4c030f4\")>,\n",
       " <selenium.webdriver.remote.webelement.WebElement (session=\"93e7e8620a33a83f48c1e1e98836c50d\", element=\"8c6089a9-95c5-4483-b050-25063e525f74\")>,\n",
       " <selenium.webdriver.remote.webelement.WebElement (session=\"93e7e8620a33a83f48c1e1e98836c50d\", element=\"eb085d14-64e7-4b21-8949-9f81e97a7c8f\")>,\n",
       " <selenium.webdriver.remote.webelement.WebElement (session=\"93e7e8620a33a83f48c1e1e98836c50d\", element=\"249902e5-0d58-4037-96b4-4e2d26883ed5\")>,\n",
       " <selenium.webdriver.remote.webelement.WebElement (session=\"93e7e8620a33a83f48c1e1e98836c50d\", element=\"810a7c09-3358-4522-874e-49620ca39661\")>,\n",
       " <selenium.webdriver.remote.webelement.WebElement (session=\"93e7e8620a33a83f48c1e1e98836c50d\", element=\"98a6a8d8-bd36-4cb4-a643-4ccd1aec4d45\")>,\n",
       " <selenium.webdriver.remote.webelement.WebElement (session=\"93e7e8620a33a83f48c1e1e98836c50d\", element=\"152b3fdc-6779-4115-9800-0fca6d30d3af\")>,\n",
       " <selenium.webdriver.remote.webelement.WebElement (session=\"93e7e8620a33a83f48c1e1e98836c50d\", element=\"05be8a21-7529-4e5d-83ab-50e74911da6a\")>,\n",
       " <selenium.webdriver.remote.webelement.WebElement (session=\"93e7e8620a33a83f48c1e1e98836c50d\", element=\"41d65b44-849f-45ac-9bd6-ccf7feb9225f\")>,\n",
       " <selenium.webdriver.remote.webelement.WebElement (session=\"93e7e8620a33a83f48c1e1e98836c50d\", element=\"461ffd8b-f0a6-4acc-b73d-e7985c9a6d1f\")>,\n",
       " <selenium.webdriver.remote.webelement.WebElement (session=\"93e7e8620a33a83f48c1e1e98836c50d\", element=\"e5754f4d-da80-490b-a5e9-6e792de09741\")>,\n",
       " <selenium.webdriver.remote.webelement.WebElement (session=\"93e7e8620a33a83f48c1e1e98836c50d\", element=\"19b46bbe-0558-4ae9-99aa-fa98c23d3517\")>,\n",
       " <selenium.webdriver.remote.webelement.WebElement (session=\"93e7e8620a33a83f48c1e1e98836c50d\", element=\"ef9b8411-3b36-49f3-a3ad-b9946dd40ed6\")>,\n",
       " <selenium.webdriver.remote.webelement.WebElement (session=\"93e7e8620a33a83f48c1e1e98836c50d\", element=\"c29f3f0d-91f2-4f69-a78f-4779e801fda6\")>,\n",
       " <selenium.webdriver.remote.webelement.WebElement (session=\"93e7e8620a33a83f48c1e1e98836c50d\", element=\"31897d11-5ba2-4914-b8d8-d1fc010f8212\")>,\n",
       " <selenium.webdriver.remote.webelement.WebElement (session=\"93e7e8620a33a83f48c1e1e98836c50d\", element=\"80bf8753-2037-4a8c-af0c-c46f12fc0620\")>,\n",
       " <selenium.webdriver.remote.webelement.WebElement (session=\"93e7e8620a33a83f48c1e1e98836c50d\", element=\"807e3a27-9f1f-4494-80bb-5719b5095d46\")>,\n",
       " <selenium.webdriver.remote.webelement.WebElement (session=\"93e7e8620a33a83f48c1e1e98836c50d\", element=\"fc23ca81-eb1b-47ae-bf33-5fcb0029d8b2\")>,\n",
       " <selenium.webdriver.remote.webelement.WebElement (session=\"93e7e8620a33a83f48c1e1e98836c50d\", element=\"48dd7668-5f96-41f6-b5fd-3b2ecfa75d97\")>,\n",
       " <selenium.webdriver.remote.webelement.WebElement (session=\"93e7e8620a33a83f48c1e1e98836c50d\", element=\"416c3b02-516a-41c9-a47e-c0f83b1201b9\")>,\n",
       " <selenium.webdriver.remote.webelement.WebElement (session=\"93e7e8620a33a83f48c1e1e98836c50d\", element=\"3ebd81df-97e3-40c5-9b5d-2dd1e09a5c61\")>,\n",
       " <selenium.webdriver.remote.webelement.WebElement (session=\"93e7e8620a33a83f48c1e1e98836c50d\", element=\"6d8723e3-6201-4142-8156-2f3c18df49c4\")>,\n",
       " <selenium.webdriver.remote.webelement.WebElement (session=\"93e7e8620a33a83f48c1e1e98836c50d\", element=\"4ce76b91-4538-4cd9-8dea-2ea10af0e57b\")>,\n",
       " <selenium.webdriver.remote.webelement.WebElement (session=\"93e7e8620a33a83f48c1e1e98836c50d\", element=\"ed2c5857-a437-4e48-9e0b-f39c2672cdd3\")>,\n",
       " <selenium.webdriver.remote.webelement.WebElement (session=\"93e7e8620a33a83f48c1e1e98836c50d\", element=\"7faa0b11-777e-48d2-9de8-753fc9f589b4\")>,\n",
       " <selenium.webdriver.remote.webelement.WebElement (session=\"93e7e8620a33a83f48c1e1e98836c50d\", element=\"4b6b2768-11a8-47ee-8bc5-9fb801ac780f\")>,\n",
       " <selenium.webdriver.remote.webelement.WebElement (session=\"93e7e8620a33a83f48c1e1e98836c50d\", element=\"c9a4697e-4aac-4947-bc32-896686b690a4\")>,\n",
       " <selenium.webdriver.remote.webelement.WebElement (session=\"93e7e8620a33a83f48c1e1e98836c50d\", element=\"2db73ee2-5fcc-4ca0-be3a-86c15438e193\")>,\n",
       " <selenium.webdriver.remote.webelement.WebElement (session=\"93e7e8620a33a83f48c1e1e98836c50d\", element=\"748c170d-c7e3-4171-8161-99bb7f303770\")>,\n",
       " <selenium.webdriver.remote.webelement.WebElement (session=\"93e7e8620a33a83f48c1e1e98836c50d\", element=\"7cf849c7-47ef-4404-9e67-7527d257b6e4\")>,\n",
       " <selenium.webdriver.remote.webelement.WebElement (session=\"93e7e8620a33a83f48c1e1e98836c50d\", element=\"6e1f0b1e-5b3a-4483-9f0c-4d0771308a88\")>,\n",
       " <selenium.webdriver.remote.webelement.WebElement (session=\"93e7e8620a33a83f48c1e1e98836c50d\", element=\"e36859fb-6130-49c3-9702-e8bcd1793ec6\")>,\n",
       " <selenium.webdriver.remote.webelement.WebElement (session=\"93e7e8620a33a83f48c1e1e98836c50d\", element=\"d6d25111-7b1d-45eb-b9fa-6a25a1d2d93c\")>,\n",
       " <selenium.webdriver.remote.webelement.WebElement (session=\"93e7e8620a33a83f48c1e1e98836c50d\", element=\"142470cb-addd-479b-b72d-d9975ea3f408\")>,\n",
       " <selenium.webdriver.remote.webelement.WebElement (session=\"93e7e8620a33a83f48c1e1e98836c50d\", element=\"8e1e9839-cee0-4aa5-91d0-2d3d77e2a426\")>,\n",
       " <selenium.webdriver.remote.webelement.WebElement (session=\"93e7e8620a33a83f48c1e1e98836c50d\", element=\"728b7b3c-2a97-4a30-8d45-74af2e293635\")>,\n",
       " <selenium.webdriver.remote.webelement.WebElement (session=\"93e7e8620a33a83f48c1e1e98836c50d\", element=\"daa38821-6ca5-4264-bffc-7d831335732f\")>,\n",
       " <selenium.webdriver.remote.webelement.WebElement (session=\"93e7e8620a33a83f48c1e1e98836c50d\", element=\"ba9788e3-5daa-4400-80f9-d22428ac8b16\")>,\n",
       " <selenium.webdriver.remote.webelement.WebElement (session=\"93e7e8620a33a83f48c1e1e98836c50d\", element=\"0c36c1af-473f-420e-b658-858f4a2fe201\")>,\n",
       " <selenium.webdriver.remote.webelement.WebElement (session=\"93e7e8620a33a83f48c1e1e98836c50d\", element=\"581c7cf9-61f7-4623-8b73-355293168c20\")>,\n",
       " <selenium.webdriver.remote.webelement.WebElement (session=\"93e7e8620a33a83f48c1e1e98836c50d\", element=\"c6f991ae-a2b3-4dcb-8217-f98f8f5c7040\")>,\n",
       " <selenium.webdriver.remote.webelement.WebElement (session=\"93e7e8620a33a83f48c1e1e98836c50d\", element=\"926d38b7-b283-4076-9a33-568ca3746fdb\")>,\n",
       " <selenium.webdriver.remote.webelement.WebElement (session=\"93e7e8620a33a83f48c1e1e98836c50d\", element=\"b2adb912-00be-46c0-b39a-3f26dfefeb5a\")>,\n",
       " <selenium.webdriver.remote.webelement.WebElement (session=\"93e7e8620a33a83f48c1e1e98836c50d\", element=\"6bde2b7a-6bb5-45bb-9b29-c302f5861421\")>,\n",
       " <selenium.webdriver.remote.webelement.WebElement (session=\"93e7e8620a33a83f48c1e1e98836c50d\", element=\"2849198c-4b08-4200-92c2-6e93f445c17d\")>,\n",
       " <selenium.webdriver.remote.webelement.WebElement (session=\"93e7e8620a33a83f48c1e1e98836c50d\", element=\"956d708b-e279-43f5-b0af-65ed4621e5f0\")>,\n",
       " <selenium.webdriver.remote.webelement.WebElement (session=\"93e7e8620a33a83f48c1e1e98836c50d\", element=\"3c345dbe-5d72-4531-93b3-5887d19e85a4\")>,\n",
       " <selenium.webdriver.remote.webelement.WebElement (session=\"93e7e8620a33a83f48c1e1e98836c50d\", element=\"83096e1e-7388-4127-8811-4163d6998224\")>,\n",
       " <selenium.webdriver.remote.webelement.WebElement (session=\"93e7e8620a33a83f48c1e1e98836c50d\", element=\"0951a57c-2ea8-4dcf-b95e-f8e209c40deb\")>,\n",
       " <selenium.webdriver.remote.webelement.WebElement (session=\"93e7e8620a33a83f48c1e1e98836c50d\", element=\"a8fd23ec-e752-4294-a9c6-c6c856e60cb6\")>,\n",
       " <selenium.webdriver.remote.webelement.WebElement (session=\"93e7e8620a33a83f48c1e1e98836c50d\", element=\"17bc4e39-dc40-49cc-9c0a-8078087bec0a\")>,\n",
       " <selenium.webdriver.remote.webelement.WebElement (session=\"93e7e8620a33a83f48c1e1e98836c50d\", element=\"32997a6c-fd73-4d03-8b45-30d2b3a79c29\")>,\n",
       " <selenium.webdriver.remote.webelement.WebElement (session=\"93e7e8620a33a83f48c1e1e98836c50d\", element=\"f2dbd9fd-d0b8-4ba3-ad0d-d2aebcde943b\")>,\n",
       " <selenium.webdriver.remote.webelement.WebElement (session=\"93e7e8620a33a83f48c1e1e98836c50d\", element=\"9d36a231-8d8e-41fb-aa91-304cfe674415\")>,\n",
       " <selenium.webdriver.remote.webelement.WebElement (session=\"93e7e8620a33a83f48c1e1e98836c50d\", element=\"227725de-e474-4b83-9335-ba44b2fef4ac\")>,\n",
       " <selenium.webdriver.remote.webelement.WebElement (session=\"93e7e8620a33a83f48c1e1e98836c50d\", element=\"eb70ef64-dd64-45c5-90e5-57920bc73774\")>,\n",
       " <selenium.webdriver.remote.webelement.WebElement (session=\"93e7e8620a33a83f48c1e1e98836c50d\", element=\"83ca073c-378b-4e1e-a773-aa6eac7d5859\")>,\n",
       " <selenium.webdriver.remote.webelement.WebElement (session=\"93e7e8620a33a83f48c1e1e98836c50d\", element=\"69cbc44d-d4f7-432a-860c-152a3de399da\")>,\n",
       " <selenium.webdriver.remote.webelement.WebElement (session=\"93e7e8620a33a83f48c1e1e98836c50d\", element=\"a307ebf6-d400-4615-b072-b8ff4e56d866\")>,\n",
       " <selenium.webdriver.remote.webelement.WebElement (session=\"93e7e8620a33a83f48c1e1e98836c50d\", element=\"6b37c89a-3ce5-46c2-8c9d-178c81ad7d8a\")>,\n",
       " <selenium.webdriver.remote.webelement.WebElement (session=\"93e7e8620a33a83f48c1e1e98836c50d\", element=\"8c106e08-0c97-4b4f-8b2d-525b0b49901a\")>,\n",
       " <selenium.webdriver.remote.webelement.WebElement (session=\"93e7e8620a33a83f48c1e1e98836c50d\", element=\"86d7dd0f-d9aa-4057-96fa-c331c4ce2af1\")>,\n",
       " <selenium.webdriver.remote.webelement.WebElement (session=\"93e7e8620a33a83f48c1e1e98836c50d\", element=\"be87dcab-b028-464f-97a1-d23462a299d1\")>,\n",
       " <selenium.webdriver.remote.webelement.WebElement (session=\"93e7e8620a33a83f48c1e1e98836c50d\", element=\"d4a48658-a791-4ebc-99ba-f0f32c135e7d\")>,\n",
       " <selenium.webdriver.remote.webelement.WebElement (session=\"93e7e8620a33a83f48c1e1e98836c50d\", element=\"26a57e1a-d642-43db-a4d2-3e6f9330c1b1\")>,\n",
       " <selenium.webdriver.remote.webelement.WebElement (session=\"93e7e8620a33a83f48c1e1e98836c50d\", element=\"453fc886-0206-4041-b9e2-41d4ec8f1443\")>,\n",
       " <selenium.webdriver.remote.webelement.WebElement (session=\"93e7e8620a33a83f48c1e1e98836c50d\", element=\"76267677-6f71-44c5-b62a-1370233c0502\")>,\n",
       " <selenium.webdriver.remote.webelement.WebElement (session=\"93e7e8620a33a83f48c1e1e98836c50d\", element=\"f2095188-0c35-4180-b6ef-4dbd8cf75aad\")>,\n",
       " <selenium.webdriver.remote.webelement.WebElement (session=\"93e7e8620a33a83f48c1e1e98836c50d\", element=\"12693eac-cd80-4fbc-9f42-b58b3636415c\")>,\n",
       " <selenium.webdriver.remote.webelement.WebElement (session=\"93e7e8620a33a83f48c1e1e98836c50d\", element=\"9a3cd097-a793-46ae-9db0-450b1a81e6ee\")>,\n",
       " <selenium.webdriver.remote.webelement.WebElement (session=\"93e7e8620a33a83f48c1e1e98836c50d\", element=\"5f479ba7-597b-4787-8131-493c9c159560\")>,\n",
       " <selenium.webdriver.remote.webelement.WebElement (session=\"93e7e8620a33a83f48c1e1e98836c50d\", element=\"e2d8a32b-a800-44b8-8019-5951ce447ac5\")>,\n",
       " <selenium.webdriver.remote.webelement.WebElement (session=\"93e7e8620a33a83f48c1e1e98836c50d\", element=\"98180806-b88d-4f00-bce2-9926e572dab9\")>,\n",
       " <selenium.webdriver.remote.webelement.WebElement (session=\"93e7e8620a33a83f48c1e1e98836c50d\", element=\"cb0eefa6-8b93-49af-a403-f2dd91ba65b2\")>,\n",
       " <selenium.webdriver.remote.webelement.WebElement (session=\"93e7e8620a33a83f48c1e1e98836c50d\", element=\"da0648da-b852-4fec-a98b-89c2b1b1d69a\")>,\n",
       " <selenium.webdriver.remote.webelement.WebElement (session=\"93e7e8620a33a83f48c1e1e98836c50d\", element=\"564a477c-10b8-47b7-9439-abba8906a140\")>,\n",
       " <selenium.webdriver.remote.webelement.WebElement (session=\"93e7e8620a33a83f48c1e1e98836c50d\", element=\"c6f0a5c1-000f-401a-a9af-786a84261a49\")>,\n",
       " <selenium.webdriver.remote.webelement.WebElement (session=\"93e7e8620a33a83f48c1e1e98836c50d\", element=\"edbfc7aa-b054-49c2-ab22-de7a7db328f6\")>,\n",
       " <selenium.webdriver.remote.webelement.WebElement (session=\"93e7e8620a33a83f48c1e1e98836c50d\", element=\"a3549e62-c392-41df-855b-01b66e60f3d2\")>,\n",
       " <selenium.webdriver.remote.webelement.WebElement (session=\"93e7e8620a33a83f48c1e1e98836c50d\", element=\"96956160-ff8c-4d35-be7d-03a1e66a3183\")>,\n",
       " <selenium.webdriver.remote.webelement.WebElement (session=\"93e7e8620a33a83f48c1e1e98836c50d\", element=\"40eafeaa-a183-46fe-a4c6-789b9d197e46\")>,\n",
       " <selenium.webdriver.remote.webelement.WebElement (session=\"93e7e8620a33a83f48c1e1e98836c50d\", element=\"9196a51b-badc-4d3e-b07c-afa21dee0dae\")>,\n",
       " <selenium.webdriver.remote.webelement.WebElement (session=\"93e7e8620a33a83f48c1e1e98836c50d\", element=\"f3cb8a6e-dc2e-4b9c-a3d9-036e7a3cf2a6\")>,\n",
       " <selenium.webdriver.remote.webelement.WebElement (session=\"93e7e8620a33a83f48c1e1e98836c50d\", element=\"c7cbede1-6a77-4bcb-a64c-00ffea90e288\")>,\n",
       " <selenium.webdriver.remote.webelement.WebElement (session=\"93e7e8620a33a83f48c1e1e98836c50d\", element=\"a8384896-f229-440d-b119-a38c90097716\")>,\n",
       " <selenium.webdriver.remote.webelement.WebElement (session=\"93e7e8620a33a83f48c1e1e98836c50d\", element=\"8eab7a80-9be2-4dbd-ba1b-9e4cc97d4174\")>,\n",
       " <selenium.webdriver.remote.webelement.WebElement (session=\"93e7e8620a33a83f48c1e1e98836c50d\", element=\"03fc7726-e6ac-4a57-a373-44cc4e25b925\")>,\n",
       " <selenium.webdriver.remote.webelement.WebElement (session=\"93e7e8620a33a83f48c1e1e98836c50d\", element=\"85abd299-9b4c-437b-a604-a9b7e860c7f9\")>,\n",
       " <selenium.webdriver.remote.webelement.WebElement (session=\"93e7e8620a33a83f48c1e1e98836c50d\", element=\"7722ee91-b4b3-44cc-b0b6-13b27daa937a\")>,\n",
       " <selenium.webdriver.remote.webelement.WebElement (session=\"93e7e8620a33a83f48c1e1e98836c50d\", element=\"48900c2c-3b82-497f-9987-58eed958f7c5\")>,\n",
       " <selenium.webdriver.remote.webelement.WebElement (session=\"93e7e8620a33a83f48c1e1e98836c50d\", element=\"97240392-19ea-48c4-af8f-51544411b751\")>,\n",
       " <selenium.webdriver.remote.webelement.WebElement (session=\"93e7e8620a33a83f48c1e1e98836c50d\", element=\"ef906684-ccaf-461f-b7eb-a09895f1c0f1\")>,\n",
       " <selenium.webdriver.remote.webelement.WebElement (session=\"93e7e8620a33a83f48c1e1e98836c50d\", element=\"318ecb56-b5ac-44db-aefe-17158e5bc66c\")>,\n",
       " <selenium.webdriver.remote.webelement.WebElement (session=\"93e7e8620a33a83f48c1e1e98836c50d\", element=\"45977500-e75a-4154-b1d9-e5139c2ad5a1\")>,\n",
       " <selenium.webdriver.remote.webelement.WebElement (session=\"93e7e8620a33a83f48c1e1e98836c50d\", element=\"646fa713-1156-4f0b-93c1-bc5b91b16f72\")>,\n",
       " <selenium.webdriver.remote.webelement.WebElement (session=\"93e7e8620a33a83f48c1e1e98836c50d\", element=\"3716d2a7-f040-438f-b239-a9dc3e3b9068\")>,\n",
       " <selenium.webdriver.remote.webelement.WebElement (session=\"93e7e8620a33a83f48c1e1e98836c50d\", element=\"6b2f2bda-1e02-4eed-9fb0-983413dcf8cd\")>,\n",
       " <selenium.webdriver.remote.webelement.WebElement (session=\"93e7e8620a33a83f48c1e1e98836c50d\", element=\"8265d47f-e2f9-4c08-aba1-9e2fd87ca0f3\")>,\n",
       " <selenium.webdriver.remote.webelement.WebElement (session=\"93e7e8620a33a83f48c1e1e98836c50d\", element=\"dc7ca481-1829-4251-b4b2-edade16edae8\")>,\n",
       " <selenium.webdriver.remote.webelement.WebElement (session=\"93e7e8620a33a83f48c1e1e98836c50d\", element=\"824b2fdd-2888-4569-8a4d-bd7220b8b560\")>,\n",
       " <selenium.webdriver.remote.webelement.WebElement (session=\"93e7e8620a33a83f48c1e1e98836c50d\", element=\"c4f925e4-3753-4331-bf40-494df004ff10\")>,\n",
       " <selenium.webdriver.remote.webelement.WebElement (session=\"93e7e8620a33a83f48c1e1e98836c50d\", element=\"d1f6b546-39ac-44d9-9bbc-d73641950c12\")>,\n",
       " <selenium.webdriver.remote.webelement.WebElement (session=\"93e7e8620a33a83f48c1e1e98836c50d\", element=\"c369a80e-a636-4100-bf6c-4c51cb4cb676\")>,\n",
       " <selenium.webdriver.remote.webelement.WebElement (session=\"93e7e8620a33a83f48c1e1e98836c50d\", element=\"265b61b4-fe10-4b5e-9b46-d375dee49cb5\")>,\n",
       " <selenium.webdriver.remote.webelement.WebElement (session=\"93e7e8620a33a83f48c1e1e98836c50d\", element=\"1264ea4e-5795-43f8-a195-939578de9e92\")>,\n",
       " <selenium.webdriver.remote.webelement.WebElement (session=\"93e7e8620a33a83f48c1e1e98836c50d\", element=\"d659440b-c88d-437b-a3d5-800e5f3a6ccb\")>,\n",
       " <selenium.webdriver.remote.webelement.WebElement (session=\"93e7e8620a33a83f48c1e1e98836c50d\", element=\"b03580a6-4174-4f28-9802-8014289eff08\")>,\n",
       " <selenium.webdriver.remote.webelement.WebElement (session=\"93e7e8620a33a83f48c1e1e98836c50d\", element=\"07db1339-62da-4cfb-acbe-92b82e22ab67\")>,\n",
       " <selenium.webdriver.remote.webelement.WebElement (session=\"93e7e8620a33a83f48c1e1e98836c50d\", element=\"079e21f6-0e6a-43a3-94b2-3fab857738a3\")>,\n",
       " <selenium.webdriver.remote.webelement.WebElement (session=\"93e7e8620a33a83f48c1e1e98836c50d\", element=\"44ad223a-2bb5-4533-945e-ff59a45ff6a7\")>,\n",
       " <selenium.webdriver.remote.webelement.WebElement (session=\"93e7e8620a33a83f48c1e1e98836c50d\", element=\"0d015f7c-8443-40fe-919c-d207ac2f68f1\")>,\n",
       " <selenium.webdriver.remote.webelement.WebElement (session=\"93e7e8620a33a83f48c1e1e98836c50d\", element=\"cd611dc0-2f91-4618-9569-d983ebdb61ab\")>,\n",
       " <selenium.webdriver.remote.webelement.WebElement (session=\"93e7e8620a33a83f48c1e1e98836c50d\", element=\"b52fb603-7447-4153-b80d-18204f402c73\")>,\n",
       " <selenium.webdriver.remote.webelement.WebElement (session=\"93e7e8620a33a83f48c1e1e98836c50d\", element=\"5b8ca0c2-c844-40bc-8585-86888619f9d4\")>,\n",
       " <selenium.webdriver.remote.webelement.WebElement (session=\"93e7e8620a33a83f48c1e1e98836c50d\", element=\"35705aa8-2333-49d8-8175-61a9dbb33b23\")>,\n",
       " <selenium.webdriver.remote.webelement.WebElement (session=\"93e7e8620a33a83f48c1e1e98836c50d\", element=\"3466d168-79cc-42b0-9e4a-6eb22d6593e5\")>,\n",
       " <selenium.webdriver.remote.webelement.WebElement (session=\"93e7e8620a33a83f48c1e1e98836c50d\", element=\"70998732-1cee-485b-bc7f-2913b5d57e03\")>,\n",
       " <selenium.webdriver.remote.webelement.WebElement (session=\"93e7e8620a33a83f48c1e1e98836c50d\", element=\"67c73732-08cf-4eaf-98c5-5ed92b1e5c5c\")>,\n",
       " <selenium.webdriver.remote.webelement.WebElement (session=\"93e7e8620a33a83f48c1e1e98836c50d\", element=\"2b2ccfa2-6be1-4694-8d8d-b4f2e79ef074\")>,\n",
       " <selenium.webdriver.remote.webelement.WebElement (session=\"93e7e8620a33a83f48c1e1e98836c50d\", element=\"88d35ac3-0059-4aa7-93a7-0678d510079b\")>,\n",
       " <selenium.webdriver.remote.webelement.WebElement (session=\"93e7e8620a33a83f48c1e1e98836c50d\", element=\"0c09f827-fdf1-45c8-bdd8-36b04f9a473b\")>,\n",
       " <selenium.webdriver.remote.webelement.WebElement (session=\"93e7e8620a33a83f48c1e1e98836c50d\", element=\"bb27f9a7-a414-47c0-8ab3-65cddd4c527f\")>,\n",
       " <selenium.webdriver.remote.webelement.WebElement (session=\"93e7e8620a33a83f48c1e1e98836c50d\", element=\"0a1e1dd4-fb5f-48f5-8103-03d0b55820ef\")>,\n",
       " <selenium.webdriver.remote.webelement.WebElement (session=\"93e7e8620a33a83f48c1e1e98836c50d\", element=\"205625c1-0ee7-4880-944b-60c1ef480c0d\")>,\n",
       " <selenium.webdriver.remote.webelement.WebElement (session=\"93e7e8620a33a83f48c1e1e98836c50d\", element=\"93831cfb-01f2-4174-88aa-0770e8feb347\")>,\n",
       " <selenium.webdriver.remote.webelement.WebElement (session=\"93e7e8620a33a83f48c1e1e98836c50d\", element=\"a3d0b424-570c-47c1-93a8-f1eacf584ca7\")>,\n",
       " <selenium.webdriver.remote.webelement.WebElement (session=\"93e7e8620a33a83f48c1e1e98836c50d\", element=\"20e1020b-47ae-4dcc-ae42-925fc91ea66e\")>,\n",
       " <selenium.webdriver.remote.webelement.WebElement (session=\"93e7e8620a33a83f48c1e1e98836c50d\", element=\"1d6cb96a-f347-4c1f-80fe-b7c68825d39f\")>,\n",
       " <selenium.webdriver.remote.webelement.WebElement (session=\"93e7e8620a33a83f48c1e1e98836c50d\", element=\"a0fbbbd8-dafe-47e6-884f-72cc29b07d0d\")>,\n",
       " <selenium.webdriver.remote.webelement.WebElement (session=\"93e7e8620a33a83f48c1e1e98836c50d\", element=\"ed124148-3621-403c-a4f6-d5df497bb12b\")>,\n",
       " <selenium.webdriver.remote.webelement.WebElement (session=\"93e7e8620a33a83f48c1e1e98836c50d\", element=\"3b00ee2e-a573-4724-8268-67b650639815\")>,\n",
       " <selenium.webdriver.remote.webelement.WebElement (session=\"93e7e8620a33a83f48c1e1e98836c50d\", element=\"ed506799-e1e9-4dcc-b894-eb936bf82608\")>,\n",
       " <selenium.webdriver.remote.webelement.WebElement (session=\"93e7e8620a33a83f48c1e1e98836c50d\", element=\"42fdc06d-e450-45dc-83e8-3a45e55e8885\")>,\n",
       " <selenium.webdriver.remote.webelement.WebElement (session=\"93e7e8620a33a83f48c1e1e98836c50d\", element=\"3dfcb289-89d0-455d-9802-fb4e12a72eae\")>,\n",
       " <selenium.webdriver.remote.webelement.WebElement (session=\"93e7e8620a33a83f48c1e1e98836c50d\", element=\"2d2b90c1-ee72-41ef-bcff-b13ddbeaf4d9\")>,\n",
       " <selenium.webdriver.remote.webelement.WebElement (session=\"93e7e8620a33a83f48c1e1e98836c50d\", element=\"eade3965-3e8c-4e47-a6f3-1b235a81e87a\")>,\n",
       " <selenium.webdriver.remote.webelement.WebElement (session=\"93e7e8620a33a83f48c1e1e98836c50d\", element=\"cde62eed-f38a-4dfa-a08d-4f58e640482d\")>,\n",
       " <selenium.webdriver.remote.webelement.WebElement (session=\"93e7e8620a33a83f48c1e1e98836c50d\", element=\"833b42ba-a088-4ed5-ba7b-2d890c3a4471\")>,\n",
       " <selenium.webdriver.remote.webelement.WebElement (session=\"93e7e8620a33a83f48c1e1e98836c50d\", element=\"1d97eb7b-e92a-41a8-98cb-55efa3f26d25\")>,\n",
       " <selenium.webdriver.remote.webelement.WebElement (session=\"93e7e8620a33a83f48c1e1e98836c50d\", element=\"10a9022c-d6fe-4614-88f0-d7c9f92476e3\")>,\n",
       " <selenium.webdriver.remote.webelement.WebElement (session=\"93e7e8620a33a83f48c1e1e98836c50d\", element=\"2012fab3-5816-4a4f-9e6f-73db9c68a1b5\")>,\n",
       " <selenium.webdriver.remote.webelement.WebElement (session=\"93e7e8620a33a83f48c1e1e98836c50d\", element=\"2b0fd69b-e57f-4282-8027-69528d9eb18a\")>,\n",
       " <selenium.webdriver.remote.webelement.WebElement (session=\"93e7e8620a33a83f48c1e1e98836c50d\", element=\"c69c3a00-879b-409f-99b5-bf3f33f28538\")>,\n",
       " <selenium.webdriver.remote.webelement.WebElement (session=\"93e7e8620a33a83f48c1e1e98836c50d\", element=\"83e521c7-8978-45ca-bd81-a887ea20639e\")>,\n",
       " <selenium.webdriver.remote.webelement.WebElement (session=\"93e7e8620a33a83f48c1e1e98836c50d\", element=\"afa7b219-3bc6-44db-a91f-c4371fe45c40\")>,\n",
       " <selenium.webdriver.remote.webelement.WebElement (session=\"93e7e8620a33a83f48c1e1e98836c50d\", element=\"05777191-2d84-49b0-a1b0-d4365c25417b\")>,\n",
       " <selenium.webdriver.remote.webelement.WebElement (session=\"93e7e8620a33a83f48c1e1e98836c50d\", element=\"23bbd71f-11c1-482c-a318-b10df72287c3\")>,\n",
       " <selenium.webdriver.remote.webelement.WebElement (session=\"93e7e8620a33a83f48c1e1e98836c50d\", element=\"0e0c9be6-5651-4841-970b-deb2ae4930b5\")>,\n",
       " <selenium.webdriver.remote.webelement.WebElement (session=\"93e7e8620a33a83f48c1e1e98836c50d\", element=\"5edd45b9-909d-45fa-aebf-489f14fb5176\")>,\n",
       " <selenium.webdriver.remote.webelement.WebElement (session=\"93e7e8620a33a83f48c1e1e98836c50d\", element=\"9eeb34dd-8c00-4f9b-9d14-e75f2daa3e98\")>,\n",
       " <selenium.webdriver.remote.webelement.WebElement (session=\"93e7e8620a33a83f48c1e1e98836c50d\", element=\"7c099d77-f92d-47de-bfb9-bbb54bcdfe1a\")>,\n",
       " <selenium.webdriver.remote.webelement.WebElement (session=\"93e7e8620a33a83f48c1e1e98836c50d\", element=\"18ed8601-0c1e-42a7-ba7b-21215dfeda1f\")>,\n",
       " <selenium.webdriver.remote.webelement.WebElement (session=\"93e7e8620a33a83f48c1e1e98836c50d\", element=\"3a9f4d4c-2d02-41a0-9123-a23b83e5da52\")>,\n",
       " <selenium.webdriver.remote.webelement.WebElement (session=\"93e7e8620a33a83f48c1e1e98836c50d\", element=\"1cb5f089-e4d5-4f0b-8160-72eef1767c21\")>,\n",
       " <selenium.webdriver.remote.webelement.WebElement (session=\"93e7e8620a33a83f48c1e1e98836c50d\", element=\"4bdc37aa-af5e-4360-8ce0-45c4225062e4\")>,\n",
       " <selenium.webdriver.remote.webelement.WebElement (session=\"93e7e8620a33a83f48c1e1e98836c50d\", element=\"027e160e-e4f6-4a29-a0e9-650c2deeccea\")>,\n",
       " <selenium.webdriver.remote.webelement.WebElement (session=\"93e7e8620a33a83f48c1e1e98836c50d\", element=\"a9fe43c1-8cf2-439d-a00f-5030d1cc291a\")>,\n",
       " <selenium.webdriver.remote.webelement.WebElement (session=\"93e7e8620a33a83f48c1e1e98836c50d\", element=\"954f8bab-717e-4bde-879e-bc40163240fe\")>,\n",
       " <selenium.webdriver.remote.webelement.WebElement (session=\"93e7e8620a33a83f48c1e1e98836c50d\", element=\"0eef6ba0-d4be-42b2-b405-575fbcfd03cb\")>,\n",
       " <selenium.webdriver.remote.webelement.WebElement (session=\"93e7e8620a33a83f48c1e1e98836c50d\", element=\"c985b819-b27c-43cb-ade3-fdb09c22ffda\")>,\n",
       " <selenium.webdriver.remote.webelement.WebElement (session=\"93e7e8620a33a83f48c1e1e98836c50d\", element=\"5418e596-e2a7-4f05-855b-ce258e5588be\")>,\n",
       " <selenium.webdriver.remote.webelement.WebElement (session=\"93e7e8620a33a83f48c1e1e98836c50d\", element=\"abe14cf9-cac2-4fd0-9132-e89ed5ab0738\")>,\n",
       " <selenium.webdriver.remote.webelement.WebElement (session=\"93e7e8620a33a83f48c1e1e98836c50d\", element=\"a5cc1be1-03b7-435e-a806-6fb0b795535e\")>,\n",
       " <selenium.webdriver.remote.webelement.WebElement (session=\"93e7e8620a33a83f48c1e1e98836c50d\", element=\"4a6ed07d-2ed6-400e-adac-99ba1ed0536c\")>,\n",
       " <selenium.webdriver.remote.webelement.WebElement (session=\"93e7e8620a33a83f48c1e1e98836c50d\", element=\"817e1ea8-14f0-425c-86ac-0442f9f70b76\")>,\n",
       " <selenium.webdriver.remote.webelement.WebElement (session=\"93e7e8620a33a83f48c1e1e98836c50d\", element=\"7ee3e3f2-d4d1-448c-b078-f4e96e8a68b3\")>,\n",
       " <selenium.webdriver.remote.webelement.WebElement (session=\"93e7e8620a33a83f48c1e1e98836c50d\", element=\"49f1abcb-25a2-4cd3-9d41-3474851229fd\")>,\n",
       " <selenium.webdriver.remote.webelement.WebElement (session=\"93e7e8620a33a83f48c1e1e98836c50d\", element=\"77416ff0-24ca-4c87-8d26-b65cfacd77a3\")>,\n",
       " <selenium.webdriver.remote.webelement.WebElement (session=\"93e7e8620a33a83f48c1e1e98836c50d\", element=\"37bf566b-95ed-41d9-a325-7853ade8c68c\")>,\n",
       " <selenium.webdriver.remote.webelement.WebElement (session=\"93e7e8620a33a83f48c1e1e98836c50d\", element=\"5c993288-0f96-497c-89f2-c9a7346af0d9\")>,\n",
       " <selenium.webdriver.remote.webelement.WebElement (session=\"93e7e8620a33a83f48c1e1e98836c50d\", element=\"5945e63e-a706-4de0-83ae-dc57037cd032\")>,\n",
       " <selenium.webdriver.remote.webelement.WebElement (session=\"93e7e8620a33a83f48c1e1e98836c50d\", element=\"2cac25f3-46de-45fe-8f6f-4654ef9864d3\")>,\n",
       " <selenium.webdriver.remote.webelement.WebElement (session=\"93e7e8620a33a83f48c1e1e98836c50d\", element=\"a04f3dd9-748d-43e2-a535-e05ae4e38cea\")>,\n",
       " <selenium.webdriver.remote.webelement.WebElement (session=\"93e7e8620a33a83f48c1e1e98836c50d\", element=\"33f91943-a99d-4497-909d-db9684e4fc3d\")>,\n",
       " <selenium.webdriver.remote.webelement.WebElement (session=\"93e7e8620a33a83f48c1e1e98836c50d\", element=\"c86a4a84-c737-4956-9883-acfd8c4d6ce5\")>,\n",
       " <selenium.webdriver.remote.webelement.WebElement (session=\"93e7e8620a33a83f48c1e1e98836c50d\", element=\"f26361fd-ae28-445a-97df-1ac7624a4c00\")>,\n",
       " <selenium.webdriver.remote.webelement.WebElement (session=\"93e7e8620a33a83f48c1e1e98836c50d\", element=\"b8ea6682-8631-43b6-945b-0c874244ea7b\")>,\n",
       " <selenium.webdriver.remote.webelement.WebElement (session=\"93e7e8620a33a83f48c1e1e98836c50d\", element=\"bb57535c-f4f7-4d8a-98ba-25e2615b8267\")>,\n",
       " <selenium.webdriver.remote.webelement.WebElement (session=\"93e7e8620a33a83f48c1e1e98836c50d\", element=\"2b94be2d-7d05-449e-905e-abb8aff48001\")>,\n",
       " <selenium.webdriver.remote.webelement.WebElement (session=\"93e7e8620a33a83f48c1e1e98836c50d\", element=\"6bd7c04f-8b50-4263-be29-9586fcf1781e\")>,\n",
       " <selenium.webdriver.remote.webelement.WebElement (session=\"93e7e8620a33a83f48c1e1e98836c50d\", element=\"3187609d-cf52-4c8e-ab26-aff69c67afa3\")>,\n",
       " <selenium.webdriver.remote.webelement.WebElement (session=\"93e7e8620a33a83f48c1e1e98836c50d\", element=\"cc84174d-2d52-421e-b9bb-e74b4da2bf64\")>,\n",
       " <selenium.webdriver.remote.webelement.WebElement (session=\"93e7e8620a33a83f48c1e1e98836c50d\", element=\"88e5a4ed-ef3c-4763-afa1-8c35248813f9\")>,\n",
       " <selenium.webdriver.remote.webelement.WebElement (session=\"93e7e8620a33a83f48c1e1e98836c50d\", element=\"648fc658-71b4-40d0-aa89-c6c775669c66\")>,\n",
       " <selenium.webdriver.remote.webelement.WebElement (session=\"93e7e8620a33a83f48c1e1e98836c50d\", element=\"6d5a3c1b-d439-43e3-a6f5-d2e183fd0a54\")>,\n",
       " <selenium.webdriver.remote.webelement.WebElement (session=\"93e7e8620a33a83f48c1e1e98836c50d\", element=\"f34deef2-5501-42c1-b1bd-fee1316cf6da\")>,\n",
       " <selenium.webdriver.remote.webelement.WebElement (session=\"93e7e8620a33a83f48c1e1e98836c50d\", element=\"ecc0e2e5-8e0a-43c0-82e0-eb2cf6d6d7e3\")>,\n",
       " <selenium.webdriver.remote.webelement.WebElement (session=\"93e7e8620a33a83f48c1e1e98836c50d\", element=\"3e6cba15-b358-49b3-a5c1-27aa1097053d\")>,\n",
       " <selenium.webdriver.remote.webelement.WebElement (session=\"93e7e8620a33a83f48c1e1e98836c50d\", element=\"68912626-d473-4d08-80d5-44fe8b549e29\")>,\n",
       " <selenium.webdriver.remote.webelement.WebElement (session=\"93e7e8620a33a83f48c1e1e98836c50d\", element=\"6d120276-8cca-4eb7-977a-b88d1a02959f\")>,\n",
       " <selenium.webdriver.remote.webelement.WebElement (session=\"93e7e8620a33a83f48c1e1e98836c50d\", element=\"487aecf1-dcd1-4f4c-b761-8d5209087148\")>,\n",
       " <selenium.webdriver.remote.webelement.WebElement (session=\"93e7e8620a33a83f48c1e1e98836c50d\", element=\"1d604466-b65d-4b4d-bd73-fec279623015\")>,\n",
       " <selenium.webdriver.remote.webelement.WebElement (session=\"93e7e8620a33a83f48c1e1e98836c50d\", element=\"21f979fd-c96b-4be8-98ea-278efbd19f5f\")>,\n",
       " <selenium.webdriver.remote.webelement.WebElement (session=\"93e7e8620a33a83f48c1e1e98836c50d\", element=\"55a0d5c3-9747-4822-84db-64cbe2fcce3b\")>,\n",
       " <selenium.webdriver.remote.webelement.WebElement (session=\"93e7e8620a33a83f48c1e1e98836c50d\", element=\"fb9b5f1b-234e-4de8-94b6-915afd3e35c1\")>,\n",
       " <selenium.webdriver.remote.webelement.WebElement (session=\"93e7e8620a33a83f48c1e1e98836c50d\", element=\"1986bf3f-7b95-4bb8-8b43-6a614aa19961\")>,\n",
       " <selenium.webdriver.remote.webelement.WebElement (session=\"93e7e8620a33a83f48c1e1e98836c50d\", element=\"2c335393-de98-487a-9cd3-f9b5f08fb150\")>,\n",
       " <selenium.webdriver.remote.webelement.WebElement (session=\"93e7e8620a33a83f48c1e1e98836c50d\", element=\"0ccba681-fc1c-4c83-80f6-e50f3b1d750a\")>,\n",
       " <selenium.webdriver.remote.webelement.WebElement (session=\"93e7e8620a33a83f48c1e1e98836c50d\", element=\"795e45ac-d5b3-46e5-bf7a-ca93a54a2206\")>,\n",
       " <selenium.webdriver.remote.webelement.WebElement (session=\"93e7e8620a33a83f48c1e1e98836c50d\", element=\"4923356b-ff43-41d4-8833-91c21521b59e\")>,\n",
       " <selenium.webdriver.remote.webelement.WebElement (session=\"93e7e8620a33a83f48c1e1e98836c50d\", element=\"d3907556-c287-4358-a925-91c43e4bd157\")>,\n",
       " <selenium.webdriver.remote.webelement.WebElement (session=\"93e7e8620a33a83f48c1e1e98836c50d\", element=\"9f2beb40-a356-4473-b05b-56d3e6cee9cf\")>,\n",
       " <selenium.webdriver.remote.webelement.WebElement (session=\"93e7e8620a33a83f48c1e1e98836c50d\", element=\"b7ff68b4-7d97-4514-bb19-176ad2ab3d48\")>,\n",
       " <selenium.webdriver.remote.webelement.WebElement (session=\"93e7e8620a33a83f48c1e1e98836c50d\", element=\"dded552a-5a61-4c74-bfbf-8871502526b3\")>,\n",
       " <selenium.webdriver.remote.webelement.WebElement (session=\"93e7e8620a33a83f48c1e1e98836c50d\", element=\"2b256710-cde6-4a8b-8338-f99e583c3394\")>,\n",
       " <selenium.webdriver.remote.webelement.WebElement (session=\"93e7e8620a33a83f48c1e1e98836c50d\", element=\"dbe29c5b-afd6-4b9b-ab0c-6f400f6ef93c\")>,\n",
       " <selenium.webdriver.remote.webelement.WebElement (session=\"93e7e8620a33a83f48c1e1e98836c50d\", element=\"3c7ff090-c6e2-4b5f-8a77-fa9c8854bc7e\")>,\n",
       " <selenium.webdriver.remote.webelement.WebElement (session=\"93e7e8620a33a83f48c1e1e98836c50d\", element=\"01f4346f-8db1-44e1-8ac3-8148fa4a99c9\")>,\n",
       " <selenium.webdriver.remote.webelement.WebElement (session=\"93e7e8620a33a83f48c1e1e98836c50d\", element=\"ef49101b-961b-4396-a2d1-45e6a0965f89\")>,\n",
       " <selenium.webdriver.remote.webelement.WebElement (session=\"93e7e8620a33a83f48c1e1e98836c50d\", element=\"3cf55954-6162-46c4-a394-6f7487bf331e\")>,\n",
       " <selenium.webdriver.remote.webelement.WebElement (session=\"93e7e8620a33a83f48c1e1e98836c50d\", element=\"aae1c2b9-1f78-47a3-b3f2-3f1a84cbbe8b\")>,\n",
       " <selenium.webdriver.remote.webelement.WebElement (session=\"93e7e8620a33a83f48c1e1e98836c50d\", element=\"84949d2a-4655-4e7c-b011-ad5d57a2a741\")>,\n",
       " <selenium.webdriver.remote.webelement.WebElement (session=\"93e7e8620a33a83f48c1e1e98836c50d\", element=\"b97fcc18-a321-44c9-99ee-b592bd7bf620\")>,\n",
       " <selenium.webdriver.remote.webelement.WebElement (session=\"93e7e8620a33a83f48c1e1e98836c50d\", element=\"c633e964-f80d-43d5-a7ae-0adc1d6005a7\")>,\n",
       " <selenium.webdriver.remote.webelement.WebElement (session=\"93e7e8620a33a83f48c1e1e98836c50d\", element=\"260c9cce-b2eb-49cf-86a9-cf7b5af26a98\")>,\n",
       " <selenium.webdriver.remote.webelement.WebElement (session=\"93e7e8620a33a83f48c1e1e98836c50d\", element=\"ce413176-095c-4561-93e2-812fd29ded97\")>,\n",
       " <selenium.webdriver.remote.webelement.WebElement (session=\"93e7e8620a33a83f48c1e1e98836c50d\", element=\"6ffe5368-aadf-4324-bfc3-116417325249\")>,\n",
       " <selenium.webdriver.remote.webelement.WebElement (session=\"93e7e8620a33a83f48c1e1e98836c50d\", element=\"df12c4d3-a795-49ed-b749-442abe4cf381\")>,\n",
       " <selenium.webdriver.remote.webelement.WebElement (session=\"93e7e8620a33a83f48c1e1e98836c50d\", element=\"6e9ebc40-6eae-4877-8635-e72db2fef7f0\")>,\n",
       " <selenium.webdriver.remote.webelement.WebElement (session=\"93e7e8620a33a83f48c1e1e98836c50d\", element=\"fcfd86db-1ba0-4cce-b7d4-aa085b248a26\")>,\n",
       " <selenium.webdriver.remote.webelement.WebElement (session=\"93e7e8620a33a83f48c1e1e98836c50d\", element=\"f942ca07-832f-4e7e-847e-9f0f8cc16a49\")>,\n",
       " <selenium.webdriver.remote.webelement.WebElement (session=\"93e7e8620a33a83f48c1e1e98836c50d\", element=\"0455f929-8d9f-45cf-b310-2891f3f90468\")>,\n",
       " <selenium.webdriver.remote.webelement.WebElement (session=\"93e7e8620a33a83f48c1e1e98836c50d\", element=\"ec4e8e41-2080-4d18-a5dd-db1bffa7d970\")>,\n",
       " <selenium.webdriver.remote.webelement.WebElement (session=\"93e7e8620a33a83f48c1e1e98836c50d\", element=\"66c40176-f91c-42be-95f7-0632a898f363\")>,\n",
       " <selenium.webdriver.remote.webelement.WebElement (session=\"93e7e8620a33a83f48c1e1e98836c50d\", element=\"71360033-3c5e-46f5-9af5-631d6d0903ad\")>,\n",
       " <selenium.webdriver.remote.webelement.WebElement (session=\"93e7e8620a33a83f48c1e1e98836c50d\", element=\"306e7bf1-9902-4223-a58e-9baa5aad1995\")>,\n",
       " <selenium.webdriver.remote.webelement.WebElement (session=\"93e7e8620a33a83f48c1e1e98836c50d\", element=\"381fd76b-2f87-497b-bd02-1c900ad297ac\")>,\n",
       " <selenium.webdriver.remote.webelement.WebElement (session=\"93e7e8620a33a83f48c1e1e98836c50d\", element=\"439162ff-85b7-463a-8f11-3a8a8b6ba28a\")>,\n",
       " <selenium.webdriver.remote.webelement.WebElement (session=\"93e7e8620a33a83f48c1e1e98836c50d\", element=\"8fbed6e1-ecb8-4c98-ba64-8fc0601b6a39\")>,\n",
       " <selenium.webdriver.remote.webelement.WebElement (session=\"93e7e8620a33a83f48c1e1e98836c50d\", element=\"34ef57d6-3f01-4401-925c-a402918eb5c7\")>,\n",
       " <selenium.webdriver.remote.webelement.WebElement (session=\"93e7e8620a33a83f48c1e1e98836c50d\", element=\"7d2312e7-2df9-470d-9ad0-7b58015e26fb\")>,\n",
       " <selenium.webdriver.remote.webelement.WebElement (session=\"93e7e8620a33a83f48c1e1e98836c50d\", element=\"97db6abe-f565-49bb-abff-54d97a50fd9e\")>,\n",
       " <selenium.webdriver.remote.webelement.WebElement (session=\"93e7e8620a33a83f48c1e1e98836c50d\", element=\"6231b747-de11-4c7b-a826-82ea835d31db\")>,\n",
       " <selenium.webdriver.remote.webelement.WebElement (session=\"93e7e8620a33a83f48c1e1e98836c50d\", element=\"e5533588-770c-4e14-9b95-398d7c4c9355\")>,\n",
       " <selenium.webdriver.remote.webelement.WebElement (session=\"93e7e8620a33a83f48c1e1e98836c50d\", element=\"aaac1bba-69f5-46cc-ab79-03587c4f2999\")>,\n",
       " <selenium.webdriver.remote.webelement.WebElement (session=\"93e7e8620a33a83f48c1e1e98836c50d\", element=\"20d7190e-c74f-4271-9ef0-abf08b293371\")>,\n",
       " <selenium.webdriver.remote.webelement.WebElement (session=\"93e7e8620a33a83f48c1e1e98836c50d\", element=\"a8396e5b-80f9-49d2-abd8-960255b9785d\")>,\n",
       " <selenium.webdriver.remote.webelement.WebElement (session=\"93e7e8620a33a83f48c1e1e98836c50d\", element=\"dbb05bec-b01d-44d3-b0f8-d7c4f3d9f5d1\")>,\n",
       " <selenium.webdriver.remote.webelement.WebElement (session=\"93e7e8620a33a83f48c1e1e98836c50d\", element=\"2dab5c9c-a319-43bb-86e9-91e2b22a43cb\")>,\n",
       " <selenium.webdriver.remote.webelement.WebElement (session=\"93e7e8620a33a83f48c1e1e98836c50d\", element=\"7ef8c4eb-af29-466d-88d9-553128f69b42\")>,\n",
       " <selenium.webdriver.remote.webelement.WebElement (session=\"93e7e8620a33a83f48c1e1e98836c50d\", element=\"e8b47748-4734-4385-8667-0bc6d197c726\")>,\n",
       " <selenium.webdriver.remote.webelement.WebElement (session=\"93e7e8620a33a83f48c1e1e98836c50d\", element=\"c696197a-9cab-44e6-865f-2283cd417bef\")>,\n",
       " <selenium.webdriver.remote.webelement.WebElement (session=\"93e7e8620a33a83f48c1e1e98836c50d\", element=\"dc1c87d2-248e-4312-b45a-c2b00de1e39b\")>,\n",
       " <selenium.webdriver.remote.webelement.WebElement (session=\"93e7e8620a33a83f48c1e1e98836c50d\", element=\"ac70f407-d52f-43de-ba0e-6e434b1ce408\")>,\n",
       " <selenium.webdriver.remote.webelement.WebElement (session=\"93e7e8620a33a83f48c1e1e98836c50d\", element=\"8b265d15-7d5d-41a5-aff1-d59afc445fec\")>,\n",
       " <selenium.webdriver.remote.webelement.WebElement (session=\"93e7e8620a33a83f48c1e1e98836c50d\", element=\"2ce935e1-bf2c-4140-99d6-b8a8265918a7\")>,\n",
       " <selenium.webdriver.remote.webelement.WebElement (session=\"93e7e8620a33a83f48c1e1e98836c50d\", element=\"14fc58d6-afe6-4db8-b26a-6fd9c037d9a8\")>,\n",
       " <selenium.webdriver.remote.webelement.WebElement (session=\"93e7e8620a33a83f48c1e1e98836c50d\", element=\"bd3ed95f-47b4-4414-bc99-680379f83e3b\")>,\n",
       " <selenium.webdriver.remote.webelement.WebElement (session=\"93e7e8620a33a83f48c1e1e98836c50d\", element=\"80ebebb4-fd77-498d-a4c9-ad26a390731e\")>,\n",
       " <selenium.webdriver.remote.webelement.WebElement (session=\"93e7e8620a33a83f48c1e1e98836c50d\", element=\"3f2253a7-667f-443c-ba1a-2ade29cac5fb\")>,\n",
       " <selenium.webdriver.remote.webelement.WebElement (session=\"93e7e8620a33a83f48c1e1e98836c50d\", element=\"c7241190-cfe4-43be-8db8-95791e640891\")>,\n",
       " <selenium.webdriver.remote.webelement.WebElement (session=\"93e7e8620a33a83f48c1e1e98836c50d\", element=\"7a76243b-6393-4f80-8891-ced30ba57709\")>,\n",
       " <selenium.webdriver.remote.webelement.WebElement (session=\"93e7e8620a33a83f48c1e1e98836c50d\", element=\"bff446e1-d530-4a6e-8ee1-b1463bc17fee\")>,\n",
       " <selenium.webdriver.remote.webelement.WebElement (session=\"93e7e8620a33a83f48c1e1e98836c50d\", element=\"9e996c19-3062-4297-8d99-813190222af9\")>,\n",
       " <selenium.webdriver.remote.webelement.WebElement (session=\"93e7e8620a33a83f48c1e1e98836c50d\", element=\"6db4d0a0-0dd1-4c05-9331-bec6eab69b29\")>,\n",
       " <selenium.webdriver.remote.webelement.WebElement (session=\"93e7e8620a33a83f48c1e1e98836c50d\", element=\"91d61956-d09e-483b-bf9b-77fe32614a23\")>,\n",
       " <selenium.webdriver.remote.webelement.WebElement (session=\"93e7e8620a33a83f48c1e1e98836c50d\", element=\"51e4d072-1fc7-4583-b2e4-2be1520a9aa0\")>,\n",
       " <selenium.webdriver.remote.webelement.WebElement (session=\"93e7e8620a33a83f48c1e1e98836c50d\", element=\"569cb834-f737-4e89-a573-2931229ea63e\")>,\n",
       " <selenium.webdriver.remote.webelement.WebElement (session=\"93e7e8620a33a83f48c1e1e98836c50d\", element=\"9abfa6cd-f3ac-4f18-ab09-51ad7e835c3b\")>,\n",
       " <selenium.webdriver.remote.webelement.WebElement (session=\"93e7e8620a33a83f48c1e1e98836c50d\", element=\"1cbfe62f-5ea3-4d97-acb1-77b054e880dd\")>,\n",
       " <selenium.webdriver.remote.webelement.WebElement (session=\"93e7e8620a33a83f48c1e1e98836c50d\", element=\"8828be7e-6243-4f0b-bce0-bf2bd2fe37ab\")>,\n",
       " <selenium.webdriver.remote.webelement.WebElement (session=\"93e7e8620a33a83f48c1e1e98836c50d\", element=\"edc53dfa-cd4a-430c-b05c-864aa270b38d\")>,\n",
       " <selenium.webdriver.remote.webelement.WebElement (session=\"93e7e8620a33a83f48c1e1e98836c50d\", element=\"2717d4fa-e806-4816-bbbe-58948f9b77d4\")>,\n",
       " <selenium.webdriver.remote.webelement.WebElement (session=\"93e7e8620a33a83f48c1e1e98836c50d\", element=\"09596925-bc31-4d28-b554-7864a0ec4801\")>,\n",
       " <selenium.webdriver.remote.webelement.WebElement (session=\"93e7e8620a33a83f48c1e1e98836c50d\", element=\"2f1eb9af-3cd0-40f4-9866-ce786398e521\")>,\n",
       " <selenium.webdriver.remote.webelement.WebElement (session=\"93e7e8620a33a83f48c1e1e98836c50d\", element=\"713fa22d-d574-4b4b-a4e8-6169457778b4\")>,\n",
       " <selenium.webdriver.remote.webelement.WebElement (session=\"93e7e8620a33a83f48c1e1e98836c50d\", element=\"d446c196-830f-47fb-8857-88418657ee62\")>,\n",
       " <selenium.webdriver.remote.webelement.WebElement (session=\"93e7e8620a33a83f48c1e1e98836c50d\", element=\"64107a9d-1b1d-4e59-b759-6bd6fbd30ebe\")>,\n",
       " <selenium.webdriver.remote.webelement.WebElement (session=\"93e7e8620a33a83f48c1e1e98836c50d\", element=\"aabfc4e2-568d-45fd-b5a8-cd34632c8c69\")>,\n",
       " <selenium.webdriver.remote.webelement.WebElement (session=\"93e7e8620a33a83f48c1e1e98836c50d\", element=\"28ae2992-37df-44f5-b4e1-5fb5569a6165\")>,\n",
       " <selenium.webdriver.remote.webelement.WebElement (session=\"93e7e8620a33a83f48c1e1e98836c50d\", element=\"29d134b7-7947-4fda-817e-4fbe881e9dd5\")>,\n",
       " <selenium.webdriver.remote.webelement.WebElement (session=\"93e7e8620a33a83f48c1e1e98836c50d\", element=\"ac0468d8-b145-4c4e-bb47-8635d51d5ca2\")>,\n",
       " <selenium.webdriver.remote.webelement.WebElement (session=\"93e7e8620a33a83f48c1e1e98836c50d\", element=\"32e24c06-7a87-4a8c-879d-0a527a03bfe2\")>,\n",
       " <selenium.webdriver.remote.webelement.WebElement (session=\"93e7e8620a33a83f48c1e1e98836c50d\", element=\"96a7746f-9d11-443d-89f5-bb32d61b4b7d\")>,\n",
       " <selenium.webdriver.remote.webelement.WebElement (session=\"93e7e8620a33a83f48c1e1e98836c50d\", element=\"4a43adba-5ed3-4c2a-806b-fd66410f4905\")>,\n",
       " <selenium.webdriver.remote.webelement.WebElement (session=\"93e7e8620a33a83f48c1e1e98836c50d\", element=\"a8a2ec77-3453-4f0c-9e8c-d8368f996cf8\")>,\n",
       " <selenium.webdriver.remote.webelement.WebElement (session=\"93e7e8620a33a83f48c1e1e98836c50d\", element=\"925df16a-9b55-43de-9b52-93e8c000ec37\")>,\n",
       " <selenium.webdriver.remote.webelement.WebElement (session=\"93e7e8620a33a83f48c1e1e98836c50d\", element=\"67ad2226-321e-4967-a7a3-9146ceee5e89\")>,\n",
       " <selenium.webdriver.remote.webelement.WebElement (session=\"93e7e8620a33a83f48c1e1e98836c50d\", element=\"ccdc4bee-1b20-49f1-a105-3c3780072e6d\")>,\n",
       " <selenium.webdriver.remote.webelement.WebElement (session=\"93e7e8620a33a83f48c1e1e98836c50d\", element=\"d92ab5f5-4c62-4657-be4c-641d8adae8e9\")>,\n",
       " <selenium.webdriver.remote.webelement.WebElement (session=\"93e7e8620a33a83f48c1e1e98836c50d\", element=\"46da04ca-27ee-4eb6-8f1c-3c5a0e814598\")>,\n",
       " <selenium.webdriver.remote.webelement.WebElement (session=\"93e7e8620a33a83f48c1e1e98836c50d\", element=\"4eb1e885-c47f-4559-9a10-124e70217f1e\")>,\n",
       " <selenium.webdriver.remote.webelement.WebElement (session=\"93e7e8620a33a83f48c1e1e98836c50d\", element=\"2dc659ce-1bbd-4e01-a20f-0181bb490551\")>,\n",
       " <selenium.webdriver.remote.webelement.WebElement (session=\"93e7e8620a33a83f48c1e1e98836c50d\", element=\"de0ee9ca-1abb-414d-8bfd-8c9fad5849d2\")>,\n",
       " <selenium.webdriver.remote.webelement.WebElement (session=\"93e7e8620a33a83f48c1e1e98836c50d\", element=\"c15910f6-6f50-4994-8bec-aee17360b638\")>,\n",
       " <selenium.webdriver.remote.webelement.WebElement (session=\"93e7e8620a33a83f48c1e1e98836c50d\", element=\"2d32d4c2-d7c4-4608-b5f4-1b9ac066c77b\")>,\n",
       " <selenium.webdriver.remote.webelement.WebElement (session=\"93e7e8620a33a83f48c1e1e98836c50d\", element=\"dd0ba6e5-90f6-44ee-ad63-fbf808c8d40c\")>,\n",
       " <selenium.webdriver.remote.webelement.WebElement (session=\"93e7e8620a33a83f48c1e1e98836c50d\", element=\"78372154-a839-41fc-a5c3-51a9c5af7be1\")>,\n",
       " <selenium.webdriver.remote.webelement.WebElement (session=\"93e7e8620a33a83f48c1e1e98836c50d\", element=\"892046d2-5ddc-4e81-8a89-f7c872f1dace\")>,\n",
       " <selenium.webdriver.remote.webelement.WebElement (session=\"93e7e8620a33a83f48c1e1e98836c50d\", element=\"b6c45233-f071-4a66-8139-a8daad95645d\")>,\n",
       " <selenium.webdriver.remote.webelement.WebElement (session=\"93e7e8620a33a83f48c1e1e98836c50d\", element=\"1d96df0e-67d6-4872-bae4-9697ce317e33\")>,\n",
       " <selenium.webdriver.remote.webelement.WebElement (session=\"93e7e8620a33a83f48c1e1e98836c50d\", element=\"c2346e4a-af2d-472d-b180-379e687fbb59\")>,\n",
       " <selenium.webdriver.remote.webelement.WebElement (session=\"93e7e8620a33a83f48c1e1e98836c50d\", element=\"c59a08d8-ff2a-494d-917b-bcbd6bf039d9\")>,\n",
       " <selenium.webdriver.remote.webelement.WebElement (session=\"93e7e8620a33a83f48c1e1e98836c50d\", element=\"9b8b69e9-f0bc-4ce6-bbf8-823c92d5af74\")>,\n",
       " <selenium.webdriver.remote.webelement.WebElement (session=\"93e7e8620a33a83f48c1e1e98836c50d\", element=\"8d203d3f-e785-4101-a60b-1161bf459a1e\")>,\n",
       " <selenium.webdriver.remote.webelement.WebElement (session=\"93e7e8620a33a83f48c1e1e98836c50d\", element=\"a4d48bc7-f3d7-4a98-a91c-dcdbb934302c\")>,\n",
       " <selenium.webdriver.remote.webelement.WebElement (session=\"93e7e8620a33a83f48c1e1e98836c50d\", element=\"61a2866d-6aea-4eb7-8ed2-bd87c1486bad\")>,\n",
       " <selenium.webdriver.remote.webelement.WebElement (session=\"93e7e8620a33a83f48c1e1e98836c50d\", element=\"833d0795-79c9-40b2-b421-9eafff0c5caa\")>,\n",
       " <selenium.webdriver.remote.webelement.WebElement (session=\"93e7e8620a33a83f48c1e1e98836c50d\", element=\"d42517a8-3fe6-42ab-bedb-e038f0539768\")>,\n",
       " <selenium.webdriver.remote.webelement.WebElement (session=\"93e7e8620a33a83f48c1e1e98836c50d\", element=\"19055c9c-8d0f-4c9c-9635-95e6787675a4\")>,\n",
       " <selenium.webdriver.remote.webelement.WebElement (session=\"93e7e8620a33a83f48c1e1e98836c50d\", element=\"5e62d563-e618-4d1a-9ce1-8269239b84f6\")>,\n",
       " <selenium.webdriver.remote.webelement.WebElement (session=\"93e7e8620a33a83f48c1e1e98836c50d\", element=\"a64858df-8682-48a0-99d6-056b1e77fb9c\")>,\n",
       " <selenium.webdriver.remote.webelement.WebElement (session=\"93e7e8620a33a83f48c1e1e98836c50d\", element=\"611d00ec-76d9-4892-a6ab-e62e1153d9f0\")>,\n",
       " <selenium.webdriver.remote.webelement.WebElement (session=\"93e7e8620a33a83f48c1e1e98836c50d\", element=\"2f0ea37b-3ea1-409b-a9ac-b918d0b7f01f\")>,\n",
       " <selenium.webdriver.remote.webelement.WebElement (session=\"93e7e8620a33a83f48c1e1e98836c50d\", element=\"64bed041-dae8-4073-8567-03b854898efc\")>,\n",
       " <selenium.webdriver.remote.webelement.WebElement (session=\"93e7e8620a33a83f48c1e1e98836c50d\", element=\"d565d473-3aff-4d8a-9849-7f8f882aa524\")>,\n",
       " <selenium.webdriver.remote.webelement.WebElement (session=\"93e7e8620a33a83f48c1e1e98836c50d\", element=\"4c156dc4-7a17-43c9-8a3c-972bee7fe270\")>,\n",
       " <selenium.webdriver.remote.webelement.WebElement (session=\"93e7e8620a33a83f48c1e1e98836c50d\", element=\"a4e81c15-f738-4662-96ba-b73924416138\")>,\n",
       " <selenium.webdriver.remote.webelement.WebElement (session=\"93e7e8620a33a83f48c1e1e98836c50d\", element=\"ccddf2d1-a2f8-4b2e-bc73-7061fcc58642\")>,\n",
       " <selenium.webdriver.remote.webelement.WebElement (session=\"93e7e8620a33a83f48c1e1e98836c50d\", element=\"a27d5f2e-ac4c-490d-8277-f3f1e12310a1\")>,\n",
       " <selenium.webdriver.remote.webelement.WebElement (session=\"93e7e8620a33a83f48c1e1e98836c50d\", element=\"ebdca74d-c6f9-4a30-b46c-812144e310da\")>,\n",
       " <selenium.webdriver.remote.webelement.WebElement (session=\"93e7e8620a33a83f48c1e1e98836c50d\", element=\"63890d1b-10e4-4029-8c74-deb87dadea07\")>,\n",
       " <selenium.webdriver.remote.webelement.WebElement (session=\"93e7e8620a33a83f48c1e1e98836c50d\", element=\"2598b4aa-a06b-4649-93d0-ade3dd0ae990\")>,\n",
       " <selenium.webdriver.remote.webelement.WebElement (session=\"93e7e8620a33a83f48c1e1e98836c50d\", element=\"cadbb9d2-0216-4026-b2a4-88295e9fe47e\")>,\n",
       " <selenium.webdriver.remote.webelement.WebElement (session=\"93e7e8620a33a83f48c1e1e98836c50d\", element=\"82602b0d-1eb2-4509-bc2b-cb5fbce169db\")>,\n",
       " <selenium.webdriver.remote.webelement.WebElement (session=\"93e7e8620a33a83f48c1e1e98836c50d\", element=\"66138bd9-1602-46f9-b7e7-b6f3466edb26\")>,\n",
       " <selenium.webdriver.remote.webelement.WebElement (session=\"93e7e8620a33a83f48c1e1e98836c50d\", element=\"19d47301-bc1e-4a77-b4dc-7ed47d7f4fb6\")>,\n",
       " <selenium.webdriver.remote.webelement.WebElement (session=\"93e7e8620a33a83f48c1e1e98836c50d\", element=\"cd5e5073-d49f-4ec7-b699-7b5aec77414f\")>,\n",
       " <selenium.webdriver.remote.webelement.WebElement (session=\"93e7e8620a33a83f48c1e1e98836c50d\", element=\"5bcb2e52-eaac-4810-8e72-8822e67d3230\")>,\n",
       " <selenium.webdriver.remote.webelement.WebElement (session=\"93e7e8620a33a83f48c1e1e98836c50d\", element=\"4d68d66d-e720-4391-92e0-693d699f486c\")>,\n",
       " <selenium.webdriver.remote.webelement.WebElement (session=\"93e7e8620a33a83f48c1e1e98836c50d\", element=\"2893bf89-fdd0-4ce6-a027-63b50ac9a097\")>,\n",
       " <selenium.webdriver.remote.webelement.WebElement (session=\"93e7e8620a33a83f48c1e1e98836c50d\", element=\"3266adbd-a205-4cf3-bfaa-ae2cf818aafc\")>,\n",
       " <selenium.webdriver.remote.webelement.WebElement (session=\"93e7e8620a33a83f48c1e1e98836c50d\", element=\"93e9512e-a657-4dac-8058-cc1132a3ad67\")>,\n",
       " <selenium.webdriver.remote.webelement.WebElement (session=\"93e7e8620a33a83f48c1e1e98836c50d\", element=\"5f5e0fb9-1f2b-491d-836e-0ab0b0843962\")>,\n",
       " <selenium.webdriver.remote.webelement.WebElement (session=\"93e7e8620a33a83f48c1e1e98836c50d\", element=\"735d2413-c343-411e-b7ce-e98703f8bb1a\")>,\n",
       " <selenium.webdriver.remote.webelement.WebElement (session=\"93e7e8620a33a83f48c1e1e98836c50d\", element=\"3fca0af4-e4ec-4863-bbb2-93fbfb2cb3a5\")>,\n",
       " <selenium.webdriver.remote.webelement.WebElement (session=\"93e7e8620a33a83f48c1e1e98836c50d\", element=\"31416767-0a7a-478a-a0bf-8917a7db6b34\")>,\n",
       " <selenium.webdriver.remote.webelement.WebElement (session=\"93e7e8620a33a83f48c1e1e98836c50d\", element=\"b78e515c-76f8-4f69-9304-7c4c712c67d8\")>,\n",
       " <selenium.webdriver.remote.webelement.WebElement (session=\"93e7e8620a33a83f48c1e1e98836c50d\", element=\"62465f65-1f70-4592-bf04-1ab1c2fa590f\")>,\n",
       " <selenium.webdriver.remote.webelement.WebElement (session=\"93e7e8620a33a83f48c1e1e98836c50d\", element=\"902e8088-e863-4f01-b5da-7d70a84fbe83\")>,\n",
       " <selenium.webdriver.remote.webelement.WebElement (session=\"93e7e8620a33a83f48c1e1e98836c50d\", element=\"59fd43fd-3aa5-4107-b28b-6feda7c60c49\")>,\n",
       " <selenium.webdriver.remote.webelement.WebElement (session=\"93e7e8620a33a83f48c1e1e98836c50d\", element=\"61b607e5-789b-4e96-b664-70433f16fb68\")>,\n",
       " <selenium.webdriver.remote.webelement.WebElement (session=\"93e7e8620a33a83f48c1e1e98836c50d\", element=\"c77e21b1-76ac-4f7a-b450-d4c3ffbb7e89\")>,\n",
       " <selenium.webdriver.remote.webelement.WebElement (session=\"93e7e8620a33a83f48c1e1e98836c50d\", element=\"2c8fc4c0-f173-4349-9f51-b0dec5928af2\")>,\n",
       " <selenium.webdriver.remote.webelement.WebElement (session=\"93e7e8620a33a83f48c1e1e98836c50d\", element=\"cc13a4a9-6187-45e9-b9f6-d91a8597b2a5\")>,\n",
       " <selenium.webdriver.remote.webelement.WebElement (session=\"93e7e8620a33a83f48c1e1e98836c50d\", element=\"4b9de034-8234-4001-89fb-48a008c0debb\")>,\n",
       " <selenium.webdriver.remote.webelement.WebElement (session=\"93e7e8620a33a83f48c1e1e98836c50d\", element=\"83f17ae0-0788-45d9-a140-6eed6938b686\")>,\n",
       " <selenium.webdriver.remote.webelement.WebElement (session=\"93e7e8620a33a83f48c1e1e98836c50d\", element=\"ca43153a-12c0-4982-a4cd-8b14ad27452d\")>,\n",
       " <selenium.webdriver.remote.webelement.WebElement (session=\"93e7e8620a33a83f48c1e1e98836c50d\", element=\"3d4984fc-2217-44a6-a7db-18a928f1e2f3\")>,\n",
       " <selenium.webdriver.remote.webelement.WebElement (session=\"93e7e8620a33a83f48c1e1e98836c50d\", element=\"27379913-6a93-43e3-9d24-ef4c810b3108\")>,\n",
       " <selenium.webdriver.remote.webelement.WebElement (session=\"93e7e8620a33a83f48c1e1e98836c50d\", element=\"a788e2f7-ca00-4487-9425-f1efce6b565d\")>,\n",
       " <selenium.webdriver.remote.webelement.WebElement (session=\"93e7e8620a33a83f48c1e1e98836c50d\", element=\"6ea6c5a6-39b5-445c-a613-0b4e61ca1574\")>,\n",
       " <selenium.webdriver.remote.webelement.WebElement (session=\"93e7e8620a33a83f48c1e1e98836c50d\", element=\"5e495185-244d-44f7-94b8-4778be0f935c\")>,\n",
       " <selenium.webdriver.remote.webelement.WebElement (session=\"93e7e8620a33a83f48c1e1e98836c50d\", element=\"c64d18d5-58b7-43cc-b01b-9a1f2d19ea72\")>,\n",
       " <selenium.webdriver.remote.webelement.WebElement (session=\"93e7e8620a33a83f48c1e1e98836c50d\", element=\"e673509f-4c75-412f-8a0d-f6eae7ed72fc\")>,\n",
       " <selenium.webdriver.remote.webelement.WebElement (session=\"93e7e8620a33a83f48c1e1e98836c50d\", element=\"3461247b-acdb-4ce7-bd76-0ba343e89182\")>,\n",
       " <selenium.webdriver.remote.webelement.WebElement (session=\"93e7e8620a33a83f48c1e1e98836c50d\", element=\"ff84a8c5-2c78-4153-b68d-492d83105cf7\")>,\n",
       " <selenium.webdriver.remote.webelement.WebElement (session=\"93e7e8620a33a83f48c1e1e98836c50d\", element=\"9c014506-1503-4cd4-9f08-4de5f02df4ab\")>,\n",
       " <selenium.webdriver.remote.webelement.WebElement (session=\"93e7e8620a33a83f48c1e1e98836c50d\", element=\"0a2b28f1-2cd5-4353-94e3-950f159c2e77\")>,\n",
       " <selenium.webdriver.remote.webelement.WebElement (session=\"93e7e8620a33a83f48c1e1e98836c50d\", element=\"e71906af-86cd-418a-91b9-b257ed74cf0f\")>,\n",
       " <selenium.webdriver.remote.webelement.WebElement (session=\"93e7e8620a33a83f48c1e1e98836c50d\", element=\"4eb488c8-f724-4cc4-84d8-20df3a542446\")>,\n",
       " <selenium.webdriver.remote.webelement.WebElement (session=\"93e7e8620a33a83f48c1e1e98836c50d\", element=\"6f493841-ac38-4355-b2d7-e0a479a1d51c\")>,\n",
       " <selenium.webdriver.remote.webelement.WebElement (session=\"93e7e8620a33a83f48c1e1e98836c50d\", element=\"8b7d61f4-cce6-44ed-ae35-16bb188786e8\")>,\n",
       " <selenium.webdriver.remote.webelement.WebElement (session=\"93e7e8620a33a83f48c1e1e98836c50d\", element=\"4d9ef475-7a6d-4dbf-bd98-c704a91df4c9\")>,\n",
       " <selenium.webdriver.remote.webelement.WebElement (session=\"93e7e8620a33a83f48c1e1e98836c50d\", element=\"00371055-1879-43a4-b4cb-7ae4c172567e\")>,\n",
       " <selenium.webdriver.remote.webelement.WebElement (session=\"93e7e8620a33a83f48c1e1e98836c50d\", element=\"9015b7f5-71a7-49bf-8ecd-7015815b095f\")>,\n",
       " <selenium.webdriver.remote.webelement.WebElement (session=\"93e7e8620a33a83f48c1e1e98836c50d\", element=\"e3befe73-c273-4637-9c92-ba6acb63b9bc\")>,\n",
       " <selenium.webdriver.remote.webelement.WebElement (session=\"93e7e8620a33a83f48c1e1e98836c50d\", element=\"01680cde-65ae-46af-8de8-e375cd41e43b\")>,\n",
       " <selenium.webdriver.remote.webelement.WebElement (session=\"93e7e8620a33a83f48c1e1e98836c50d\", element=\"0f5bc4ea-253b-4679-bfcc-aeb7dcfbe088\")>,\n",
       " <selenium.webdriver.remote.webelement.WebElement (session=\"93e7e8620a33a83f48c1e1e98836c50d\", element=\"8331d17a-deb0-4cd6-8227-a9f6d6b80889\")>,\n",
       " <selenium.webdriver.remote.webelement.WebElement (session=\"93e7e8620a33a83f48c1e1e98836c50d\", element=\"2e6ecac8-ea42-4eda-adcf-11bc882d48b6\")>,\n",
       " <selenium.webdriver.remote.webelement.WebElement (session=\"93e7e8620a33a83f48c1e1e98836c50d\", element=\"3815a4e1-5d98-4197-8f28-fd67141a2d08\")>,\n",
       " <selenium.webdriver.remote.webelement.WebElement (session=\"93e7e8620a33a83f48c1e1e98836c50d\", element=\"bed1cc57-d85a-4cd5-8065-0078c399eed9\")>,\n",
       " <selenium.webdriver.remote.webelement.WebElement (session=\"93e7e8620a33a83f48c1e1e98836c50d\", element=\"ea2111d0-c8e3-4378-b430-695ae1462e37\")>,\n",
       " <selenium.webdriver.remote.webelement.WebElement (session=\"93e7e8620a33a83f48c1e1e98836c50d\", element=\"6983c847-dd5c-4d08-bcaf-bf859dc47983\")>,\n",
       " <selenium.webdriver.remote.webelement.WebElement (session=\"93e7e8620a33a83f48c1e1e98836c50d\", element=\"c3a7090f-d819-4949-b21d-412af6d5679d\")>,\n",
       " <selenium.webdriver.remote.webelement.WebElement (session=\"93e7e8620a33a83f48c1e1e98836c50d\", element=\"3908fd1b-264b-407f-a2df-d59c024bcf7f\")>,\n",
       " <selenium.webdriver.remote.webelement.WebElement (session=\"93e7e8620a33a83f48c1e1e98836c50d\", element=\"d19ec55b-908c-42c1-bda8-3eee18e8e86a\")>,\n",
       " <selenium.webdriver.remote.webelement.WebElement (session=\"93e7e8620a33a83f48c1e1e98836c50d\", element=\"bafe63c2-4268-485f-a31f-4d317ec6db04\")>,\n",
       " <selenium.webdriver.remote.webelement.WebElement (session=\"93e7e8620a33a83f48c1e1e98836c50d\", element=\"01701f6c-eb44-4403-ba7d-dc36e9317f16\")>,\n",
       " <selenium.webdriver.remote.webelement.WebElement (session=\"93e7e8620a33a83f48c1e1e98836c50d\", element=\"30ad83c9-da82-47bf-b58f-88e68af68b54\")>,\n",
       " <selenium.webdriver.remote.webelement.WebElement (session=\"93e7e8620a33a83f48c1e1e98836c50d\", element=\"2b0a0fd4-f435-4473-8a7d-c4fbf22a3779\")>,\n",
       " <selenium.webdriver.remote.webelement.WebElement (session=\"93e7e8620a33a83f48c1e1e98836c50d\", element=\"80fb5fd0-3f06-49aa-8129-62d76bf51823\")>,\n",
       " <selenium.webdriver.remote.webelement.WebElement (session=\"93e7e8620a33a83f48c1e1e98836c50d\", element=\"01ff49bf-2f7c-47f7-a533-753b4914737b\")>,\n",
       " <selenium.webdriver.remote.webelement.WebElement (session=\"93e7e8620a33a83f48c1e1e98836c50d\", element=\"c6540294-2a5f-4197-8a34-dd44b010a3a9\")>,\n",
       " <selenium.webdriver.remote.webelement.WebElement (session=\"93e7e8620a33a83f48c1e1e98836c50d\", element=\"ee21585f-6c17-4a2a-a7d2-0e005cd4b840\")>,\n",
       " <selenium.webdriver.remote.webelement.WebElement (session=\"93e7e8620a33a83f48c1e1e98836c50d\", element=\"1f139601-85eb-4101-86fc-24d7dbd85d49\")>,\n",
       " <selenium.webdriver.remote.webelement.WebElement (session=\"93e7e8620a33a83f48c1e1e98836c50d\", element=\"b60868fb-3a3d-410b-848f-5114ff7a1e2a\")>,\n",
       " <selenium.webdriver.remote.webelement.WebElement (session=\"93e7e8620a33a83f48c1e1e98836c50d\", element=\"070705ca-3098-40e3-bb97-27ebec0ac3ed\")>,\n",
       " <selenium.webdriver.remote.webelement.WebElement (session=\"93e7e8620a33a83f48c1e1e98836c50d\", element=\"a23602fb-ddfd-475b-834e-16a3395fe9ac\")>,\n",
       " <selenium.webdriver.remote.webelement.WebElement (session=\"93e7e8620a33a83f48c1e1e98836c50d\", element=\"cfcd141c-251d-4971-8b52-8dfe2a66da92\")>,\n",
       " <selenium.webdriver.remote.webelement.WebElement (session=\"93e7e8620a33a83f48c1e1e98836c50d\", element=\"69b23183-d1d0-4ef2-a23f-40eee7734ee2\")>,\n",
       " <selenium.webdriver.remote.webelement.WebElement (session=\"93e7e8620a33a83f48c1e1e98836c50d\", element=\"063d749b-d09b-41e5-9192-aa12180e5b3d\")>,\n",
       " <selenium.webdriver.remote.webelement.WebElement (session=\"93e7e8620a33a83f48c1e1e98836c50d\", element=\"7cfa75a2-c410-42e8-9bd4-7ae01c0d86be\")>,\n",
       " <selenium.webdriver.remote.webelement.WebElement (session=\"93e7e8620a33a83f48c1e1e98836c50d\", element=\"fb4e7f29-4330-4c8d-8cef-f43b04d3a97d\")>,\n",
       " <selenium.webdriver.remote.webelement.WebElement (session=\"93e7e8620a33a83f48c1e1e98836c50d\", element=\"3940cc74-ee04-44b6-9e6e-fb3251b479d1\")>,\n",
       " <selenium.webdriver.remote.webelement.WebElement (session=\"93e7e8620a33a83f48c1e1e98836c50d\", element=\"0ba61247-83fe-466e-8d64-07f3bc0d0200\")>,\n",
       " <selenium.webdriver.remote.webelement.WebElement (session=\"93e7e8620a33a83f48c1e1e98836c50d\", element=\"c0e56fcd-fee8-45eb-b934-b572cf53612c\")>,\n",
       " <selenium.webdriver.remote.webelement.WebElement (session=\"93e7e8620a33a83f48c1e1e98836c50d\", element=\"7ad0fbbf-d5fd-4a05-8069-417eb6a83947\")>,\n",
       " <selenium.webdriver.remote.webelement.WebElement (session=\"93e7e8620a33a83f48c1e1e98836c50d\", element=\"57084641-d8fa-4007-ad18-4918f85d819b\")>,\n",
       " <selenium.webdriver.remote.webelement.WebElement (session=\"93e7e8620a33a83f48c1e1e98836c50d\", element=\"e47eb01c-b1e7-4147-a555-7a3879261d16\")>,\n",
       " <selenium.webdriver.remote.webelement.WebElement (session=\"93e7e8620a33a83f48c1e1e98836c50d\", element=\"e180cb9d-5086-417d-bba9-f74e468d28d7\")>,\n",
       " <selenium.webdriver.remote.webelement.WebElement (session=\"93e7e8620a33a83f48c1e1e98836c50d\", element=\"8acca523-3c79-4495-8ae7-17f691e7cdf0\")>,\n",
       " <selenium.webdriver.remote.webelement.WebElement (session=\"93e7e8620a33a83f48c1e1e98836c50d\", element=\"7331372c-4737-4bdd-8cdf-bf1f60a1f89d\")>,\n",
       " <selenium.webdriver.remote.webelement.WebElement (session=\"93e7e8620a33a83f48c1e1e98836c50d\", element=\"ed729796-d550-47aa-bbae-83a72cef766a\")>,\n",
       " <selenium.webdriver.remote.webelement.WebElement (session=\"93e7e8620a33a83f48c1e1e98836c50d\", element=\"080c942e-6496-4fbf-838c-65223da28d81\")>,\n",
       " <selenium.webdriver.remote.webelement.WebElement (session=\"93e7e8620a33a83f48c1e1e98836c50d\", element=\"4c627ae2-df31-425c-ba5b-8d9b3d4ff5c8\")>,\n",
       " <selenium.webdriver.remote.webelement.WebElement (session=\"93e7e8620a33a83f48c1e1e98836c50d\", element=\"330e2ffb-b2fc-43e7-aecf-ed1bc4353ad2\")>,\n",
       " <selenium.webdriver.remote.webelement.WebElement (session=\"93e7e8620a33a83f48c1e1e98836c50d\", element=\"e93f4f11-27a1-43d4-92f0-2f5ff412807c\")>,\n",
       " <selenium.webdriver.remote.webelement.WebElement (session=\"93e7e8620a33a83f48c1e1e98836c50d\", element=\"b33cf138-d4fb-404b-862a-ed143fdb930a\")>,\n",
       " <selenium.webdriver.remote.webelement.WebElement (session=\"93e7e8620a33a83f48c1e1e98836c50d\", element=\"30ac2c22-1e94-41f2-b10d-406e457644db\")>,\n",
       " <selenium.webdriver.remote.webelement.WebElement (session=\"93e7e8620a33a83f48c1e1e98836c50d\", element=\"a60e34fd-81b1-4ef8-b098-dd603761adb0\")>,\n",
       " <selenium.webdriver.remote.webelement.WebElement (session=\"93e7e8620a33a83f48c1e1e98836c50d\", element=\"154a8024-239b-4b9a-b808-69f40b414c0c\")>,\n",
       " <selenium.webdriver.remote.webelement.WebElement (session=\"93e7e8620a33a83f48c1e1e98836c50d\", element=\"0f9f10ee-8c1f-4b94-b400-a4c16aabd177\")>,\n",
       " <selenium.webdriver.remote.webelement.WebElement (session=\"93e7e8620a33a83f48c1e1e98836c50d\", element=\"fc345118-c570-47dc-8f18-e1c5fef17516\")>,\n",
       " <selenium.webdriver.remote.webelement.WebElement (session=\"93e7e8620a33a83f48c1e1e98836c50d\", element=\"ab328089-7fed-45d9-bd16-8d1885121678\")>,\n",
       " <selenium.webdriver.remote.webelement.WebElement (session=\"93e7e8620a33a83f48c1e1e98836c50d\", element=\"03f255ad-d98d-47c6-83f5-840f904ba067\")>,\n",
       " <selenium.webdriver.remote.webelement.WebElement (session=\"93e7e8620a33a83f48c1e1e98836c50d\", element=\"2edf9c4a-9cec-4555-acf4-3321d9eae990\")>,\n",
       " <selenium.webdriver.remote.webelement.WebElement (session=\"93e7e8620a33a83f48c1e1e98836c50d\", element=\"a0c40386-bf84-48a9-b97b-31a86db6f5ba\")>,\n",
       " <selenium.webdriver.remote.webelement.WebElement (session=\"93e7e8620a33a83f48c1e1e98836c50d\", element=\"3fcbd1b0-49ee-4f5e-8f7b-e510963617d9\")>,\n",
       " <selenium.webdriver.remote.webelement.WebElement (session=\"93e7e8620a33a83f48c1e1e98836c50d\", element=\"c724d687-8053-4a21-97f0-8ea2b501c3a9\")>,\n",
       " <selenium.webdriver.remote.webelement.WebElement (session=\"93e7e8620a33a83f48c1e1e98836c50d\", element=\"4ee8c9cf-3574-4d77-b568-77f00239fbf2\")>,\n",
       " <selenium.webdriver.remote.webelement.WebElement (session=\"93e7e8620a33a83f48c1e1e98836c50d\", element=\"8b4bf843-6b26-41d6-b945-5b81d8f743f6\")>,\n",
       " <selenium.webdriver.remote.webelement.WebElement (session=\"93e7e8620a33a83f48c1e1e98836c50d\", element=\"02c59a6a-da64-440d-8c57-5eee3bffdf46\")>,\n",
       " <selenium.webdriver.remote.webelement.WebElement (session=\"93e7e8620a33a83f48c1e1e98836c50d\", element=\"3a1dec64-2556-4717-8936-775656961587\")>,\n",
       " <selenium.webdriver.remote.webelement.WebElement (session=\"93e7e8620a33a83f48c1e1e98836c50d\", element=\"b3e70beb-fa26-4d0d-a950-b1f38a63b791\")>,\n",
       " <selenium.webdriver.remote.webelement.WebElement (session=\"93e7e8620a33a83f48c1e1e98836c50d\", element=\"d99bc25c-ff42-4644-8f8b-64300bd48f57\")>,\n",
       " <selenium.webdriver.remote.webelement.WebElement (session=\"93e7e8620a33a83f48c1e1e98836c50d\", element=\"cb6b5129-faef-41f5-905b-37b68ed2e7b1\")>,\n",
       " <selenium.webdriver.remote.webelement.WebElement (session=\"93e7e8620a33a83f48c1e1e98836c50d\", element=\"504b7683-0582-4451-b50c-cfd533fc4534\")>,\n",
       " <selenium.webdriver.remote.webelement.WebElement (session=\"93e7e8620a33a83f48c1e1e98836c50d\", element=\"11f51d1d-e34d-4a16-96f9-5cb46122b6ab\")>,\n",
       " <selenium.webdriver.remote.webelement.WebElement (session=\"93e7e8620a33a83f48c1e1e98836c50d\", element=\"9b4d706b-3488-4ebc-ae30-1c6385760727\")>,\n",
       " <selenium.webdriver.remote.webelement.WebElement (session=\"93e7e8620a33a83f48c1e1e98836c50d\", element=\"f97504d1-d909-4890-9539-464fb2c3fc56\")>,\n",
       " <selenium.webdriver.remote.webelement.WebElement (session=\"93e7e8620a33a83f48c1e1e98836c50d\", element=\"38b85a42-8b79-45ca-82a3-5442cbd00288\")>,\n",
       " <selenium.webdriver.remote.webelement.WebElement (session=\"93e7e8620a33a83f48c1e1e98836c50d\", element=\"640369f2-d9ca-4928-816a-334a257b8bd1\")>,\n",
       " <selenium.webdriver.remote.webelement.WebElement (session=\"93e7e8620a33a83f48c1e1e98836c50d\", element=\"28fbe4a4-8b67-41f7-81e5-2fb23a208f5c\")>,\n",
       " <selenium.webdriver.remote.webelement.WebElement (session=\"93e7e8620a33a83f48c1e1e98836c50d\", element=\"af5a71b1-19c5-445b-8f76-6496e516a830\")>,\n",
       " <selenium.webdriver.remote.webelement.WebElement (session=\"93e7e8620a33a83f48c1e1e98836c50d\", element=\"c4b0ad78-e978-49b0-a8c6-421459a1671d\")>,\n",
       " <selenium.webdriver.remote.webelement.WebElement (session=\"93e7e8620a33a83f48c1e1e98836c50d\", element=\"5200cf87-8c44-4ad0-807e-01eba60d8782\")>,\n",
       " <selenium.webdriver.remote.webelement.WebElement (session=\"93e7e8620a33a83f48c1e1e98836c50d\", element=\"25966798-5815-410d-9beb-625805ef286f\")>,\n",
       " <selenium.webdriver.remote.webelement.WebElement (session=\"93e7e8620a33a83f48c1e1e98836c50d\", element=\"66bf11a7-4366-4b9a-8660-d0db8b2b0f6b\")>,\n",
       " <selenium.webdriver.remote.webelement.WebElement (session=\"93e7e8620a33a83f48c1e1e98836c50d\", element=\"ae721b23-6dd4-4f53-ba3a-3bf765a59870\")>,\n",
       " <selenium.webdriver.remote.webelement.WebElement (session=\"93e7e8620a33a83f48c1e1e98836c50d\", element=\"6aa082ce-7bf8-40d5-804a-0bea9032f02a\")>,\n",
       " <selenium.webdriver.remote.webelement.WebElement (session=\"93e7e8620a33a83f48c1e1e98836c50d\", element=\"e06a0092-21c4-4db6-85c0-cb8cf6a38277\")>,\n",
       " <selenium.webdriver.remote.webelement.WebElement (session=\"93e7e8620a33a83f48c1e1e98836c50d\", element=\"1680e8fa-86bb-4937-ac63-85cd3e0f6d5b\")>,\n",
       " <selenium.webdriver.remote.webelement.WebElement (session=\"93e7e8620a33a83f48c1e1e98836c50d\", element=\"708df0e6-4e82-49a7-8d72-4118ab18a9d0\")>,\n",
       " <selenium.webdriver.remote.webelement.WebElement (session=\"93e7e8620a33a83f48c1e1e98836c50d\", element=\"c62d26eb-3515-4ee1-ae65-87b759363871\")>,\n",
       " <selenium.webdriver.remote.webelement.WebElement (session=\"93e7e8620a33a83f48c1e1e98836c50d\", element=\"7a47b12c-c9b9-449f-bdda-c671a1f4d2e9\")>,\n",
       " <selenium.webdriver.remote.webelement.WebElement (session=\"93e7e8620a33a83f48c1e1e98836c50d\", element=\"b0982d00-7772-44e3-863d-c2dc30020a52\")>,\n",
       " <selenium.webdriver.remote.webelement.WebElement (session=\"93e7e8620a33a83f48c1e1e98836c50d\", element=\"74a86269-664f-441a-a52f-b68b1374b4f3\")>,\n",
       " <selenium.webdriver.remote.webelement.WebElement (session=\"93e7e8620a33a83f48c1e1e98836c50d\", element=\"c65a7e6f-e39d-4a10-aa7a-ff5ab9335f4a\")>,\n",
       " <selenium.webdriver.remote.webelement.WebElement (session=\"93e7e8620a33a83f48c1e1e98836c50d\", element=\"549f1e83-5ed8-4d3b-be71-5289ac4e917d\")>,\n",
       " <selenium.webdriver.remote.webelement.WebElement (session=\"93e7e8620a33a83f48c1e1e98836c50d\", element=\"436308b2-d474-4932-8218-3b7423b00058\")>,\n",
       " <selenium.webdriver.remote.webelement.WebElement (session=\"93e7e8620a33a83f48c1e1e98836c50d\", element=\"712005db-e140-4514-a56b-ff8cec5d1d2b\")>,\n",
       " <selenium.webdriver.remote.webelement.WebElement (session=\"93e7e8620a33a83f48c1e1e98836c50d\", element=\"9940e6a5-6c81-4d8c-b906-8b61aced4310\")>,\n",
       " <selenium.webdriver.remote.webelement.WebElement (session=\"93e7e8620a33a83f48c1e1e98836c50d\", element=\"1c457582-c63f-4c6f-8cae-a55d3ffa5bf1\")>,\n",
       " <selenium.webdriver.remote.webelement.WebElement (session=\"93e7e8620a33a83f48c1e1e98836c50d\", element=\"d29899aa-a0af-4218-a106-b97c5dd1fd49\")>,\n",
       " <selenium.webdriver.remote.webelement.WebElement (session=\"93e7e8620a33a83f48c1e1e98836c50d\", element=\"361c838a-ea69-4dcc-b9f7-f4ef10a87837\")>,\n",
       " <selenium.webdriver.remote.webelement.WebElement (session=\"93e7e8620a33a83f48c1e1e98836c50d\", element=\"9420f0c4-efd0-408f-85aa-119cd825bbfd\")>,\n",
       " <selenium.webdriver.remote.webelement.WebElement (session=\"93e7e8620a33a83f48c1e1e98836c50d\", element=\"d0557dc8-8436-450c-9049-3657ff3f6cc9\")>,\n",
       " <selenium.webdriver.remote.webelement.WebElement (session=\"93e7e8620a33a83f48c1e1e98836c50d\", element=\"ba901fb5-b69c-46a9-8b9b-3c40754b0555\")>,\n",
       " <selenium.webdriver.remote.webelement.WebElement (session=\"93e7e8620a33a83f48c1e1e98836c50d\", element=\"ac9b3833-6560-4b42-b1b9-40398c111826\")>,\n",
       " <selenium.webdriver.remote.webelement.WebElement (session=\"93e7e8620a33a83f48c1e1e98836c50d\", element=\"6904bcef-998c-4f9c-8188-2b3bcb4305a9\")>,\n",
       " <selenium.webdriver.remote.webelement.WebElement (session=\"93e7e8620a33a83f48c1e1e98836c50d\", element=\"aad6cb3c-47ac-445a-b931-9345a0b620ed\")>,\n",
       " <selenium.webdriver.remote.webelement.WebElement (session=\"93e7e8620a33a83f48c1e1e98836c50d\", element=\"3ddee4f3-6f81-41dd-a33e-9d6fc253b298\")>,\n",
       " <selenium.webdriver.remote.webelement.WebElement (session=\"93e7e8620a33a83f48c1e1e98836c50d\", element=\"a4574108-100c-4f88-be63-2a7c23642bc2\")>,\n",
       " <selenium.webdriver.remote.webelement.WebElement (session=\"93e7e8620a33a83f48c1e1e98836c50d\", element=\"4d5e6d43-a387-4a18-a62c-fd8b9557e3f2\")>,\n",
       " <selenium.webdriver.remote.webelement.WebElement (session=\"93e7e8620a33a83f48c1e1e98836c50d\", element=\"29d97141-9e6a-4172-8c31-9d7893a2dd95\")>,\n",
       " <selenium.webdriver.remote.webelement.WebElement (session=\"93e7e8620a33a83f48c1e1e98836c50d\", element=\"d55fc93c-4156-4945-a5bf-c4ae58bf4067\")>,\n",
       " <selenium.webdriver.remote.webelement.WebElement (session=\"93e7e8620a33a83f48c1e1e98836c50d\", element=\"416d7f6c-9c46-46b2-a91a-636d84028eb3\")>,\n",
       " <selenium.webdriver.remote.webelement.WebElement (session=\"93e7e8620a33a83f48c1e1e98836c50d\", element=\"7315f203-c317-4277-821b-1d3fdaac6fb2\")>,\n",
       " <selenium.webdriver.remote.webelement.WebElement (session=\"93e7e8620a33a83f48c1e1e98836c50d\", element=\"c49736e9-001a-4535-9534-473bd918bf81\")>,\n",
       " <selenium.webdriver.remote.webelement.WebElement (session=\"93e7e8620a33a83f48c1e1e98836c50d\", element=\"c1d8b12c-f9d1-4d57-b930-9a0723192de7\")>,\n",
       " <selenium.webdriver.remote.webelement.WebElement (session=\"93e7e8620a33a83f48c1e1e98836c50d\", element=\"95152e37-d2b5-4bab-b77e-76a0d8634f46\")>,\n",
       " <selenium.webdriver.remote.webelement.WebElement (session=\"93e7e8620a33a83f48c1e1e98836c50d\", element=\"bee54bca-e43e-4b8f-a2c3-0d3127ae63fc\")>,\n",
       " <selenium.webdriver.remote.webelement.WebElement (session=\"93e7e8620a33a83f48c1e1e98836c50d\", element=\"283f068d-c256-473f-a10e-4b8d55698bed\")>,\n",
       " <selenium.webdriver.remote.webelement.WebElement (session=\"93e7e8620a33a83f48c1e1e98836c50d\", element=\"13a4edf6-2919-4ce7-a087-86f2394ac3a1\")>,\n",
       " <selenium.webdriver.remote.webelement.WebElement (session=\"93e7e8620a33a83f48c1e1e98836c50d\", element=\"33ea2091-f88c-44e9-a338-c2f1d44bca56\")>,\n",
       " <selenium.webdriver.remote.webelement.WebElement (session=\"93e7e8620a33a83f48c1e1e98836c50d\", element=\"f2fc541d-d5f0-47f6-b5fd-53dc2c157399\")>,\n",
       " <selenium.webdriver.remote.webelement.WebElement (session=\"93e7e8620a33a83f48c1e1e98836c50d\", element=\"336dfcfd-a154-4a49-b533-4e9acb730d09\")>,\n",
       " <selenium.webdriver.remote.webelement.WebElement (session=\"93e7e8620a33a83f48c1e1e98836c50d\", element=\"a77f6891-c904-43d7-94e8-2cc19e96a7c7\")>,\n",
       " <selenium.webdriver.remote.webelement.WebElement (session=\"93e7e8620a33a83f48c1e1e98836c50d\", element=\"bdbbfe12-05c8-487a-88ef-0c27780cdc5c\")>,\n",
       " <selenium.webdriver.remote.webelement.WebElement (session=\"93e7e8620a33a83f48c1e1e98836c50d\", element=\"0fb40cfb-279e-4e4a-920c-96762e9449d6\")>,\n",
       " <selenium.webdriver.remote.webelement.WebElement (session=\"93e7e8620a33a83f48c1e1e98836c50d\", element=\"c0d11f8c-4d28-4685-87c6-ebc59c7f5321\")>,\n",
       " <selenium.webdriver.remote.webelement.WebElement (session=\"93e7e8620a33a83f48c1e1e98836c50d\", element=\"8f1e6797-f705-41b1-b30e-7db698ab3ffa\")>,\n",
       " <selenium.webdriver.remote.webelement.WebElement (session=\"93e7e8620a33a83f48c1e1e98836c50d\", element=\"9f2b21f8-a64f-4af4-aa48-b2b804c01ba3\")>,\n",
       " <selenium.webdriver.remote.webelement.WebElement (session=\"93e7e8620a33a83f48c1e1e98836c50d\", element=\"04d9cc65-62c4-4135-a816-4b203b07bc4e\")>,\n",
       " <selenium.webdriver.remote.webelement.WebElement (session=\"93e7e8620a33a83f48c1e1e98836c50d\", element=\"1644c4e0-5221-4b6f-8d89-d86f1e1059a8\")>,\n",
       " <selenium.webdriver.remote.webelement.WebElement (session=\"93e7e8620a33a83f48c1e1e98836c50d\", element=\"f83e33ad-8650-42e7-9d1e-6037240dad89\")>,\n",
       " <selenium.webdriver.remote.webelement.WebElement (session=\"93e7e8620a33a83f48c1e1e98836c50d\", element=\"408771ab-3556-4ac8-ab5e-fd215613106b\")>,\n",
       " <selenium.webdriver.remote.webelement.WebElement (session=\"93e7e8620a33a83f48c1e1e98836c50d\", element=\"710f3fb4-fa3d-4ad3-a90a-e56ac35eae2b\")>,\n",
       " <selenium.webdriver.remote.webelement.WebElement (session=\"93e7e8620a33a83f48c1e1e98836c50d\", element=\"09ce403a-b225-403f-b14a-fe2e76c09ca6\")>,\n",
       " <selenium.webdriver.remote.webelement.WebElement (session=\"93e7e8620a33a83f48c1e1e98836c50d\", element=\"7e4f2c31-300f-4c13-8b0a-7dd36e88d389\")>,\n",
       " <selenium.webdriver.remote.webelement.WebElement (session=\"93e7e8620a33a83f48c1e1e98836c50d\", element=\"f35f40da-e840-4f54-9fc2-011fec239f33\")>,\n",
       " <selenium.webdriver.remote.webelement.WebElement (session=\"93e7e8620a33a83f48c1e1e98836c50d\", element=\"b400e132-2c13-4fb9-bb36-316a29d34623\")>,\n",
       " <selenium.webdriver.remote.webelement.WebElement (session=\"93e7e8620a33a83f48c1e1e98836c50d\", element=\"4d09c92a-1773-4c8a-9ad7-17b1ff8f7c93\")>,\n",
       " <selenium.webdriver.remote.webelement.WebElement (session=\"93e7e8620a33a83f48c1e1e98836c50d\", element=\"0e835fbe-ccef-4201-b8b7-14e80ef82109\")>,\n",
       " <selenium.webdriver.remote.webelement.WebElement (session=\"93e7e8620a33a83f48c1e1e98836c50d\", element=\"8279c969-f746-4800-a339-1a08cf8c78e6\")>,\n",
       " <selenium.webdriver.remote.webelement.WebElement (session=\"93e7e8620a33a83f48c1e1e98836c50d\", element=\"6a8d4ed6-2868-4493-a63d-4ddd8992a65e\")>,\n",
       " <selenium.webdriver.remote.webelement.WebElement (session=\"93e7e8620a33a83f48c1e1e98836c50d\", element=\"9f223d50-e508-4d01-9d99-d00924ef6764\")>,\n",
       " <selenium.webdriver.remote.webelement.WebElement (session=\"93e7e8620a33a83f48c1e1e98836c50d\", element=\"566cca05-0c52-4a23-a742-032d6ad43b86\")>,\n",
       " <selenium.webdriver.remote.webelement.WebElement (session=\"93e7e8620a33a83f48c1e1e98836c50d\", element=\"e7f1cf1f-6930-40e4-ad45-720260c90665\")>,\n",
       " <selenium.webdriver.remote.webelement.WebElement (session=\"93e7e8620a33a83f48c1e1e98836c50d\", element=\"3acd1980-f2b2-45a8-bb10-1bfb03bbccf4\")>,\n",
       " <selenium.webdriver.remote.webelement.WebElement (session=\"93e7e8620a33a83f48c1e1e98836c50d\", element=\"5347af20-edf4-4ed8-8df8-0bab828a56ae\")>,\n",
       " <selenium.webdriver.remote.webelement.WebElement (session=\"93e7e8620a33a83f48c1e1e98836c50d\", element=\"7bc6bce5-9c81-4c09-868f-d816bfe48547\")>,\n",
       " <selenium.webdriver.remote.webelement.WebElement (session=\"93e7e8620a33a83f48c1e1e98836c50d\", element=\"a522c5bd-e627-4621-9279-ad87750de790\")>,\n",
       " <selenium.webdriver.remote.webelement.WebElement (session=\"93e7e8620a33a83f48c1e1e98836c50d\", element=\"8ebb832c-820e-4a70-aed0-11e3d7ebb5d8\")>,\n",
       " <selenium.webdriver.remote.webelement.WebElement (session=\"93e7e8620a33a83f48c1e1e98836c50d\", element=\"8d55e08d-445e-4a0e-8460-f1b745a980f3\")>,\n",
       " <selenium.webdriver.remote.webelement.WebElement (session=\"93e7e8620a33a83f48c1e1e98836c50d\", element=\"9542ecc2-fb2e-4762-8299-426a9d8e2ef0\")>,\n",
       " <selenium.webdriver.remote.webelement.WebElement (session=\"93e7e8620a33a83f48c1e1e98836c50d\", element=\"9abe0e65-13e0-4781-8fbe-86d1e87d59d7\")>,\n",
       " <selenium.webdriver.remote.webelement.WebElement (session=\"93e7e8620a33a83f48c1e1e98836c50d\", element=\"14e35096-5be6-43bb-bfd4-c27e1145d37f\")>,\n",
       " <selenium.webdriver.remote.webelement.WebElement (session=\"93e7e8620a33a83f48c1e1e98836c50d\", element=\"77058a5b-62be-4680-80a9-3fc0a62d08a9\")>,\n",
       " <selenium.webdriver.remote.webelement.WebElement (session=\"93e7e8620a33a83f48c1e1e98836c50d\", element=\"b97055b0-8ef5-4fae-9d84-61ee907fe737\")>,\n",
       " <selenium.webdriver.remote.webelement.WebElement (session=\"93e7e8620a33a83f48c1e1e98836c50d\", element=\"6d9555b2-4b9c-4b92-b26b-c9299b48accb\")>,\n",
       " <selenium.webdriver.remote.webelement.WebElement (session=\"93e7e8620a33a83f48c1e1e98836c50d\", element=\"27025c05-70f8-4585-9378-ecfadd295b22\")>,\n",
       " <selenium.webdriver.remote.webelement.WebElement (session=\"93e7e8620a33a83f48c1e1e98836c50d\", element=\"da3d2750-7b25-46ad-ab74-eca79b7fceea\")>,\n",
       " <selenium.webdriver.remote.webelement.WebElement (session=\"93e7e8620a33a83f48c1e1e98836c50d\", element=\"2194897c-c252-4adc-8cbb-a8339d11ab9c\")>,\n",
       " <selenium.webdriver.remote.webelement.WebElement (session=\"93e7e8620a33a83f48c1e1e98836c50d\", element=\"5af2efb2-99db-498a-8cd3-142665c430d1\")>,\n",
       " <selenium.webdriver.remote.webelement.WebElement (session=\"93e7e8620a33a83f48c1e1e98836c50d\", element=\"3827fe37-bec8-427b-b9e9-bfeede494309\")>,\n",
       " <selenium.webdriver.remote.webelement.WebElement (session=\"93e7e8620a33a83f48c1e1e98836c50d\", element=\"a1013c09-84c2-4f6e-911e-6d719f46cdc3\")>,\n",
       " <selenium.webdriver.remote.webelement.WebElement (session=\"93e7e8620a33a83f48c1e1e98836c50d\", element=\"52046c9a-18ed-4576-bd1b-fa77230a004e\")>,\n",
       " <selenium.webdriver.remote.webelement.WebElement (session=\"93e7e8620a33a83f48c1e1e98836c50d\", element=\"c0c8dc50-0c36-4e5d-9746-0a5aa6ea75b0\")>,\n",
       " <selenium.webdriver.remote.webelement.WebElement (session=\"93e7e8620a33a83f48c1e1e98836c50d\", element=\"c0c7f5b3-8487-4d3b-86bf-bb7036c93110\")>,\n",
       " <selenium.webdriver.remote.webelement.WebElement (session=\"93e7e8620a33a83f48c1e1e98836c50d\", element=\"1504572d-95c3-4e00-896b-710d76a2bd70\")>,\n",
       " <selenium.webdriver.remote.webelement.WebElement (session=\"93e7e8620a33a83f48c1e1e98836c50d\", element=\"64c7f897-2548-4188-84ea-bc5d4798382f\")>,\n",
       " <selenium.webdriver.remote.webelement.WebElement (session=\"93e7e8620a33a83f48c1e1e98836c50d\", element=\"0d5c5b70-2902-4076-a554-21ebf4f2bfe7\")>,\n",
       " <selenium.webdriver.remote.webelement.WebElement (session=\"93e7e8620a33a83f48c1e1e98836c50d\", element=\"718a416a-2176-4c2d-a7f6-248fb3051643\")>,\n",
       " <selenium.webdriver.remote.webelement.WebElement (session=\"93e7e8620a33a83f48c1e1e98836c50d\", element=\"bc034e98-ad70-4d59-8896-ca072e184013\")>,\n",
       " <selenium.webdriver.remote.webelement.WebElement (session=\"93e7e8620a33a83f48c1e1e98836c50d\", element=\"340283b9-fbdd-4e53-a4cf-f44cb2c80549\")>,\n",
       " <selenium.webdriver.remote.webelement.WebElement (session=\"93e7e8620a33a83f48c1e1e98836c50d\", element=\"0c953146-3ba4-4399-9323-cc33b7a924da\")>,\n",
       " <selenium.webdriver.remote.webelement.WebElement (session=\"93e7e8620a33a83f48c1e1e98836c50d\", element=\"96160a13-f0fe-4ba2-ad31-3a53dc593398\")>,\n",
       " <selenium.webdriver.remote.webelement.WebElement (session=\"93e7e8620a33a83f48c1e1e98836c50d\", element=\"c7c37975-601f-4da9-9683-6fcd214cf23c\")>,\n",
       " <selenium.webdriver.remote.webelement.WebElement (session=\"93e7e8620a33a83f48c1e1e98836c50d\", element=\"329b4419-24b5-4b1d-8648-0948a584c63b\")>,\n",
       " <selenium.webdriver.remote.webelement.WebElement (session=\"93e7e8620a33a83f48c1e1e98836c50d\", element=\"f5047c8f-fbf4-47e1-9c7c-07fe4cbef63d\")>,\n",
       " <selenium.webdriver.remote.webelement.WebElement (session=\"93e7e8620a33a83f48c1e1e98836c50d\", element=\"04aae9cb-85f1-44e5-8522-a7916f3ec5ce\")>,\n",
       " <selenium.webdriver.remote.webelement.WebElement (session=\"93e7e8620a33a83f48c1e1e98836c50d\", element=\"f25489a9-e724-44b1-9f28-b03a093baae8\")>,\n",
       " <selenium.webdriver.remote.webelement.WebElement (session=\"93e7e8620a33a83f48c1e1e98836c50d\", element=\"0493b518-44e5-4a70-b7eb-4efc95cfa32b\")>,\n",
       " <selenium.webdriver.remote.webelement.WebElement (session=\"93e7e8620a33a83f48c1e1e98836c50d\", element=\"978e493c-ecff-490e-8a42-55e6878cc8d1\")>,\n",
       " <selenium.webdriver.remote.webelement.WebElement (session=\"93e7e8620a33a83f48c1e1e98836c50d\", element=\"31b8124c-e178-4ea9-8241-7f986696993e\")>,\n",
       " <selenium.webdriver.remote.webelement.WebElement (session=\"93e7e8620a33a83f48c1e1e98836c50d\", element=\"97bdd84b-5e02-4bc2-bd58-154f5d7ac18d\")>,\n",
       " <selenium.webdriver.remote.webelement.WebElement (session=\"93e7e8620a33a83f48c1e1e98836c50d\", element=\"762ddee2-1707-4359-a34d-bc850bbda348\")>,\n",
       " <selenium.webdriver.remote.webelement.WebElement (session=\"93e7e8620a33a83f48c1e1e98836c50d\", element=\"75c339bd-21cf-4140-b94f-5499af63a255\")>,\n",
       " <selenium.webdriver.remote.webelement.WebElement (session=\"93e7e8620a33a83f48c1e1e98836c50d\", element=\"c0e7614a-d835-4caa-b770-d1946bf26ab6\")>,\n",
       " <selenium.webdriver.remote.webelement.WebElement (session=\"93e7e8620a33a83f48c1e1e98836c50d\", element=\"957b17eb-3c78-4a72-864e-cb39a64c63e8\")>,\n",
       " <selenium.webdriver.remote.webelement.WebElement (session=\"93e7e8620a33a83f48c1e1e98836c50d\", element=\"761b2235-6488-4792-86ec-c6b4ddbf7634\")>,\n",
       " <selenium.webdriver.remote.webelement.WebElement (session=\"93e7e8620a33a83f48c1e1e98836c50d\", element=\"5c8f9e18-c753-4b01-a80c-cdfd4730c27d\")>,\n",
       " <selenium.webdriver.remote.webelement.WebElement (session=\"93e7e8620a33a83f48c1e1e98836c50d\", element=\"338eed6f-bab1-458c-90bf-07448078d7f1\")>,\n",
       " <selenium.webdriver.remote.webelement.WebElement (session=\"93e7e8620a33a83f48c1e1e98836c50d\", element=\"607ad37d-a773-41bf-8ae7-5007366fbbf1\")>,\n",
       " <selenium.webdriver.remote.webelement.WebElement (session=\"93e7e8620a33a83f48c1e1e98836c50d\", element=\"9e703998-3794-44e8-aa9f-196d5b9aa8dd\")>,\n",
       " <selenium.webdriver.remote.webelement.WebElement (session=\"93e7e8620a33a83f48c1e1e98836c50d\", element=\"5d7fceab-3791-41d5-8687-ca51b9f7add4\")>,\n",
       " <selenium.webdriver.remote.webelement.WebElement (session=\"93e7e8620a33a83f48c1e1e98836c50d\", element=\"8c9c4550-9eac-450f-b0fc-f71fa29d29e7\")>,\n",
       " <selenium.webdriver.remote.webelement.WebElement (session=\"93e7e8620a33a83f48c1e1e98836c50d\", element=\"4e672c8e-6458-4360-8fe3-9410ea45520b\")>,\n",
       " <selenium.webdriver.remote.webelement.WebElement (session=\"93e7e8620a33a83f48c1e1e98836c50d\", element=\"17434c22-75bd-4544-be53-7b252501d8a2\")>,\n",
       " <selenium.webdriver.remote.webelement.WebElement (session=\"93e7e8620a33a83f48c1e1e98836c50d\", element=\"4baf9131-4d92-4e59-a1bd-8293b949ad42\")>,\n",
       " <selenium.webdriver.remote.webelement.WebElement (session=\"93e7e8620a33a83f48c1e1e98836c50d\", element=\"5cf0badf-31a6-4026-8acb-0f138957270c\")>,\n",
       " <selenium.webdriver.remote.webelement.WebElement (session=\"93e7e8620a33a83f48c1e1e98836c50d\", element=\"482af6c6-c8e2-4c49-82b0-3a7e08b0ced5\")>,\n",
       " <selenium.webdriver.remote.webelement.WebElement (session=\"93e7e8620a33a83f48c1e1e98836c50d\", element=\"e21877a5-4a69-419e-9021-a9d4ccd28572\")>,\n",
       " <selenium.webdriver.remote.webelement.WebElement (session=\"93e7e8620a33a83f48c1e1e98836c50d\", element=\"8b540cbe-11e7-4284-b1bf-b09edcadf5a6\")>,\n",
       " <selenium.webdriver.remote.webelement.WebElement (session=\"93e7e8620a33a83f48c1e1e98836c50d\", element=\"8b69197d-cb85-4691-8ac6-f3173b1d4d40\")>,\n",
       " <selenium.webdriver.remote.webelement.WebElement (session=\"93e7e8620a33a83f48c1e1e98836c50d\", element=\"11902cf6-0f44-4f4f-b774-0e4d8788f08c\")>,\n",
       " <selenium.webdriver.remote.webelement.WebElement (session=\"93e7e8620a33a83f48c1e1e98836c50d\", element=\"96374f33-2ed7-45da-85db-90b0738020c0\")>,\n",
       " <selenium.webdriver.remote.webelement.WebElement (session=\"93e7e8620a33a83f48c1e1e98836c50d\", element=\"5e938fec-5dfc-4f40-a856-956b022c3dfa\")>,\n",
       " <selenium.webdriver.remote.webelement.WebElement (session=\"93e7e8620a33a83f48c1e1e98836c50d\", element=\"7592f907-120c-4f89-a281-2a1955f2c14d\")>,\n",
       " <selenium.webdriver.remote.webelement.WebElement (session=\"93e7e8620a33a83f48c1e1e98836c50d\", element=\"a92ae523-3c79-4fd7-aa23-952a1fb9370c\")>,\n",
       " <selenium.webdriver.remote.webelement.WebElement (session=\"93e7e8620a33a83f48c1e1e98836c50d\", element=\"e468a17b-d43d-4c3f-bc83-59d0213dafc7\")>,\n",
       " <selenium.webdriver.remote.webelement.WebElement (session=\"93e7e8620a33a83f48c1e1e98836c50d\", element=\"073bfe2e-0357-46b4-b90b-98c7080ec505\")>,\n",
       " <selenium.webdriver.remote.webelement.WebElement (session=\"93e7e8620a33a83f48c1e1e98836c50d\", element=\"71a87531-268e-43ab-86ea-7373ee594f67\")>,\n",
       " <selenium.webdriver.remote.webelement.WebElement (session=\"93e7e8620a33a83f48c1e1e98836c50d\", element=\"27c9c4f1-6ab5-4333-9cfd-23254d3eb97e\")>,\n",
       " <selenium.webdriver.remote.webelement.WebElement (session=\"93e7e8620a33a83f48c1e1e98836c50d\", element=\"14d4554d-8614-469f-98ca-3c1e7deb22df\")>,\n",
       " <selenium.webdriver.remote.webelement.WebElement (session=\"93e7e8620a33a83f48c1e1e98836c50d\", element=\"490af88e-a656-4e1a-b39a-7c4fd1df4242\")>,\n",
       " <selenium.webdriver.remote.webelement.WebElement (session=\"93e7e8620a33a83f48c1e1e98836c50d\", element=\"75e2ef86-0e6c-4bf1-aeca-13669fc06150\")>,\n",
       " <selenium.webdriver.remote.webelement.WebElement (session=\"93e7e8620a33a83f48c1e1e98836c50d\", element=\"fde7c460-3ef6-476a-8f2c-64d77d366c81\")>,\n",
       " <selenium.webdriver.remote.webelement.WebElement (session=\"93e7e8620a33a83f48c1e1e98836c50d\", element=\"e1e280ed-1959-4f65-bce6-21e142bcda3b\")>,\n",
       " <selenium.webdriver.remote.webelement.WebElement (session=\"93e7e8620a33a83f48c1e1e98836c50d\", element=\"6295d203-bcef-4507-a87f-8fe8c8968de8\")>,\n",
       " <selenium.webdriver.remote.webelement.WebElement (session=\"93e7e8620a33a83f48c1e1e98836c50d\", element=\"5e706356-9c30-4a3a-b6a9-bc75799e0071\")>,\n",
       " <selenium.webdriver.remote.webelement.WebElement (session=\"93e7e8620a33a83f48c1e1e98836c50d\", element=\"f63af97f-4c17-4db2-a7c4-e711e545c2b0\")>,\n",
       " <selenium.webdriver.remote.webelement.WebElement (session=\"93e7e8620a33a83f48c1e1e98836c50d\", element=\"afa23d30-667a-4231-9029-a52e2e8ae730\")>,\n",
       " <selenium.webdriver.remote.webelement.WebElement (session=\"93e7e8620a33a83f48c1e1e98836c50d\", element=\"0ecfec95-2bf4-4e36-ae96-52de4bec372f\")>,\n",
       " <selenium.webdriver.remote.webelement.WebElement (session=\"93e7e8620a33a83f48c1e1e98836c50d\", element=\"6543d015-9ea1-468d-9d71-2b38ae089322\")>,\n",
       " <selenium.webdriver.remote.webelement.WebElement (session=\"93e7e8620a33a83f48c1e1e98836c50d\", element=\"a10951f8-7fc5-4d23-807a-1db2618e50a8\")>,\n",
       " <selenium.webdriver.remote.webelement.WebElement (session=\"93e7e8620a33a83f48c1e1e98836c50d\", element=\"4cbd8099-20b3-488d-8726-cf2c8f390936\")>,\n",
       " <selenium.webdriver.remote.webelement.WebElement (session=\"93e7e8620a33a83f48c1e1e98836c50d\", element=\"c2b321e2-18b9-40b2-95da-b964ed6126ae\")>,\n",
       " <selenium.webdriver.remote.webelement.WebElement (session=\"93e7e8620a33a83f48c1e1e98836c50d\", element=\"e12b32f8-9be6-41f6-947e-d72225479d2f\")>,\n",
       " <selenium.webdriver.remote.webelement.WebElement (session=\"93e7e8620a33a83f48c1e1e98836c50d\", element=\"d591825c-6ebc-47d4-8ef3-646aeab55ad0\")>,\n",
       " <selenium.webdriver.remote.webelement.WebElement (session=\"93e7e8620a33a83f48c1e1e98836c50d\", element=\"c72de9eb-a018-409e-99f1-88ed7c4bcee1\")>,\n",
       " <selenium.webdriver.remote.webelement.WebElement (session=\"93e7e8620a33a83f48c1e1e98836c50d\", element=\"1bf21d44-35f0-4242-93be-602eebefbd19\")>,\n",
       " <selenium.webdriver.remote.webelement.WebElement (session=\"93e7e8620a33a83f48c1e1e98836c50d\", element=\"f822d56d-9cd6-47b2-a9d3-6a2cfc863882\")>,\n",
       " <selenium.webdriver.remote.webelement.WebElement (session=\"93e7e8620a33a83f48c1e1e98836c50d\", element=\"41482def-139f-4d19-ab95-bc3484015b93\")>,\n",
       " <selenium.webdriver.remote.webelement.WebElement (session=\"93e7e8620a33a83f48c1e1e98836c50d\", element=\"3547b69d-25d9-41b5-b67a-74723970d5b4\")>,\n",
       " <selenium.webdriver.remote.webelement.WebElement (session=\"93e7e8620a33a83f48c1e1e98836c50d\", element=\"7bfcde0e-9b49-4dce-9c11-911b1dbb245c\")>,\n",
       " <selenium.webdriver.remote.webelement.WebElement (session=\"93e7e8620a33a83f48c1e1e98836c50d\", element=\"e1747ec4-635b-4e76-a893-627c04996ba0\")>,\n",
       " <selenium.webdriver.remote.webelement.WebElement (session=\"93e7e8620a33a83f48c1e1e98836c50d\", element=\"26886fe8-b63a-4aba-863d-4e1ab66d2549\")>,\n",
       " <selenium.webdriver.remote.webelement.WebElement (session=\"93e7e8620a33a83f48c1e1e98836c50d\", element=\"c79a3700-6c97-4c43-9f3f-7f4f32c3e7a9\")>,\n",
       " <selenium.webdriver.remote.webelement.WebElement (session=\"93e7e8620a33a83f48c1e1e98836c50d\", element=\"91c83d93-ace4-405b-9c3a-0c17faf93a31\")>,\n",
       " <selenium.webdriver.remote.webelement.WebElement (session=\"93e7e8620a33a83f48c1e1e98836c50d\", element=\"c09151e5-2480-4a89-ad72-2700ea535ca2\")>,\n",
       " <selenium.webdriver.remote.webelement.WebElement (session=\"93e7e8620a33a83f48c1e1e98836c50d\", element=\"f1d1078a-0e12-4348-9b2d-66a2b1aab3c8\")>,\n",
       " <selenium.webdriver.remote.webelement.WebElement (session=\"93e7e8620a33a83f48c1e1e98836c50d\", element=\"68d19d70-a99c-4499-b167-e846c683c7eb\")>,\n",
       " <selenium.webdriver.remote.webelement.WebElement (session=\"93e7e8620a33a83f48c1e1e98836c50d\", element=\"b243f109-bd60-46f3-bfb4-0952e5c14fe8\")>,\n",
       " <selenium.webdriver.remote.webelement.WebElement (session=\"93e7e8620a33a83f48c1e1e98836c50d\", element=\"2650fba6-4b1b-45f9-bc74-2ec55665def4\")>,\n",
       " <selenium.webdriver.remote.webelement.WebElement (session=\"93e7e8620a33a83f48c1e1e98836c50d\", element=\"7de38646-6ffd-4d79-ad65-3b834f45f903\")>,\n",
       " <selenium.webdriver.remote.webelement.WebElement (session=\"93e7e8620a33a83f48c1e1e98836c50d\", element=\"1a9d7134-89bf-478e-8c13-c16c3ce37ea3\")>,\n",
       " <selenium.webdriver.remote.webelement.WebElement (session=\"93e7e8620a33a83f48c1e1e98836c50d\", element=\"eef100f3-2a15-4058-a82a-665262498bde\")>,\n",
       " <selenium.webdriver.remote.webelement.WebElement (session=\"93e7e8620a33a83f48c1e1e98836c50d\", element=\"6e69c2c2-f284-4ce1-8f49-df3e0fea775d\")>,\n",
       " <selenium.webdriver.remote.webelement.WebElement (session=\"93e7e8620a33a83f48c1e1e98836c50d\", element=\"d236ac35-c250-4d75-9af5-51fd8fb01a89\")>,\n",
       " <selenium.webdriver.remote.webelement.WebElement (session=\"93e7e8620a33a83f48c1e1e98836c50d\", element=\"04fd2be8-6d64-4f0a-81df-2f1aeb0c0677\")>,\n",
       " <selenium.webdriver.remote.webelement.WebElement (session=\"93e7e8620a33a83f48c1e1e98836c50d\", element=\"d110252a-7134-400c-b2fe-e6601d3c27e2\")>,\n",
       " <selenium.webdriver.remote.webelement.WebElement (session=\"93e7e8620a33a83f48c1e1e98836c50d\", element=\"0df1f255-4c52-478d-8deb-b020287835be\")>,\n",
       " <selenium.webdriver.remote.webelement.WebElement (session=\"93e7e8620a33a83f48c1e1e98836c50d\", element=\"d4cb2903-4687-451d-ab90-94041a27c51e\")>,\n",
       " <selenium.webdriver.remote.webelement.WebElement (session=\"93e7e8620a33a83f48c1e1e98836c50d\", element=\"4b333fb5-780e-410e-aa51-7ba4370500db\")>,\n",
       " <selenium.webdriver.remote.webelement.WebElement (session=\"93e7e8620a33a83f48c1e1e98836c50d\", element=\"28846bd9-f216-4aa5-830e-dfcba6320cb9\")>,\n",
       " <selenium.webdriver.remote.webelement.WebElement (session=\"93e7e8620a33a83f48c1e1e98836c50d\", element=\"706ec03f-9de6-4e2b-bd5d-52453b8442be\")>,\n",
       " <selenium.webdriver.remote.webelement.WebElement (session=\"93e7e8620a33a83f48c1e1e98836c50d\", element=\"1ac3da64-49d9-4c6f-9125-f9e89512e91c\")>,\n",
       " <selenium.webdriver.remote.webelement.WebElement (session=\"93e7e8620a33a83f48c1e1e98836c50d\", element=\"50788280-2adf-4dda-a06a-848362bac863\")>,\n",
       " <selenium.webdriver.remote.webelement.WebElement (session=\"93e7e8620a33a83f48c1e1e98836c50d\", element=\"e128144f-583e-443d-85b9-71836eae6b42\")>,\n",
       " <selenium.webdriver.remote.webelement.WebElement (session=\"93e7e8620a33a83f48c1e1e98836c50d\", element=\"31290ae1-fc6f-4e41-865d-e8f68f9173b3\")>,\n",
       " <selenium.webdriver.remote.webelement.WebElement (session=\"93e7e8620a33a83f48c1e1e98836c50d\", element=\"3ebaa2d4-a0c2-4280-9096-9fc0416febfd\")>,\n",
       " <selenium.webdriver.remote.webelement.WebElement (session=\"93e7e8620a33a83f48c1e1e98836c50d\", element=\"95bbc45a-80e3-4e85-a3b0-06e99921a350\")>,\n",
       " <selenium.webdriver.remote.webelement.WebElement (session=\"93e7e8620a33a83f48c1e1e98836c50d\", element=\"0dbfcff2-506f-427a-af73-119ffedaef06\")>,\n",
       " <selenium.webdriver.remote.webelement.WebElement (session=\"93e7e8620a33a83f48c1e1e98836c50d\", element=\"7e5717d2-da53-40dd-8cd2-5f6d2d3f7349\")>,\n",
       " <selenium.webdriver.remote.webelement.WebElement (session=\"93e7e8620a33a83f48c1e1e98836c50d\", element=\"c5768286-d379-43df-aad7-27ea521b330c\")>,\n",
       " <selenium.webdriver.remote.webelement.WebElement (session=\"93e7e8620a33a83f48c1e1e98836c50d\", element=\"54826f3a-1d50-4322-951e-401289485034\")>,\n",
       " <selenium.webdriver.remote.webelement.WebElement (session=\"93e7e8620a33a83f48c1e1e98836c50d\", element=\"cfab468b-0094-4d7b-acde-001dfed62663\")>,\n",
       " <selenium.webdriver.remote.webelement.WebElement (session=\"93e7e8620a33a83f48c1e1e98836c50d\", element=\"dffb5d30-01b5-49d6-b0d4-ce076f6f6dec\")>,\n",
       " <selenium.webdriver.remote.webelement.WebElement (session=\"93e7e8620a33a83f48c1e1e98836c50d\", element=\"6faeb6ac-e16e-4170-8e50-5e2d17cd1dff\")>,\n",
       " <selenium.webdriver.remote.webelement.WebElement (session=\"93e7e8620a33a83f48c1e1e98836c50d\", element=\"cb25ab76-1543-4257-ad8c-f43938ca09e1\")>,\n",
       " <selenium.webdriver.remote.webelement.WebElement (session=\"93e7e8620a33a83f48c1e1e98836c50d\", element=\"7be657ca-e5ce-4af1-bc13-bc6d336a2f4a\")>,\n",
       " <selenium.webdriver.remote.webelement.WebElement (session=\"93e7e8620a33a83f48c1e1e98836c50d\", element=\"5df2f83b-ab2d-48c5-bfe4-c1bdd1f9a9fa\")>,\n",
       " <selenium.webdriver.remote.webelement.WebElement (session=\"93e7e8620a33a83f48c1e1e98836c50d\", element=\"bb8962bf-5bdd-4a6d-a407-966386108acf\")>,\n",
       " <selenium.webdriver.remote.webelement.WebElement (session=\"93e7e8620a33a83f48c1e1e98836c50d\", element=\"6edb300f-7d71-4947-ac97-abf2fb7faa70\")>,\n",
       " <selenium.webdriver.remote.webelement.WebElement (session=\"93e7e8620a33a83f48c1e1e98836c50d\", element=\"49364999-96dd-4189-9b42-c866b6083f38\")>,\n",
       " <selenium.webdriver.remote.webelement.WebElement (session=\"93e7e8620a33a83f48c1e1e98836c50d\", element=\"a8f720b7-1132-4aca-a314-389c4af856c3\")>,\n",
       " <selenium.webdriver.remote.webelement.WebElement (session=\"93e7e8620a33a83f48c1e1e98836c50d\", element=\"a5542a4c-c5fe-4457-a931-18998738e912\")>,\n",
       " <selenium.webdriver.remote.webelement.WebElement (session=\"93e7e8620a33a83f48c1e1e98836c50d\", element=\"97280e4e-a84f-4e7e-bca9-1c3568584c1f\")>,\n",
       " <selenium.webdriver.remote.webelement.WebElement (session=\"93e7e8620a33a83f48c1e1e98836c50d\", element=\"62af596f-6726-4ce7-8443-a661478d0294\")>,\n",
       " <selenium.webdriver.remote.webelement.WebElement (session=\"93e7e8620a33a83f48c1e1e98836c50d\", element=\"8a9f1e7f-f6fd-4402-ab58-5580d82a9284\")>,\n",
       " <selenium.webdriver.remote.webelement.WebElement (session=\"93e7e8620a33a83f48c1e1e98836c50d\", element=\"483e90e0-8313-4fe1-a5ac-5e85cc5dc622\")>,\n",
       " <selenium.webdriver.remote.webelement.WebElement (session=\"93e7e8620a33a83f48c1e1e98836c50d\", element=\"442b774b-8abf-478a-973d-8257233aa799\")>,\n",
       " <selenium.webdriver.remote.webelement.WebElement (session=\"93e7e8620a33a83f48c1e1e98836c50d\", element=\"f0caae83-35ad-4819-9e88-9d1c7949a8a2\")>,\n",
       " <selenium.webdriver.remote.webelement.WebElement (session=\"93e7e8620a33a83f48c1e1e98836c50d\", element=\"74dc6f64-f0f1-4c0f-a530-326353ca894c\")>,\n",
       " <selenium.webdriver.remote.webelement.WebElement (session=\"93e7e8620a33a83f48c1e1e98836c50d\", element=\"9e0797ae-ddfc-420b-bcb9-d30579face97\")>,\n",
       " <selenium.webdriver.remote.webelement.WebElement (session=\"93e7e8620a33a83f48c1e1e98836c50d\", element=\"d9dc531d-7229-428a-9924-498cc8703353\")>,\n",
       " <selenium.webdriver.remote.webelement.WebElement (session=\"93e7e8620a33a83f48c1e1e98836c50d\", element=\"e78924ee-b380-4b15-bc3c-60620ead1150\")>,\n",
       " <selenium.webdriver.remote.webelement.WebElement (session=\"93e7e8620a33a83f48c1e1e98836c50d\", element=\"eed520f6-6668-4e07-8014-be945ef5222f\")>,\n",
       " <selenium.webdriver.remote.webelement.WebElement (session=\"93e7e8620a33a83f48c1e1e98836c50d\", element=\"3e5e5a3c-489a-43c9-97cc-3e0ec418f4fd\")>,\n",
       " <selenium.webdriver.remote.webelement.WebElement (session=\"93e7e8620a33a83f48c1e1e98836c50d\", element=\"483d3071-64ee-44b9-b345-40044e7450a2\")>,\n",
       " <selenium.webdriver.remote.webelement.WebElement (session=\"93e7e8620a33a83f48c1e1e98836c50d\", element=\"920aaaa6-3690-4b2d-9312-9c2984d2e13d\")>,\n",
       " <selenium.webdriver.remote.webelement.WebElement (session=\"93e7e8620a33a83f48c1e1e98836c50d\", element=\"6d1eb611-92d9-457a-9ffa-fdd09cfd8fa0\")>,\n",
       " <selenium.webdriver.remote.webelement.WebElement (session=\"93e7e8620a33a83f48c1e1e98836c50d\", element=\"b751eafa-ad3f-4feb-bf22-58c39c572ee4\")>,\n",
       " <selenium.webdriver.remote.webelement.WebElement (session=\"93e7e8620a33a83f48c1e1e98836c50d\", element=\"60965af2-3795-454f-8799-d9929599676e\")>,\n",
       " <selenium.webdriver.remote.webelement.WebElement (session=\"93e7e8620a33a83f48c1e1e98836c50d\", element=\"c0f2beff-38c0-4168-842c-809172ea5e1d\")>,\n",
       " <selenium.webdriver.remote.webelement.WebElement (session=\"93e7e8620a33a83f48c1e1e98836c50d\", element=\"7a8b8375-0c7a-43a8-b034-10ef08b30b82\")>,\n",
       " <selenium.webdriver.remote.webelement.WebElement (session=\"93e7e8620a33a83f48c1e1e98836c50d\", element=\"c0c4d9c8-f74d-4c43-8966-26d7647fd555\")>,\n",
       " <selenium.webdriver.remote.webelement.WebElement (session=\"93e7e8620a33a83f48c1e1e98836c50d\", element=\"5a36190a-d776-4825-9974-744a5389f6f6\")>,\n",
       " <selenium.webdriver.remote.webelement.WebElement (session=\"93e7e8620a33a83f48c1e1e98836c50d\", element=\"ea3a4651-8f86-491a-a0b1-98c2c5b8c821\")>,\n",
       " <selenium.webdriver.remote.webelement.WebElement (session=\"93e7e8620a33a83f48c1e1e98836c50d\", element=\"49ae12cd-0889-4dc3-899a-614cc1343a66\")>,\n",
       " <selenium.webdriver.remote.webelement.WebElement (session=\"93e7e8620a33a83f48c1e1e98836c50d\", element=\"68c9a466-ce61-4cb3-b7d5-8e66a49516e5\")>,\n",
       " <selenium.webdriver.remote.webelement.WebElement (session=\"93e7e8620a33a83f48c1e1e98836c50d\", element=\"8b3f1c13-7f83-401c-9881-9d01f0b69f72\")>,\n",
       " <selenium.webdriver.remote.webelement.WebElement (session=\"93e7e8620a33a83f48c1e1e98836c50d\", element=\"5cccbf65-d106-4ff5-87e1-08eafab1171a\")>,\n",
       " <selenium.webdriver.remote.webelement.WebElement (session=\"93e7e8620a33a83f48c1e1e98836c50d\", element=\"e9a2a562-0b34-4b9c-bf60-9f53bdffdb6f\")>,\n",
       " <selenium.webdriver.remote.webelement.WebElement (session=\"93e7e8620a33a83f48c1e1e98836c50d\", element=\"bffc7b70-a6e7-42fe-9379-91b7a3466595\")>,\n",
       " <selenium.webdriver.remote.webelement.WebElement (session=\"93e7e8620a33a83f48c1e1e98836c50d\", element=\"73bf460e-4deb-4fcc-946e-76cfafd9f0d9\")>,\n",
       " <selenium.webdriver.remote.webelement.WebElement (session=\"93e7e8620a33a83f48c1e1e98836c50d\", element=\"7787f855-47fa-46be-8b36-7712154b0cc5\")>,\n",
       " <selenium.webdriver.remote.webelement.WebElement (session=\"93e7e8620a33a83f48c1e1e98836c50d\", element=\"c26dac15-cc8b-4a9e-8803-b379f56413d5\")>,\n",
       " <selenium.webdriver.remote.webelement.WebElement (session=\"93e7e8620a33a83f48c1e1e98836c50d\", element=\"a64423e0-56a0-4688-b6fb-91e4b959de1d\")>,\n",
       " <selenium.webdriver.remote.webelement.WebElement (session=\"93e7e8620a33a83f48c1e1e98836c50d\", element=\"f17fd9cf-cceb-464e-81d6-affd3ff78abf\")>,\n",
       " <selenium.webdriver.remote.webelement.WebElement (session=\"93e7e8620a33a83f48c1e1e98836c50d\", element=\"37b01cb3-ab39-43d8-a052-51524ed094ef\")>,\n",
       " <selenium.webdriver.remote.webelement.WebElement (session=\"93e7e8620a33a83f48c1e1e98836c50d\", element=\"06ab489b-014e-43ab-b388-9f773ad87e79\")>,\n",
       " <selenium.webdriver.remote.webelement.WebElement (session=\"93e7e8620a33a83f48c1e1e98836c50d\", element=\"97e9a778-23f0-4fce-92db-33635de0c677\")>,\n",
       " <selenium.webdriver.remote.webelement.WebElement (session=\"93e7e8620a33a83f48c1e1e98836c50d\", element=\"e3e589fd-a1af-4737-b395-5cde106f660a\")>,\n",
       " <selenium.webdriver.remote.webelement.WebElement (session=\"93e7e8620a33a83f48c1e1e98836c50d\", element=\"fca186b3-d138-44b3-9fd9-272bbbee74fe\")>,\n",
       " <selenium.webdriver.remote.webelement.WebElement (session=\"93e7e8620a33a83f48c1e1e98836c50d\", element=\"a85d9cd5-5cfe-4c1d-a2e7-7ac4b131bb7e\")>,\n",
       " <selenium.webdriver.remote.webelement.WebElement (session=\"93e7e8620a33a83f48c1e1e98836c50d\", element=\"bbb7f06c-e916-4d69-92fe-e0cf2b94bbb7\")>,\n",
       " <selenium.webdriver.remote.webelement.WebElement (session=\"93e7e8620a33a83f48c1e1e98836c50d\", element=\"d5ae43e0-ccdd-41a8-8c18-479175929b34\")>,\n",
       " <selenium.webdriver.remote.webelement.WebElement (session=\"93e7e8620a33a83f48c1e1e98836c50d\", element=\"76a050de-aafb-45a8-a9cf-a7e8fb51ca8e\")>,\n",
       " <selenium.webdriver.remote.webelement.WebElement (session=\"93e7e8620a33a83f48c1e1e98836c50d\", element=\"85068a64-b331-4cb3-9101-949d6b8805ae\")>,\n",
       " <selenium.webdriver.remote.webelement.WebElement (session=\"93e7e8620a33a83f48c1e1e98836c50d\", element=\"4600102e-2c78-4d74-a443-c6af7d4be09c\")>,\n",
       " <selenium.webdriver.remote.webelement.WebElement (session=\"93e7e8620a33a83f48c1e1e98836c50d\", element=\"d66d436e-634b-41de-a5fd-2c1682327148\")>,\n",
       " <selenium.webdriver.remote.webelement.WebElement (session=\"93e7e8620a33a83f48c1e1e98836c50d\", element=\"796afd80-85a7-4ecf-95fe-ae764eedaa4a\")>,\n",
       " <selenium.webdriver.remote.webelement.WebElement (session=\"93e7e8620a33a83f48c1e1e98836c50d\", element=\"00c01766-0fa9-40b5-bfd5-d2c9684cb1fd\")>,\n",
       " <selenium.webdriver.remote.webelement.WebElement (session=\"93e7e8620a33a83f48c1e1e98836c50d\", element=\"f948330b-788a-4285-8166-9d19f3df8548\")>,\n",
       " <selenium.webdriver.remote.webelement.WebElement (session=\"93e7e8620a33a83f48c1e1e98836c50d\", element=\"0022ceb0-765c-4b25-b0ac-7f6c61b1836d\")>,\n",
       " <selenium.webdriver.remote.webelement.WebElement (session=\"93e7e8620a33a83f48c1e1e98836c50d\", element=\"e15311e4-14d9-4d9a-8e77-768c452e0b56\")>,\n",
       " <selenium.webdriver.remote.webelement.WebElement (session=\"93e7e8620a33a83f48c1e1e98836c50d\", element=\"dbb5e7a5-7788-44be-b618-ba6c9148e4bd\")>,\n",
       " <selenium.webdriver.remote.webelement.WebElement (session=\"93e7e8620a33a83f48c1e1e98836c50d\", element=\"55ace6f9-39e0-4358-8067-af9c8aa95c4f\")>,\n",
       " <selenium.webdriver.remote.webelement.WebElement (session=\"93e7e8620a33a83f48c1e1e98836c50d\", element=\"539e2565-2ec7-4cf7-a371-fa194e72751e\")>,\n",
       " <selenium.webdriver.remote.webelement.WebElement (session=\"93e7e8620a33a83f48c1e1e98836c50d\", element=\"f1883a8a-f9bf-46e8-bc31-a70ea93c110d\")>,\n",
       " <selenium.webdriver.remote.webelement.WebElement (session=\"93e7e8620a33a83f48c1e1e98836c50d\", element=\"e34dc879-3bec-48ea-9782-2272353ef794\")>,\n",
       " <selenium.webdriver.remote.webelement.WebElement (session=\"93e7e8620a33a83f48c1e1e98836c50d\", element=\"37eef139-503d-4ddd-acfc-44e8f66cb845\")>,\n",
       " <selenium.webdriver.remote.webelement.WebElement (session=\"93e7e8620a33a83f48c1e1e98836c50d\", element=\"43d15b06-e5bd-4c29-8792-70589932150a\")>,\n",
       " <selenium.webdriver.remote.webelement.WebElement (session=\"93e7e8620a33a83f48c1e1e98836c50d\", element=\"f90cdd31-57f7-4b20-a602-42cfd82d18a2\")>,\n",
       " <selenium.webdriver.remote.webelement.WebElement (session=\"93e7e8620a33a83f48c1e1e98836c50d\", element=\"19ba4e5a-e1dd-48c6-8a73-9ba6a1de53fd\")>,\n",
       " <selenium.webdriver.remote.webelement.WebElement (session=\"93e7e8620a33a83f48c1e1e98836c50d\", element=\"9a796fd5-4518-4023-997c-1c310679f2fe\")>,\n",
       " <selenium.webdriver.remote.webelement.WebElement (session=\"93e7e8620a33a83f48c1e1e98836c50d\", element=\"1fecec6f-76da-4b61-846a-47b6efd35d4a\")>,\n",
       " <selenium.webdriver.remote.webelement.WebElement (session=\"93e7e8620a33a83f48c1e1e98836c50d\", element=\"8b99960a-fee1-464a-9ab6-1bd0dfeee46a\")>,\n",
       " <selenium.webdriver.remote.webelement.WebElement (session=\"93e7e8620a33a83f48c1e1e98836c50d\", element=\"0ae0dfde-88d9-40f0-9d16-8586a9795554\")>,\n",
       " <selenium.webdriver.remote.webelement.WebElement (session=\"93e7e8620a33a83f48c1e1e98836c50d\", element=\"d9ece292-dfc5-4e00-b24f-bab76778756f\")>,\n",
       " <selenium.webdriver.remote.webelement.WebElement (session=\"93e7e8620a33a83f48c1e1e98836c50d\", element=\"5c61698a-7e37-473a-b498-0f29281c51b3\")>,\n",
       " <selenium.webdriver.remote.webelement.WebElement (session=\"93e7e8620a33a83f48c1e1e98836c50d\", element=\"59ca9167-9fb5-41ea-8263-1089ec749b9d\")>,\n",
       " <selenium.webdriver.remote.webelement.WebElement (session=\"93e7e8620a33a83f48c1e1e98836c50d\", element=\"c5e3247e-689d-4a97-8d31-23ea6b26beed\")>,\n",
       " <selenium.webdriver.remote.webelement.WebElement (session=\"93e7e8620a33a83f48c1e1e98836c50d\", element=\"b60bc9dd-8cb6-4994-baeb-17798c7b299b\")>,\n",
       " <selenium.webdriver.remote.webelement.WebElement (session=\"93e7e8620a33a83f48c1e1e98836c50d\", element=\"8bfddd6a-9bfb-4f2b-8fb5-718215d743d9\")>,\n",
       " <selenium.webdriver.remote.webelement.WebElement (session=\"93e7e8620a33a83f48c1e1e98836c50d\", element=\"0e2a4088-346c-4c4f-9f96-7204f535be4d\")>,\n",
       " <selenium.webdriver.remote.webelement.WebElement (session=\"93e7e8620a33a83f48c1e1e98836c50d\", element=\"c3a78ce7-7277-4f1e-9539-00393488072c\")>,\n",
       " <selenium.webdriver.remote.webelement.WebElement (session=\"93e7e8620a33a83f48c1e1e98836c50d\", element=\"b381bd79-3c65-43f8-92ae-c13afaaaccc1\")>,\n",
       " <selenium.webdriver.remote.webelement.WebElement (session=\"93e7e8620a33a83f48c1e1e98836c50d\", element=\"a1b5a4fa-ab59-405b-8774-8df04ca4b066\")>,\n",
       " <selenium.webdriver.remote.webelement.WebElement (session=\"93e7e8620a33a83f48c1e1e98836c50d\", element=\"0aa5788c-8af0-4d34-9c44-af46637fc34d\")>,\n",
       " <selenium.webdriver.remote.webelement.WebElement (session=\"93e7e8620a33a83f48c1e1e98836c50d\", element=\"2f83b459-bf15-4924-9d24-f5971e445e1d\")>,\n",
       " <selenium.webdriver.remote.webelement.WebElement (session=\"93e7e8620a33a83f48c1e1e98836c50d\", element=\"043ed638-7786-4aef-bfb9-e4d447c142ec\")>,\n",
       " <selenium.webdriver.remote.webelement.WebElement (session=\"93e7e8620a33a83f48c1e1e98836c50d\", element=\"6088f4a2-c1bb-4d41-bc51-46e07db3ddcd\")>,\n",
       " <selenium.webdriver.remote.webelement.WebElement (session=\"93e7e8620a33a83f48c1e1e98836c50d\", element=\"5df13da6-09cc-421c-9e7e-4dedf23e23b3\")>,\n",
       " <selenium.webdriver.remote.webelement.WebElement (session=\"93e7e8620a33a83f48c1e1e98836c50d\", element=\"d53b1d23-07a1-4b92-a9dd-38ef66f0a81e\")>,\n",
       " <selenium.webdriver.remote.webelement.WebElement (session=\"93e7e8620a33a83f48c1e1e98836c50d\", element=\"c41c06e1-c758-403d-abe1-8df93fff170c\")>,\n",
       " <selenium.webdriver.remote.webelement.WebElement (session=\"93e7e8620a33a83f48c1e1e98836c50d\", element=\"38fc07de-3296-462f-ac8f-de1a203089ac\")>,\n",
       " <selenium.webdriver.remote.webelement.WebElement (session=\"93e7e8620a33a83f48c1e1e98836c50d\", element=\"b4ae0ae7-9b65-4405-bc9a-068a02f7fa26\")>,\n",
       " <selenium.webdriver.remote.webelement.WebElement (session=\"93e7e8620a33a83f48c1e1e98836c50d\", element=\"71f812a3-1494-47d5-8457-5106ed567edd\")>,\n",
       " <selenium.webdriver.remote.webelement.WebElement (session=\"93e7e8620a33a83f48c1e1e98836c50d\", element=\"32411489-ce0d-4165-8b34-d6c8427c8e99\")>,\n",
       " <selenium.webdriver.remote.webelement.WebElement (session=\"93e7e8620a33a83f48c1e1e98836c50d\", element=\"cbae27b9-5be5-4267-8265-530af5387858\")>,\n",
       " <selenium.webdriver.remote.webelement.WebElement (session=\"93e7e8620a33a83f48c1e1e98836c50d\", element=\"3ec2717d-d194-433c-881a-cefb8ab879cf\")>,\n",
       " <selenium.webdriver.remote.webelement.WebElement (session=\"93e7e8620a33a83f48c1e1e98836c50d\", element=\"8b143338-c856-4e43-bc18-aa252514a225\")>,\n",
       " <selenium.webdriver.remote.webelement.WebElement (session=\"93e7e8620a33a83f48c1e1e98836c50d\", element=\"a5f61afa-8ff0-4098-a353-05394037f28a\")>,\n",
       " <selenium.webdriver.remote.webelement.WebElement (session=\"93e7e8620a33a83f48c1e1e98836c50d\", element=\"b1e6594a-055a-4a1f-9f9b-ef75a1faed9b\")>,\n",
       " <selenium.webdriver.remote.webelement.WebElement (session=\"93e7e8620a33a83f48c1e1e98836c50d\", element=\"ea21dc6c-c788-428f-bea2-2308a8624ab4\")>,\n",
       " <selenium.webdriver.remote.webelement.WebElement (session=\"93e7e8620a33a83f48c1e1e98836c50d\", element=\"d1776bd0-bd9c-4007-a222-5d5ef258f830\")>,\n",
       " <selenium.webdriver.remote.webelement.WebElement (session=\"93e7e8620a33a83f48c1e1e98836c50d\", element=\"e90e7fec-41c8-4960-b206-75d735e814b2\")>,\n",
       " <selenium.webdriver.remote.webelement.WebElement (session=\"93e7e8620a33a83f48c1e1e98836c50d\", element=\"2a372fa9-8fd6-40d3-9e84-8c54e38b77d8\")>,\n",
       " <selenium.webdriver.remote.webelement.WebElement (session=\"93e7e8620a33a83f48c1e1e98836c50d\", element=\"6f5d2863-7250-465f-9015-75f1acb53cee\")>,\n",
       " <selenium.webdriver.remote.webelement.WebElement (session=\"93e7e8620a33a83f48c1e1e98836c50d\", element=\"42e78f3c-7f47-4060-a976-1df0b532c2ee\")>,\n",
       " <selenium.webdriver.remote.webelement.WebElement (session=\"93e7e8620a33a83f48c1e1e98836c50d\", element=\"74272b27-39f8-4720-a153-f471d13a8e4a\")>,\n",
       " <selenium.webdriver.remote.webelement.WebElement (session=\"93e7e8620a33a83f48c1e1e98836c50d\", element=\"507428d8-c4b0-4810-ab75-663d5e30fb4a\")>,\n",
       " <selenium.webdriver.remote.webelement.WebElement (session=\"93e7e8620a33a83f48c1e1e98836c50d\", element=\"561bb6f7-c2fd-462b-9a1a-c4c89b5d9fa4\")>,\n",
       " <selenium.webdriver.remote.webelement.WebElement (session=\"93e7e8620a33a83f48c1e1e98836c50d\", element=\"9d5350c8-e8a4-4636-b256-d0938198b75d\")>,\n",
       " <selenium.webdriver.remote.webelement.WebElement (session=\"93e7e8620a33a83f48c1e1e98836c50d\", element=\"256aece4-9359-47a3-b98a-da0c158ccba3\")>,\n",
       " <selenium.webdriver.remote.webelement.WebElement (session=\"93e7e8620a33a83f48c1e1e98836c50d\", element=\"973e043d-db69-4cd3-bcae-d752df94d828\")>,\n",
       " <selenium.webdriver.remote.webelement.WebElement (session=\"93e7e8620a33a83f48c1e1e98836c50d\", element=\"6b45d380-2e1c-4812-94f9-97c4ec0dc2f4\")>,\n",
       " <selenium.webdriver.remote.webelement.WebElement (session=\"93e7e8620a33a83f48c1e1e98836c50d\", element=\"96a05f58-3f27-4d25-9002-8a5d92e514e4\")>,\n",
       " <selenium.webdriver.remote.webelement.WebElement (session=\"93e7e8620a33a83f48c1e1e98836c50d\", element=\"7da99f40-3431-461f-a1b6-42868ddc58ee\")>,\n",
       " <selenium.webdriver.remote.webelement.WebElement (session=\"93e7e8620a33a83f48c1e1e98836c50d\", element=\"d46ecbb1-0b69-4453-8515-ed656b0413f3\")>,\n",
       " <selenium.webdriver.remote.webelement.WebElement (session=\"93e7e8620a33a83f48c1e1e98836c50d\", element=\"976b4538-01d8-4ff9-9e48-c44be6d6ce78\")>,\n",
       " <selenium.webdriver.remote.webelement.WebElement (session=\"93e7e8620a33a83f48c1e1e98836c50d\", element=\"db8463db-58f6-426a-afd8-85ebde83d80a\")>,\n",
       " <selenium.webdriver.remote.webelement.WebElement (session=\"93e7e8620a33a83f48c1e1e98836c50d\", element=\"287b5c58-9023-4094-a946-0b75b99ad10b\")>,\n",
       " <selenium.webdriver.remote.webelement.WebElement (session=\"93e7e8620a33a83f48c1e1e98836c50d\", element=\"b8621ec0-db59-4b7b-bafb-a8b1625b0c9e\")>,\n",
       " <selenium.webdriver.remote.webelement.WebElement (session=\"93e7e8620a33a83f48c1e1e98836c50d\", element=\"028be261-0ec3-459e-843c-075f1e43fe51\")>,\n",
       " <selenium.webdriver.remote.webelement.WebElement (session=\"93e7e8620a33a83f48c1e1e98836c50d\", element=\"89aeced5-2043-428d-9ac8-6058a454bb2b\")>,\n",
       " <selenium.webdriver.remote.webelement.WebElement (session=\"93e7e8620a33a83f48c1e1e98836c50d\", element=\"cbde25fe-9129-48d6-9521-820de332b0d7\")>,\n",
       " <selenium.webdriver.remote.webelement.WebElement (session=\"93e7e8620a33a83f48c1e1e98836c50d\", element=\"a5845d82-6fc1-4924-9d8a-c1005a066522\")>,\n",
       " <selenium.webdriver.remote.webelement.WebElement (session=\"93e7e8620a33a83f48c1e1e98836c50d\", element=\"d6ad1d2f-8372-45ae-b91c-0df3c4fbfb21\")>,\n",
       " <selenium.webdriver.remote.webelement.WebElement (session=\"93e7e8620a33a83f48c1e1e98836c50d\", element=\"b36798c6-68b0-45af-beaa-5d7f7fe6558d\")>,\n",
       " <selenium.webdriver.remote.webelement.WebElement (session=\"93e7e8620a33a83f48c1e1e98836c50d\", element=\"2bdaa8ae-eb3f-463d-a726-babf77a2ce54\")>,\n",
       " <selenium.webdriver.remote.webelement.WebElement (session=\"93e7e8620a33a83f48c1e1e98836c50d\", element=\"1f852d8a-9e6f-49cd-9b42-ad06beb43175\")>,\n",
       " <selenium.webdriver.remote.webelement.WebElement (session=\"93e7e8620a33a83f48c1e1e98836c50d\", element=\"9fa02ca2-993e-4aae-878a-68a0802421f5\")>,\n",
       " <selenium.webdriver.remote.webelement.WebElement (session=\"93e7e8620a33a83f48c1e1e98836c50d\", element=\"f8583ea0-d548-48f0-b410-146bed3ae27d\")>,\n",
       " <selenium.webdriver.remote.webelement.WebElement (session=\"93e7e8620a33a83f48c1e1e98836c50d\", element=\"108d0485-ec30-4f31-8b9a-a0450073b2da\")>,\n",
       " <selenium.webdriver.remote.webelement.WebElement (session=\"93e7e8620a33a83f48c1e1e98836c50d\", element=\"554fda6a-4abb-488f-9f8a-0e3ab476ff6a\")>,\n",
       " <selenium.webdriver.remote.webelement.WebElement (session=\"93e7e8620a33a83f48c1e1e98836c50d\", element=\"f0105e01-bced-4be2-8b01-5028a12172e9\")>,\n",
       " <selenium.webdriver.remote.webelement.WebElement (session=\"93e7e8620a33a83f48c1e1e98836c50d\", element=\"cf7ace6a-102f-461b-a0d5-c5bd59bdb7d0\")>,\n",
       " <selenium.webdriver.remote.webelement.WebElement (session=\"93e7e8620a33a83f48c1e1e98836c50d\", element=\"6a234ade-93cf-49ac-9a2d-146fc7b2c32c\")>,\n",
       " <selenium.webdriver.remote.webelement.WebElement (session=\"93e7e8620a33a83f48c1e1e98836c50d\", element=\"fecabd00-e292-422e-a6fe-21a1d7481dde\")>,\n",
       " <selenium.webdriver.remote.webelement.WebElement (session=\"93e7e8620a33a83f48c1e1e98836c50d\", element=\"67d2a3f9-c8b8-4842-8068-a793112ebc10\")>,\n",
       " <selenium.webdriver.remote.webelement.WebElement (session=\"93e7e8620a33a83f48c1e1e98836c50d\", element=\"1e9b6720-eef0-4af0-89a3-d2130ccf8b41\")>,\n",
       " <selenium.webdriver.remote.webelement.WebElement (session=\"93e7e8620a33a83f48c1e1e98836c50d\", element=\"acf8b415-8227-4785-88b4-210948de1b4f\")>,\n",
       " <selenium.webdriver.remote.webelement.WebElement (session=\"93e7e8620a33a83f48c1e1e98836c50d\", element=\"5c9b302b-716e-43b2-a966-39ce49b289be\")>,\n",
       " <selenium.webdriver.remote.webelement.WebElement (session=\"93e7e8620a33a83f48c1e1e98836c50d\", element=\"a4305dc4-8cb1-43ee-89e9-1986308e3b56\")>,\n",
       " <selenium.webdriver.remote.webelement.WebElement (session=\"93e7e8620a33a83f48c1e1e98836c50d\", element=\"719b568e-4fcb-44dd-84b1-e241d1e3063a\")>,\n",
       " <selenium.webdriver.remote.webelement.WebElement (session=\"93e7e8620a33a83f48c1e1e98836c50d\", element=\"ea01330a-e215-400b-a85d-1eb17d4e495f\")>,\n",
       " <selenium.webdriver.remote.webelement.WebElement (session=\"93e7e8620a33a83f48c1e1e98836c50d\", element=\"12bb8244-b891-4963-bf45-a11aa7397339\")>,\n",
       " <selenium.webdriver.remote.webelement.WebElement (session=\"93e7e8620a33a83f48c1e1e98836c50d\", element=\"18972d11-0ea4-452f-a681-fae493d1bdac\")>,\n",
       " <selenium.webdriver.remote.webelement.WebElement (session=\"93e7e8620a33a83f48c1e1e98836c50d\", element=\"0e44c58a-d6e4-4e3b-a7c4-08687b0d2d20\")>,\n",
       " <selenium.webdriver.remote.webelement.WebElement (session=\"93e7e8620a33a83f48c1e1e98836c50d\", element=\"0e143861-3c9a-4306-ae28-41ea67efb1d7\")>,\n",
       " <selenium.webdriver.remote.webelement.WebElement (session=\"93e7e8620a33a83f48c1e1e98836c50d\", element=\"46732cd5-3c83-42f6-866d-0e3d7c82d7c3\")>,\n",
       " <selenium.webdriver.remote.webelement.WebElement (session=\"93e7e8620a33a83f48c1e1e98836c50d\", element=\"ab4487a5-296a-4a7b-a1b7-6aa473a205ae\")>,\n",
       " <selenium.webdriver.remote.webelement.WebElement (session=\"93e7e8620a33a83f48c1e1e98836c50d\", element=\"7cef832d-0dde-4074-940f-91cb627e2fa4\")>,\n",
       " <selenium.webdriver.remote.webelement.WebElement (session=\"93e7e8620a33a83f48c1e1e98836c50d\", element=\"e28a3a07-5dad-4d6c-9ccf-3326080f1621\")>,\n",
       " <selenium.webdriver.remote.webelement.WebElement (session=\"93e7e8620a33a83f48c1e1e98836c50d\", element=\"efed8a46-7e4c-4236-b623-5774fd0f5203\")>,\n",
       " <selenium.webdriver.remote.webelement.WebElement (session=\"93e7e8620a33a83f48c1e1e98836c50d\", element=\"c6e385f2-5a9f-4fc8-96e5-54f35b3ab510\")>,\n",
       " <selenium.webdriver.remote.webelement.WebElement (session=\"93e7e8620a33a83f48c1e1e98836c50d\", element=\"2af7bad7-a75f-47a7-bfa0-5c9468ee211c\")>,\n",
       " <selenium.webdriver.remote.webelement.WebElement (session=\"93e7e8620a33a83f48c1e1e98836c50d\", element=\"ea429df2-7c42-40c5-a84c-49f43797982e\")>,\n",
       " <selenium.webdriver.remote.webelement.WebElement (session=\"93e7e8620a33a83f48c1e1e98836c50d\", element=\"baa162d2-5447-4d22-b420-ee022438fd8d\")>,\n",
       " <selenium.webdriver.remote.webelement.WebElement (session=\"93e7e8620a33a83f48c1e1e98836c50d\", element=\"744d8814-c165-49a3-8f0f-10a40f8115e7\")>,\n",
       " <selenium.webdriver.remote.webelement.WebElement (session=\"93e7e8620a33a83f48c1e1e98836c50d\", element=\"8faba3b9-f9f8-482a-942d-c4fedd0f9fb8\")>,\n",
       " <selenium.webdriver.remote.webelement.WebElement (session=\"93e7e8620a33a83f48c1e1e98836c50d\", element=\"55f46ab2-e44e-4cca-9937-919c7eda497f\")>,\n",
       " <selenium.webdriver.remote.webelement.WebElement (session=\"93e7e8620a33a83f48c1e1e98836c50d\", element=\"e9272767-1bc9-4d2a-9816-5093154a5f30\")>,\n",
       " <selenium.webdriver.remote.webelement.WebElement (session=\"93e7e8620a33a83f48c1e1e98836c50d\", element=\"d1223cb5-5522-4c60-9f84-335a974f5d27\")>,\n",
       " <selenium.webdriver.remote.webelement.WebElement (session=\"93e7e8620a33a83f48c1e1e98836c50d\", element=\"f949e965-52e3-4866-b66d-d5037139fee6\")>,\n",
       " <selenium.webdriver.remote.webelement.WebElement (session=\"93e7e8620a33a83f48c1e1e98836c50d\", element=\"4dd39e8a-f8c6-4bf5-b66e-2e0b00e5ab1a\")>,\n",
       " <selenium.webdriver.remote.webelement.WebElement (session=\"93e7e8620a33a83f48c1e1e98836c50d\", element=\"64cc3040-7958-43ed-aebd-7916233d2c5f\")>,\n",
       " <selenium.webdriver.remote.webelement.WebElement (session=\"93e7e8620a33a83f48c1e1e98836c50d\", element=\"9d186221-0569-4387-878a-39d852d716f2\")>,\n",
       " <selenium.webdriver.remote.webelement.WebElement (session=\"93e7e8620a33a83f48c1e1e98836c50d\", element=\"98557c14-aa73-424a-a6bd-5029da78ea50\")>,\n",
       " <selenium.webdriver.remote.webelement.WebElement (session=\"93e7e8620a33a83f48c1e1e98836c50d\", element=\"dc625296-82b3-49da-95dc-cb7a527a86d3\")>,\n",
       " <selenium.webdriver.remote.webelement.WebElement (session=\"93e7e8620a33a83f48c1e1e98836c50d\", element=\"3288c5b1-7230-41f8-a4da-798cb651809a\")>,\n",
       " <selenium.webdriver.remote.webelement.WebElement (session=\"93e7e8620a33a83f48c1e1e98836c50d\", element=\"4d66407c-b3c7-4085-90be-385501c039e5\")>,\n",
       " <selenium.webdriver.remote.webelement.WebElement (session=\"93e7e8620a33a83f48c1e1e98836c50d\", element=\"436e0a15-d9f7-491b-9a27-7623086ba171\")>,\n",
       " <selenium.webdriver.remote.webelement.WebElement (session=\"93e7e8620a33a83f48c1e1e98836c50d\", element=\"534c047e-b490-4dd1-be71-afdc664240d5\")>,\n",
       " <selenium.webdriver.remote.webelement.WebElement (session=\"93e7e8620a33a83f48c1e1e98836c50d\", element=\"a778b750-23c1-4c82-8364-545e4b33993f\")>,\n",
       " <selenium.webdriver.remote.webelement.WebElement (session=\"93e7e8620a33a83f48c1e1e98836c50d\", element=\"d76e8831-d8fc-4987-865b-3378cf2aaba2\")>,\n",
       " <selenium.webdriver.remote.webelement.WebElement (session=\"93e7e8620a33a83f48c1e1e98836c50d\", element=\"2757d0a0-b52f-4dc2-b0d1-c883aa0b42a8\")>,\n",
       " <selenium.webdriver.remote.webelement.WebElement (session=\"93e7e8620a33a83f48c1e1e98836c50d\", element=\"6c9e045a-c75b-4fed-bf74-0755fb095df2\")>,\n",
       " <selenium.webdriver.remote.webelement.WebElement (session=\"93e7e8620a33a83f48c1e1e98836c50d\", element=\"25836f41-02fa-496b-88fb-a2a42942fc7b\")>,\n",
       " <selenium.webdriver.remote.webelement.WebElement (session=\"93e7e8620a33a83f48c1e1e98836c50d\", element=\"7a55065d-ac16-4bee-9c62-14c93222e792\")>,\n",
       " <selenium.webdriver.remote.webelement.WebElement (session=\"93e7e8620a33a83f48c1e1e98836c50d\", element=\"abc4e66e-bc6e-44e0-9ce3-1ad68ce0dfad\")>,\n",
       " <selenium.webdriver.remote.webelement.WebElement (session=\"93e7e8620a33a83f48c1e1e98836c50d\", element=\"69b5147d-3c07-4cdf-9282-96163ff18cd8\")>,\n",
       " <selenium.webdriver.remote.webelement.WebElement (session=\"93e7e8620a33a83f48c1e1e98836c50d\", element=\"5742f9e3-5330-4c08-aea2-ecfe2420fd54\")>,\n",
       " <selenium.webdriver.remote.webelement.WebElement (session=\"93e7e8620a33a83f48c1e1e98836c50d\", element=\"7c01ab37-f84b-4bfc-a588-59fcb675b07e\")>,\n",
       " <selenium.webdriver.remote.webelement.WebElement (session=\"93e7e8620a33a83f48c1e1e98836c50d\", element=\"6470b320-9f45-4a0f-9b5d-11b4a3f20c3e\")>,\n",
       " <selenium.webdriver.remote.webelement.WebElement (session=\"93e7e8620a33a83f48c1e1e98836c50d\", element=\"23e7b2e0-0bd6-4529-83fb-a46d07827559\")>,\n",
       " <selenium.webdriver.remote.webelement.WebElement (session=\"93e7e8620a33a83f48c1e1e98836c50d\", element=\"6bd24d79-9412-46ac-9df9-2014178a3728\")>,\n",
       " <selenium.webdriver.remote.webelement.WebElement (session=\"93e7e8620a33a83f48c1e1e98836c50d\", element=\"7d4407f6-3dde-4b88-a470-e36d33b18d0e\")>,\n",
       " <selenium.webdriver.remote.webelement.WebElement (session=\"93e7e8620a33a83f48c1e1e98836c50d\", element=\"80fa6f72-da00-4924-8979-54715247987b\")>,\n",
       " <selenium.webdriver.remote.webelement.WebElement (session=\"93e7e8620a33a83f48c1e1e98836c50d\", element=\"65d26058-0449-4131-b170-2d68f46d83ab\")>,\n",
       " <selenium.webdriver.remote.webelement.WebElement (session=\"93e7e8620a33a83f48c1e1e98836c50d\", element=\"f74792a8-eee6-409e-bb7a-de9325069e79\")>,\n",
       " <selenium.webdriver.remote.webelement.WebElement (session=\"93e7e8620a33a83f48c1e1e98836c50d\", element=\"f66c16ab-89a2-4e22-a376-70cfc73f9813\")>,\n",
       " <selenium.webdriver.remote.webelement.WebElement (session=\"93e7e8620a33a83f48c1e1e98836c50d\", element=\"e129e60e-e7a8-4ca9-a1d8-1d54a0130485\")>,\n",
       " <selenium.webdriver.remote.webelement.WebElement (session=\"93e7e8620a33a83f48c1e1e98836c50d\", element=\"188f24d1-be71-48b1-9a33-5c434a6ad1aa\")>,\n",
       " <selenium.webdriver.remote.webelement.WebElement (session=\"93e7e8620a33a83f48c1e1e98836c50d\", element=\"08af2e37-e3ec-4981-a396-61d93b769713\")>,\n",
       " <selenium.webdriver.remote.webelement.WebElement (session=\"93e7e8620a33a83f48c1e1e98836c50d\", element=\"642a6fcf-2f37-456e-a47a-426c708b3724\")>,\n",
       " <selenium.webdriver.remote.webelement.WebElement (session=\"93e7e8620a33a83f48c1e1e98836c50d\", element=\"5b34d3f9-c734-4c73-8333-c8ed32eb0fe9\")>,\n",
       " <selenium.webdriver.remote.webelement.WebElement (session=\"93e7e8620a33a83f48c1e1e98836c50d\", element=\"9926486b-a40c-4d96-a10b-e1b2154a884d\")>,\n",
       " <selenium.webdriver.remote.webelement.WebElement (session=\"93e7e8620a33a83f48c1e1e98836c50d\", element=\"b86f1238-724a-4f1b-a5c9-78a2bd26bb14\")>,\n",
       " <selenium.webdriver.remote.webelement.WebElement (session=\"93e7e8620a33a83f48c1e1e98836c50d\", element=\"7ee411a8-e3cd-432a-8f18-c5c0a2f0df9f\")>,\n",
       " <selenium.webdriver.remote.webelement.WebElement (session=\"93e7e8620a33a83f48c1e1e98836c50d\", element=\"f7036bf6-3cd2-40e3-8ed0-f94975c59721\")>,\n",
       " <selenium.webdriver.remote.webelement.WebElement (session=\"93e7e8620a33a83f48c1e1e98836c50d\", element=\"5699489a-3ca4-4e43-a4a0-9fb21203479a\")>,\n",
       " <selenium.webdriver.remote.webelement.WebElement (session=\"93e7e8620a33a83f48c1e1e98836c50d\", element=\"8b277ef2-afac-4e04-861d-32dda530075e\")>,\n",
       " <selenium.webdriver.remote.webelement.WebElement (session=\"93e7e8620a33a83f48c1e1e98836c50d\", element=\"e23e647d-7ff2-447b-9e2a-bc8ca851449c\")>,\n",
       " <selenium.webdriver.remote.webelement.WebElement (session=\"93e7e8620a33a83f48c1e1e98836c50d\", element=\"2fee21a1-26f8-444b-9c84-600bf1b29258\")>,\n",
       " <selenium.webdriver.remote.webelement.WebElement (session=\"93e7e8620a33a83f48c1e1e98836c50d\", element=\"aa2492b7-d2a6-4ef3-82df-8b6964ac0a9d\")>,\n",
       " <selenium.webdriver.remote.webelement.WebElement (session=\"93e7e8620a33a83f48c1e1e98836c50d\", element=\"0690ce18-484c-487f-971a-8c4dd0580845\")>,\n",
       " <selenium.webdriver.remote.webelement.WebElement (session=\"93e7e8620a33a83f48c1e1e98836c50d\", element=\"387f41d6-4019-40ca-8f1a-3d2f4fc3c020\")>,\n",
       " <selenium.webdriver.remote.webelement.WebElement (session=\"93e7e8620a33a83f48c1e1e98836c50d\", element=\"860119f4-b483-4345-9f7a-a4f21766805a\")>,\n",
       " <selenium.webdriver.remote.webelement.WebElement (session=\"93e7e8620a33a83f48c1e1e98836c50d\", element=\"e73a25b7-4337-437a-a746-7d12495aa304\")>,\n",
       " <selenium.webdriver.remote.webelement.WebElement (session=\"93e7e8620a33a83f48c1e1e98836c50d\", element=\"a549b17d-ad20-4899-a3fb-ad1d24b05527\")>,\n",
       " <selenium.webdriver.remote.webelement.WebElement (session=\"93e7e8620a33a83f48c1e1e98836c50d\", element=\"6a95e1f4-f017-4d9c-b917-663d040af12c\")>,\n",
       " <selenium.webdriver.remote.webelement.WebElement (session=\"93e7e8620a33a83f48c1e1e98836c50d\", element=\"5684498b-1a34-4a7a-a95c-4c2a86f35205\")>,\n",
       " <selenium.webdriver.remote.webelement.WebElement (session=\"93e7e8620a33a83f48c1e1e98836c50d\", element=\"fd05a618-7d66-4152-b6b4-1e1b1a91e68a\")>,\n",
       " <selenium.webdriver.remote.webelement.WebElement (session=\"93e7e8620a33a83f48c1e1e98836c50d\", element=\"cc7b6dd7-2984-4591-b39a-1246460e5070\")>,\n",
       " <selenium.webdriver.remote.webelement.WebElement (session=\"93e7e8620a33a83f48c1e1e98836c50d\", element=\"a84830f6-1f3f-455b-b751-3ff401e9ed24\")>,\n",
       " <selenium.webdriver.remote.webelement.WebElement (session=\"93e7e8620a33a83f48c1e1e98836c50d\", element=\"3475cd7e-670a-4988-b41a-4c07b59cd8d0\")>,\n",
       " <selenium.webdriver.remote.webelement.WebElement (session=\"93e7e8620a33a83f48c1e1e98836c50d\", element=\"9ab61940-9d3c-4442-8bba-8bf58c0695ca\")>,\n",
       " <selenium.webdriver.remote.webelement.WebElement (session=\"93e7e8620a33a83f48c1e1e98836c50d\", element=\"0651774f-fe78-4784-a180-17588cdfe193\")>,\n",
       " <selenium.webdriver.remote.webelement.WebElement (session=\"93e7e8620a33a83f48c1e1e98836c50d\", element=\"4c282b21-4195-4b5b-9948-445ff4566ed1\")>,\n",
       " <selenium.webdriver.remote.webelement.WebElement (session=\"93e7e8620a33a83f48c1e1e98836c50d\", element=\"8c8b20f7-8228-4d28-a0d1-abbf6d675f1e\")>,\n",
       " <selenium.webdriver.remote.webelement.WebElement (session=\"93e7e8620a33a83f48c1e1e98836c50d\", element=\"6b10e5c5-7ced-4e7b-8103-31f858506ec9\")>,\n",
       " <selenium.webdriver.remote.webelement.WebElement (session=\"93e7e8620a33a83f48c1e1e98836c50d\", element=\"5192b537-17ea-458d-9529-f7109a8de541\")>,\n",
       " <selenium.webdriver.remote.webelement.WebElement (session=\"93e7e8620a33a83f48c1e1e98836c50d\", element=\"9c4186ed-7938-4c4e-a85b-c47157016809\")>,\n",
       " <selenium.webdriver.remote.webelement.WebElement (session=\"93e7e8620a33a83f48c1e1e98836c50d\", element=\"85b570d5-418d-4d2e-a89d-8a58a2b670a6\")>,\n",
       " <selenium.webdriver.remote.webelement.WebElement (session=\"93e7e8620a33a83f48c1e1e98836c50d\", element=\"e7987801-9fd1-4de9-9a16-895234681a32\")>,\n",
       " <selenium.webdriver.remote.webelement.WebElement (session=\"93e7e8620a33a83f48c1e1e98836c50d\", element=\"3bb485e4-37a1-4621-b088-95097ce310ed\")>,\n",
       " <selenium.webdriver.remote.webelement.WebElement (session=\"93e7e8620a33a83f48c1e1e98836c50d\", element=\"f464ba10-eb75-4c9c-9874-3ac77be165aa\")>,\n",
       " <selenium.webdriver.remote.webelement.WebElement (session=\"93e7e8620a33a83f48c1e1e98836c50d\", element=\"940161fc-879a-4f53-85d2-0bb239db66e3\")>,\n",
       " <selenium.webdriver.remote.webelement.WebElement (session=\"93e7e8620a33a83f48c1e1e98836c50d\", element=\"bc87f13c-f985-478a-984d-41af88f2d928\")>,\n",
       " <selenium.webdriver.remote.webelement.WebElement (session=\"93e7e8620a33a83f48c1e1e98836c50d\", element=\"8d8c4045-9e5d-41a0-8f30-1e2abfb78056\")>,\n",
       " <selenium.webdriver.remote.webelement.WebElement (session=\"93e7e8620a33a83f48c1e1e98836c50d\", element=\"7e9e7cde-d32d-4bd8-99e3-a84e4aa76c31\")>,\n",
       " <selenium.webdriver.remote.webelement.WebElement (session=\"93e7e8620a33a83f48c1e1e98836c50d\", element=\"6f23b725-2c92-47e1-a23b-db7098df8f0b\")>,\n",
       " <selenium.webdriver.remote.webelement.WebElement (session=\"93e7e8620a33a83f48c1e1e98836c50d\", element=\"43593b11-5da7-4511-b6d4-98b0540a1038\")>,\n",
       " <selenium.webdriver.remote.webelement.WebElement (session=\"93e7e8620a33a83f48c1e1e98836c50d\", element=\"2b14024e-2cc0-4833-9775-58e9a8703bbe\")>,\n",
       " <selenium.webdriver.remote.webelement.WebElement (session=\"93e7e8620a33a83f48c1e1e98836c50d\", element=\"cfe30ef2-1938-4d46-8f2d-ab4f071f572a\")>,\n",
       " <selenium.webdriver.remote.webelement.WebElement (session=\"93e7e8620a33a83f48c1e1e98836c50d\", element=\"c5429aaf-90e9-4e8b-9243-b441d701ff2b\")>,\n",
       " <selenium.webdriver.remote.webelement.WebElement (session=\"93e7e8620a33a83f48c1e1e98836c50d\", element=\"51be8ea1-37d8-4bd1-920e-6a898720f69f\")>,\n",
       " <selenium.webdriver.remote.webelement.WebElement (session=\"93e7e8620a33a83f48c1e1e98836c50d\", element=\"220df332-1d70-400a-be5d-be81b0e41d1a\")>,\n",
       " <selenium.webdriver.remote.webelement.WebElement (session=\"93e7e8620a33a83f48c1e1e98836c50d\", element=\"4b950ac8-5e7f-49ff-83dd-d48738f9d21c\")>,\n",
       " <selenium.webdriver.remote.webelement.WebElement (session=\"93e7e8620a33a83f48c1e1e98836c50d\", element=\"03cdca97-fb77-4249-adf3-a04ce35980c0\")>,\n",
       " <selenium.webdriver.remote.webelement.WebElement (session=\"93e7e8620a33a83f48c1e1e98836c50d\", element=\"48f1beec-10b5-4f57-825e-e21d12b2b224\")>,\n",
       " <selenium.webdriver.remote.webelement.WebElement (session=\"93e7e8620a33a83f48c1e1e98836c50d\", element=\"f1c1f005-1b47-4ee5-aa6f-06aa97be01b8\")>,\n",
       " <selenium.webdriver.remote.webelement.WebElement (session=\"93e7e8620a33a83f48c1e1e98836c50d\", element=\"acb563a2-92df-4822-99de-02fcca1dd8b2\")>,\n",
       " <selenium.webdriver.remote.webelement.WebElement (session=\"93e7e8620a33a83f48c1e1e98836c50d\", element=\"de490457-c932-4147-a113-ea92da7d889c\")>,\n",
       " <selenium.webdriver.remote.webelement.WebElement (session=\"93e7e8620a33a83f48c1e1e98836c50d\", element=\"1062469f-bf2d-44f9-ab16-c97a6497b343\")>,\n",
       " <selenium.webdriver.remote.webelement.WebElement (session=\"93e7e8620a33a83f48c1e1e98836c50d\", element=\"aa60e4aa-0e2c-4aa4-9fa6-3596e4361727\")>,\n",
       " <selenium.webdriver.remote.webelement.WebElement (session=\"93e7e8620a33a83f48c1e1e98836c50d\", element=\"128caf00-dc45-4db5-9c6e-599020746888\")>,\n",
       " <selenium.webdriver.remote.webelement.WebElement (session=\"93e7e8620a33a83f48c1e1e98836c50d\", element=\"53a31475-1e99-460f-8c7a-b2dd09ed2e4f\")>,\n",
       " <selenium.webdriver.remote.webelement.WebElement (session=\"93e7e8620a33a83f48c1e1e98836c50d\", element=\"1dce9145-6e5c-41fc-a23e-3494eba7f658\")>,\n",
       " <selenium.webdriver.remote.webelement.WebElement (session=\"93e7e8620a33a83f48c1e1e98836c50d\", element=\"25a4d621-1cd2-4eac-a881-4776114d84bc\")>,\n",
       " <selenium.webdriver.remote.webelement.WebElement (session=\"93e7e8620a33a83f48c1e1e98836c50d\", element=\"e5c71a59-1523-4fbd-b3f2-808ee665b6a6\")>,\n",
       " <selenium.webdriver.remote.webelement.WebElement (session=\"93e7e8620a33a83f48c1e1e98836c50d\", element=\"45e4ff9f-ecf1-4b3f-87e1-4b7b5214e372\")>,\n",
       " <selenium.webdriver.remote.webelement.WebElement (session=\"93e7e8620a33a83f48c1e1e98836c50d\", element=\"cfb57ff0-3eca-4697-a503-b7068033ef49\")>,\n",
       " <selenium.webdriver.remote.webelement.WebElement (session=\"93e7e8620a33a83f48c1e1e98836c50d\", element=\"c9b261c2-8bd9-4656-9676-43751867818d\")>,\n",
       " <selenium.webdriver.remote.webelement.WebElement (session=\"93e7e8620a33a83f48c1e1e98836c50d\", element=\"38619604-18f0-40d3-8a3d-af17f6cefaa6\")>,\n",
       " <selenium.webdriver.remote.webelement.WebElement (session=\"93e7e8620a33a83f48c1e1e98836c50d\", element=\"7f215f64-1cf4-44d6-9b3c-d40bbd28c644\")>,\n",
       " <selenium.webdriver.remote.webelement.WebElement (session=\"93e7e8620a33a83f48c1e1e98836c50d\", element=\"5b34e517-e1f9-4777-99a9-0b1614f083d2\")>,\n",
       " <selenium.webdriver.remote.webelement.WebElement (session=\"93e7e8620a33a83f48c1e1e98836c50d\", element=\"2da24caf-4f9c-47da-9670-2a20eb411f4f\")>,\n",
       " <selenium.webdriver.remote.webelement.WebElement (session=\"93e7e8620a33a83f48c1e1e98836c50d\", element=\"3a137378-23d0-4350-a7c5-c81584288a66\")>,\n",
       " <selenium.webdriver.remote.webelement.WebElement (session=\"93e7e8620a33a83f48c1e1e98836c50d\", element=\"52b55a5c-8fa6-489d-99c3-c66a39076792\")>,\n",
       " <selenium.webdriver.remote.webelement.WebElement (session=\"93e7e8620a33a83f48c1e1e98836c50d\", element=\"42518e80-b0fb-497f-8ff3-d7c7f858fcc3\")>,\n",
       " <selenium.webdriver.remote.webelement.WebElement (session=\"93e7e8620a33a83f48c1e1e98836c50d\", element=\"3a85fb55-a194-4f73-8507-45c12b918bcb\")>,\n",
       " <selenium.webdriver.remote.webelement.WebElement (session=\"93e7e8620a33a83f48c1e1e98836c50d\", element=\"c63a1bcc-8536-49c2-904d-dc932309f141\")>,\n",
       " <selenium.webdriver.remote.webelement.WebElement (session=\"93e7e8620a33a83f48c1e1e98836c50d\", element=\"3118a522-4f74-4128-94a8-81e2cfb8aa90\")>,\n",
       " <selenium.webdriver.remote.webelement.WebElement (session=\"93e7e8620a33a83f48c1e1e98836c50d\", element=\"08134e3d-a63e-44c2-b5d1-b8beaa04f06b\")>,\n",
       " <selenium.webdriver.remote.webelement.WebElement (session=\"93e7e8620a33a83f48c1e1e98836c50d\", element=\"dc5540c9-aacb-4b01-8e4e-2fb70e7b539f\")>,\n",
       " <selenium.webdriver.remote.webelement.WebElement (session=\"93e7e8620a33a83f48c1e1e98836c50d\", element=\"6fa8fce8-f3ee-470e-8dee-c76d4992a62d\")>,\n",
       " <selenium.webdriver.remote.webelement.WebElement (session=\"93e7e8620a33a83f48c1e1e98836c50d\", element=\"6f8e580a-c2d5-4988-a175-b275502da3e9\")>,\n",
       " <selenium.webdriver.remote.webelement.WebElement (session=\"93e7e8620a33a83f48c1e1e98836c50d\", element=\"f09a310e-025d-4c65-ad4b-d68176200cd3\")>,\n",
       " <selenium.webdriver.remote.webelement.WebElement (session=\"93e7e8620a33a83f48c1e1e98836c50d\", element=\"d3bc9cd5-6f75-43e0-959d-71aedd9d018c\")>,\n",
       " <selenium.webdriver.remote.webelement.WebElement (session=\"93e7e8620a33a83f48c1e1e98836c50d\", element=\"4ba4d3cb-2c6b-413c-af37-e35d3c963c79\")>,\n",
       " <selenium.webdriver.remote.webelement.WebElement (session=\"93e7e8620a33a83f48c1e1e98836c50d\", element=\"c5362159-d255-4261-baad-e4f053a1da27\")>,\n",
       " <selenium.webdriver.remote.webelement.WebElement (session=\"93e7e8620a33a83f48c1e1e98836c50d\", element=\"80760192-5237-438c-8fba-51adc7ba4970\")>,\n",
       " <selenium.webdriver.remote.webelement.WebElement (session=\"93e7e8620a33a83f48c1e1e98836c50d\", element=\"e4b8520f-f452-4a48-8d12-9fc69458035d\")>,\n",
       " <selenium.webdriver.remote.webelement.WebElement (session=\"93e7e8620a33a83f48c1e1e98836c50d\", element=\"ce6f8ef7-f7be-4723-b6a9-0561901a6acf\")>,\n",
       " <selenium.webdriver.remote.webelement.WebElement (session=\"93e7e8620a33a83f48c1e1e98836c50d\", element=\"a6ac1bae-08fd-49aa-9b7c-2281b6a21948\")>,\n",
       " <selenium.webdriver.remote.webelement.WebElement (session=\"93e7e8620a33a83f48c1e1e98836c50d\", element=\"84ad030f-f44d-4aef-bbce-d206258de7fa\")>,\n",
       " <selenium.webdriver.remote.webelement.WebElement (session=\"93e7e8620a33a83f48c1e1e98836c50d\", element=\"09b3679b-6b30-468e-9928-f18bb91b2560\")>,\n",
       " <selenium.webdriver.remote.webelement.WebElement (session=\"93e7e8620a33a83f48c1e1e98836c50d\", element=\"23fae852-6085-4d72-a517-e97b4249956b\")>,\n",
       " <selenium.webdriver.remote.webelement.WebElement (session=\"93e7e8620a33a83f48c1e1e98836c50d\", element=\"accab2bd-fb1d-4d39-83d4-959f1ed6c46f\")>,\n",
       " <selenium.webdriver.remote.webelement.WebElement (session=\"93e7e8620a33a83f48c1e1e98836c50d\", element=\"83ad0797-f1c2-4e33-817e-1fa37c158d19\")>,\n",
       " <selenium.webdriver.remote.webelement.WebElement (session=\"93e7e8620a33a83f48c1e1e98836c50d\", element=\"7d20a3bb-6ce4-4ab2-8249-9b6aa725ac52\")>,\n",
       " <selenium.webdriver.remote.webelement.WebElement (session=\"93e7e8620a33a83f48c1e1e98836c50d\", element=\"4bbbd9f8-ae74-43fb-b873-c982b778d054\")>,\n",
       " <selenium.webdriver.remote.webelement.WebElement (session=\"93e7e8620a33a83f48c1e1e98836c50d\", element=\"8a27d23f-fba4-4af6-8bb9-76080d4b35ac\")>,\n",
       " <selenium.webdriver.remote.webelement.WebElement (session=\"93e7e8620a33a83f48c1e1e98836c50d\", element=\"fdd26ef2-8a3a-4477-b007-51c3659de85c\")>,\n",
       " <selenium.webdriver.remote.webelement.WebElement (session=\"93e7e8620a33a83f48c1e1e98836c50d\", element=\"42f6b99a-962d-49d2-b462-a475537093c6\")>,\n",
       " <selenium.webdriver.remote.webelement.WebElement (session=\"93e7e8620a33a83f48c1e1e98836c50d\", element=\"9d505e30-8a54-4654-9f10-d65de052c38f\")>,\n",
       " <selenium.webdriver.remote.webelement.WebElement (session=\"93e7e8620a33a83f48c1e1e98836c50d\", element=\"d93c36f1-c16c-47e1-b11d-059e1ec09be2\")>,\n",
       " <selenium.webdriver.remote.webelement.WebElement (session=\"93e7e8620a33a83f48c1e1e98836c50d\", element=\"66c8bc5b-537e-43f2-a10e-26f8d11810be\")>,\n",
       " <selenium.webdriver.remote.webelement.WebElement (session=\"93e7e8620a33a83f48c1e1e98836c50d\", element=\"4df678cf-39a6-4158-ba8b-3a2c0a07ce3f\")>,\n",
       " <selenium.webdriver.remote.webelement.WebElement (session=\"93e7e8620a33a83f48c1e1e98836c50d\", element=\"046b3028-75e8-4022-ad32-3dcbbeb71907\")>,\n",
       " <selenium.webdriver.remote.webelement.WebElement (session=\"93e7e8620a33a83f48c1e1e98836c50d\", element=\"445b6c3e-bf63-4f66-baac-8e2d4e9935ff\")>,\n",
       " <selenium.webdriver.remote.webelement.WebElement (session=\"93e7e8620a33a83f48c1e1e98836c50d\", element=\"79c1ae31-8060-4e9e-b79f-249d538edd5b\")>,\n",
       " <selenium.webdriver.remote.webelement.WebElement (session=\"93e7e8620a33a83f48c1e1e98836c50d\", element=\"698b4ea9-6cce-4d1e-91ff-43bfcab6dec4\")>,\n",
       " <selenium.webdriver.remote.webelement.WebElement (session=\"93e7e8620a33a83f48c1e1e98836c50d\", element=\"a4ea3706-7dcc-415b-9722-72eec76bd66b\")>,\n",
       " <selenium.webdriver.remote.webelement.WebElement (session=\"93e7e8620a33a83f48c1e1e98836c50d\", element=\"50b64e19-e28e-4b8c-b0d8-6ca335cb909e\")>,\n",
       " <selenium.webdriver.remote.webelement.WebElement (session=\"93e7e8620a33a83f48c1e1e98836c50d\", element=\"ec75ad64-5f6e-4d75-ae0a-d7fab8ebbf4c\")>,\n",
       " <selenium.webdriver.remote.webelement.WebElement (session=\"93e7e8620a33a83f48c1e1e98836c50d\", element=\"563bfd5a-30f6-48c3-be51-02a69de52713\")>,\n",
       " <selenium.webdriver.remote.webelement.WebElement (session=\"93e7e8620a33a83f48c1e1e98836c50d\", element=\"40abaa42-b86d-46f5-b7f0-0a6bf3d8ef7b\")>,\n",
       " <selenium.webdriver.remote.webelement.WebElement (session=\"93e7e8620a33a83f48c1e1e98836c50d\", element=\"debc4c43-cc50-49ae-8e61-3687e024032b\")>,\n",
       " <selenium.webdriver.remote.webelement.WebElement (session=\"93e7e8620a33a83f48c1e1e98836c50d\", element=\"114d6349-6e2b-4ef8-b4fc-8f81cf8c72ec\")>,\n",
       " <selenium.webdriver.remote.webelement.WebElement (session=\"93e7e8620a33a83f48c1e1e98836c50d\", element=\"94f39c1f-3f6b-4a6a-8a87-4c86408c23aa\")>,\n",
       " <selenium.webdriver.remote.webelement.WebElement (session=\"93e7e8620a33a83f48c1e1e98836c50d\", element=\"d6ec30e2-ef20-4dd8-9711-125fa9612fbd\")>,\n",
       " <selenium.webdriver.remote.webelement.WebElement (session=\"93e7e8620a33a83f48c1e1e98836c50d\", element=\"824efe52-91cf-4311-ac52-5b3c0dae071a\")>]"
      ]
     },
     "execution_count": 26,
     "metadata": {},
     "output_type": "execute_result"
    }
   ],
   "source": [
    "filing_href_elementos"
   ]
  },
  {
   "cell_type": "markdown",
   "metadata": {},
   "source": [
    "De cada elemento de la presentación de Metas podemos extraer el tipo de presentación, la industria y la provincia, así:"
   ]
  },
  {
   "cell_type": "markdown",
   "metadata": {},
   "source": [
    "********"
   ]
  },
  {
   "cell_type": "code",
   "execution_count": 18,
   "metadata": {},
   "outputs": [
    {
     "name": "stderr",
     "output_type": "stream",
     "text": [
      "100%|██████████| 966/966 [00:11<00:00, 86.05it/s]\n",
      "100%|██████████| 966/966 [00:10<00:00, 91.43it/s]\n",
      "100%|██████████| 1/1 [00:00<00:00, 14.44it/s]\n"
     ]
    }
   ],
   "source": [
    "filingName = []\n",
    "filingDate = []\n",
    "filingLink = []\n",
    "# para cada elemento en la lista de elementos de nombre de archivo, agrega el\n",
    "# texto del elemento a la lista de nombres de archivo.\n",
    "for element in tqdm(filing_names_elementos):\n",
    "    filingName.append(element.text)\n",
    "# para cada elemento en la lista de elementos de la fecha de presentación, agrega el\n",
    "# texto del elemento a la lista de fechas de presentación.\n",
    "for element in tqdm(filing_dates_elementos):\n",
    "    filingDate.append(element.text)\n"
   ]
  },
  {
   "cell_type": "code",
   "execution_count": 27,
   "metadata": {},
   "outputs": [
    {
     "name": "stderr",
     "output_type": "stream",
     "text": [
      "100%|██████████| 966/966 [00:18<00:00, 53.62it/s]\n"
     ]
    }
   ],
   "source": [
    "for link in tqdm(filing_href_elementos):\n",
    "    if link.get_attribute(\"href\"):\n",
    "        filingLink.append(link.get_attribute(\"href\"))"
   ]
  },
  {
   "cell_type": "code",
   "execution_count": 30,
   "metadata": {},
   "outputs": [
    {
     "data": {
      "text/plain": [
       "'https://insolvencyinsider.ca/filing/home-solutions-corporation-2/'"
      ]
     },
     "execution_count": 30,
     "metadata": {},
     "output_type": "execute_result"
    }
   ],
   "source": [
    "filingLink.pop(0)"
   ]
  },
  {
   "cell_type": "code",
   "execution_count": 31,
   "metadata": {},
   "outputs": [
    {
     "data": {
      "text/plain": [
       "966"
      ]
     },
     "execution_count": 31,
     "metadata": {},
     "output_type": "execute_result"
    }
   ],
   "source": [
    "len(filingLink)"
   ]
  },
  {
   "cell_type": "markdown",
   "metadata": {},
   "source": [
    "*********"
   ]
  },
  {
   "cell_type": "markdown",
   "metadata": {},
   "source": [
    "Ahora, todavía tenemos que poner nuestros nombres y fechas de presentación en las listas. Hacemos esto agregando el texto de cada elemento a una lista usando el método text() de antes:"
   ]
  },
  {
   "cell_type": "code",
   "execution_count": null,
   "metadata": {},
   "outputs": [],
   "source": []
  },
  {
   "cell_type": "markdown",
   "metadata": {},
   "source": [
    "Una vez que tengamos eso, estamos listos para poner todo en un diccionario y luego crear un DataFrame de pandas:"
   ]
  },
  {
   "cell_type": "code",
   "execution_count": 32,
   "metadata": {},
   "outputs": [],
   "source": [
    "# Crea un diccionario final con nombres y fechas de archivo.\n",
    "\n",
    "fullDict = {\n",
    "    \"Filing Name\": filingName,\n",
    "    \"Filing Date\": filingDate, \n",
    "    \"Link\": filingLink\n",
    "}\n",
    "# Crea un DataFrame.\n",
    "df = pd.DataFrame(fullDict)\n",
    "df[\"Filing Date\"] = pd.to_datetime(df[\"Filing Date\"], infer_datetime_format=True)"
   ]
  },
  {
   "cell_type": "code",
   "execution_count": 33,
   "metadata": {},
   "outputs": [
    {
     "data": {
      "text/html": [
       "<div>\n",
       "<style scoped>\n",
       "    .dataframe tbody tr th:only-of-type {\n",
       "        vertical-align: middle;\n",
       "    }\n",
       "\n",
       "    .dataframe tbody tr th {\n",
       "        vertical-align: top;\n",
       "    }\n",
       "\n",
       "    .dataframe thead th {\n",
       "        text-align: right;\n",
       "    }\n",
       "</style>\n",
       "<table border=\"1\" class=\"dataframe\">\n",
       "  <thead>\n",
       "    <tr style=\"text-align: right;\">\n",
       "      <th></th>\n",
       "      <th>Filing Name</th>\n",
       "      <th>Filing Date</th>\n",
       "      <th>Link</th>\n",
       "    </tr>\n",
       "  </thead>\n",
       "  <tbody>\n",
       "    <tr>\n",
       "      <th>0</th>\n",
       "      <td>Home Solutions Corporation</td>\n",
       "      <td>2022-07-11</td>\n",
       "      <td>https://insolvencyinsider.ca/filing/home-solut...</td>\n",
       "    </tr>\n",
       "    <tr>\n",
       "      <th>1</th>\n",
       "      <td>2737524 Ontario Inc. o/a Estrada Automotive</td>\n",
       "      <td>2022-07-05</td>\n",
       "      <td>https://insolvencyinsider.ca/filing/2737524-on...</td>\n",
       "    </tr>\n",
       "    <tr>\n",
       "      <th>2</th>\n",
       "      <td>Premium Comfort Heating &amp; Air Conditioning Ltd</td>\n",
       "      <td>2022-06-28</td>\n",
       "      <td>https://insolvencyinsider.ca/filing/premium-co...</td>\n",
       "    </tr>\n",
       "    <tr>\n",
       "      <th>3</th>\n",
       "      <td>Sproutly Inc. and its wholly-owned subsidiary,...</td>\n",
       "      <td>2022-06-24</td>\n",
       "      <td>https://insolvencyinsider.ca/filing/sproutly-i...</td>\n",
       "    </tr>\n",
       "    <tr>\n",
       "      <th>4</th>\n",
       "      <td>Revlon Canada Inc. and Elizabeth Arden (Canada...</td>\n",
       "      <td>2022-06-20</td>\n",
       "      <td>https://insolvencyinsider.ca/filing/revlon-can...</td>\n",
       "    </tr>\n",
       "    <tr>\n",
       "      <th>...</th>\n",
       "      <td>...</td>\n",
       "      <td>...</td>\n",
       "      <td>...</td>\n",
       "    </tr>\n",
       "    <tr>\n",
       "      <th>961</th>\n",
       "      <td>ReidBuilt</td>\n",
       "      <td>2017-11-02</td>\n",
       "      <td>https://insolvencyinsider.ca/filing/reidbuilt/</td>\n",
       "    </tr>\n",
       "    <tr>\n",
       "      <th>962</th>\n",
       "      <td>Spareparts</td>\n",
       "      <td>2017-10-31</td>\n",
       "      <td>https://insolvencyinsider.ca/filing/spareparts/</td>\n",
       "    </tr>\n",
       "    <tr>\n",
       "      <th>963</th>\n",
       "      <td>BuildDirect</td>\n",
       "      <td>2017-10-31</td>\n",
       "      <td>https://insolvencyinsider.ca/filing/builddirect/</td>\n",
       "    </tr>\n",
       "    <tr>\n",
       "      <th>964</th>\n",
       "      <td>1735549 Ontario</td>\n",
       "      <td>2017-10-27</td>\n",
       "      <td>https://insolvencyinsider.ca/filing/1735549-on...</td>\n",
       "    </tr>\n",
       "    <tr>\n",
       "      <th>965</th>\n",
       "      <td>2203284 Ontario</td>\n",
       "      <td>2017-06-22</td>\n",
       "      <td>https://insolvencyinsider.ca/filing/2203284-on...</td>\n",
       "    </tr>\n",
       "  </tbody>\n",
       "</table>\n",
       "<p>966 rows × 3 columns</p>\n",
       "</div>"
      ],
      "text/plain": [
       "                                           Filing Name Filing Date  \\\n",
       "0                           Home Solutions Corporation  2022-07-11   \n",
       "1          2737524 Ontario Inc. o/a Estrada Automotive  2022-07-05   \n",
       "2       Premium Comfort Heating & Air Conditioning Ltd  2022-06-28   \n",
       "3    Sproutly Inc. and its wholly-owned subsidiary,...  2022-06-24   \n",
       "4    Revlon Canada Inc. and Elizabeth Arden (Canada...  2022-06-20   \n",
       "..                                                 ...         ...   \n",
       "961                                          ReidBuilt  2017-11-02   \n",
       "962                                         Spareparts  2017-10-31   \n",
       "963                                        BuildDirect  2017-10-31   \n",
       "964                                    1735549 Ontario  2017-10-27   \n",
       "965                                    2203284 Ontario  2017-06-22   \n",
       "\n",
       "                                                  Link  \n",
       "0    https://insolvencyinsider.ca/filing/home-solut...  \n",
       "1    https://insolvencyinsider.ca/filing/2737524-on...  \n",
       "2    https://insolvencyinsider.ca/filing/premium-co...  \n",
       "3    https://insolvencyinsider.ca/filing/sproutly-i...  \n",
       "4    https://insolvencyinsider.ca/filing/revlon-can...  \n",
       "..                                                 ...  \n",
       "961     https://insolvencyinsider.ca/filing/reidbuilt/  \n",
       "962    https://insolvencyinsider.ca/filing/spareparts/  \n",
       "963   https://insolvencyinsider.ca/filing/builddirect/  \n",
       "964  https://insolvencyinsider.ca/filing/1735549-on...  \n",
       "965  https://insolvencyinsider.ca/filing/2203284-on...  \n",
       "\n",
       "[966 rows x 3 columns]"
      ]
     },
     "execution_count": 33,
     "metadata": {},
     "output_type": "execute_result"
    }
   ],
   "source": [
    "df"
   ]
  },
  {
   "cell_type": "markdown",
   "metadata": {},
   "source": [
    "------------------------"
   ]
  },
  {
   "cell_type": "markdown",
   "metadata": {},
   "source": [
    "# Ahora algo más visual"
   ]
  },
  {
   "cell_type": "code",
   "execution_count": 34,
   "metadata": {},
   "outputs": [
    {
     "name": "stderr",
     "output_type": "stream",
     "text": [
      "C:\\Users\\Alex\\AppData\\Local\\Temp\\ipykernel_26988\\3395105876.py:1: DeprecationWarning: executable_path has been deprecated, please pass in a Service object\n",
      "  driver = webdriver.Chrome(executable_path = chrome_driver_path, options = options)\n"
     ]
    }
   ],
   "source": [
    "driver = webdriver.Chrome(executable_path = chrome_driver_path, options = options)"
   ]
  },
  {
   "cell_type": "code",
   "execution_count": 35,
   "metadata": {},
   "outputs": [],
   "source": [
    "# indicamos la URL de la página web a la que queremos acceder:\n",
    "url = 'https://www.filmaffinity.com/es/main.html'\n",
    "# el objeto driver nos va a permitir alterar el estado del la página\n",
    "driver.get(url)"
   ]
  },
  {
   "cell_type": "code",
   "execution_count": 39,
   "metadata": {
    "ExecuteTime": {
     "end_time": "2021-02-26T10:22:48.546287Z",
     "start_time": "2021-02-26T10:22:48.489040Z"
    }
   },
   "outputs": [],
   "source": [
    "elements_by_tag = driver.find_elements(By.TAG_NAME, 'button')\n",
    "elements_by_class = driver.find_elements(By.CLASS_NAME, 'css-2tkghh')\n",
    "elements_by_xpath = driver.find_element(By.XPATH, '//*[@id=\"qc-cmp2-ui\"]/div[2]/div/button[2]')"
   ]
  },
  {
   "cell_type": "markdown",
   "metadata": {},
   "source": [
    "Podemos extraer todos los atributos que tenga"
   ]
  },
  {
   "cell_type": "code",
   "execution_count": 40,
   "metadata": {
    "ExecuteTime": {
     "end_time": "2021-02-26T10:22:51.542538Z",
     "start_time": "2021-02-26T10:22:51.508077Z"
    }
   },
   "outputs": [
    {
     "data": {
      "text/plain": [
       "['__abstractmethods__',\n",
       " '__class__',\n",
       " '__delattr__',\n",
       " '__dict__',\n",
       " '__dir__',\n",
       " '__doc__',\n",
       " '__eq__',\n",
       " '__format__',\n",
       " '__ge__',\n",
       " '__getattribute__',\n",
       " '__gt__',\n",
       " '__hash__',\n",
       " '__init__',\n",
       " '__init_subclass__',\n",
       " '__le__',\n",
       " '__lt__',\n",
       " '__module__',\n",
       " '__ne__',\n",
       " '__new__',\n",
       " '__reduce__',\n",
       " '__reduce_ex__',\n",
       " '__repr__',\n",
       " '__setattr__',\n",
       " '__sizeof__',\n",
       " '__str__',\n",
       " '__subclasshook__',\n",
       " '__weakref__',\n",
       " '_abc_impl',\n",
       " '_execute',\n",
       " '_id',\n",
       " '_parent',\n",
       " '_upload',\n",
       " 'accessible_name',\n",
       " 'aria_role',\n",
       " 'clear',\n",
       " 'click',\n",
       " 'find_element',\n",
       " 'find_elements',\n",
       " 'get_attribute',\n",
       " 'get_dom_attribute',\n",
       " 'get_property',\n",
       " 'id',\n",
       " 'is_displayed',\n",
       " 'is_enabled',\n",
       " 'is_selected',\n",
       " 'location',\n",
       " 'location_once_scrolled_into_view',\n",
       " 'parent',\n",
       " 'rect',\n",
       " 'screenshot',\n",
       " 'screenshot_as_base64',\n",
       " 'screenshot_as_png',\n",
       " 'send_keys',\n",
       " 'shadow_root',\n",
       " 'size',\n",
       " 'submit',\n",
       " 'tag_name',\n",
       " 'text',\n",
       " 'value_of_css_property']"
      ]
     },
     "execution_count": 40,
     "metadata": {},
     "output_type": "execute_result"
    }
   ],
   "source": [
    "dir(elements_by_xpath)"
   ]
  },
  {
   "cell_type": "markdown",
   "metadata": {},
   "source": [
    "Podemos evaluar que tipo de elemento es (tag)"
   ]
  },
  {
   "cell_type": "code",
   "execution_count": 41,
   "metadata": {
    "ExecuteTime": {
     "end_time": "2021-02-26T10:22:53.325430Z",
     "start_time": "2021-02-26T10:22:53.306520Z"
    }
   },
   "outputs": [
    {
     "data": {
      "text/plain": [
       "'button'"
      ]
     },
     "execution_count": 41,
     "metadata": {},
     "output_type": "execute_result"
    }
   ],
   "source": [
    "elements_by_xpath.tag_name"
   ]
  },
  {
   "cell_type": "markdown",
   "metadata": {},
   "source": [
    "Podemos sacar el valor que tiene (el texto)"
   ]
  },
  {
   "cell_type": "code",
   "execution_count": 42,
   "metadata": {
    "ExecuteTime": {
     "end_time": "2021-02-26T10:22:54.583190Z",
     "start_time": "2021-02-26T10:22:54.553596Z"
    }
   },
   "outputs": [
    {
     "data": {
      "text/plain": [
       "'ACEPTO'"
      ]
     },
     "execution_count": 42,
     "metadata": {},
     "output_type": "execute_result"
    }
   ],
   "source": [
    "elements_by_xpath.text"
   ]
  },
  {
   "cell_type": "code",
   "execution_count": null,
   "metadata": {},
   "outputs": [],
   "source": []
  },
  {
   "cell_type": "markdown",
   "metadata": {},
   "source": [
    "Incluso podemos guardar una imagen del elemento"
   ]
  },
  {
   "cell_type": "code",
   "execution_count": null,
   "metadata": {},
   "outputs": [],
   "source": []
  },
  {
   "cell_type": "code",
   "execution_count": null,
   "metadata": {
    "ExecuteTime": {
     "end_time": "2021-02-26T10:24:41.830050Z",
     "start_time": "2021-02-26T10:24:41.510086Z"
    }
   },
   "outputs": [],
   "source": []
  },
  {
   "cell_type": "markdown",
   "metadata": {
    "ExecuteTime": {
     "end_time": "2021-02-25T09:56:21.322475Z",
     "start_time": "2021-02-25T09:56:21.318715Z"
    }
   },
   "source": [
    "Evaluamos que elementos hemos encontrado por el tag:"
   ]
  },
  {
   "cell_type": "code",
   "execution_count": null,
   "metadata": {
    "ExecuteTime": {
     "end_time": "2021-02-25T10:40:47.561469Z",
     "start_time": "2021-02-25T10:40:46.812684Z"
    }
   },
   "outputs": [],
   "source": []
  },
  {
   "cell_type": "markdown",
   "metadata": {},
   "source": [
    "Seguimos"
   ]
  },
  {
   "cell_type": "markdown",
   "metadata": {},
   "source": [
    "Instanciamos el elemento del tag [2] en la variable boton aceptar"
   ]
  },
  {
   "cell_type": "code",
   "execution_count": 43,
   "metadata": {
    "ExecuteTime": {
     "end_time": "2021-02-26T10:24:47.302978Z",
     "start_time": "2021-02-26T10:24:47.291261Z"
    }
   },
   "outputs": [],
   "source": [
    "boton_aceptar = elements_by_xpath"
   ]
  },
  {
   "cell_type": "markdown",
   "metadata": {},
   "source": [
    "Si el elemento es interactivo podremos hacer más cosas además de las anteriores. Por ejemplo: hacer click"
   ]
  },
  {
   "cell_type": "code",
   "execution_count": 44,
   "metadata": {
    "ExecuteTime": {
     "end_time": "2021-02-26T10:24:48.611716Z",
     "start_time": "2021-02-26T10:24:48.390430Z"
    }
   },
   "outputs": [],
   "source": [
    "boton_aceptar.click()"
   ]
  },
  {
   "cell_type": "markdown",
   "metadata": {},
   "source": [
    "Buscamos una película por título"
   ]
  },
  {
   "cell_type": "code",
   "execution_count": 45,
   "metadata": {},
   "outputs": [],
   "source": [
    "from selenium.webdriver.common.keys import Keys"
   ]
  },
  {
   "cell_type": "markdown",
   "metadata": {},
   "source": [
    "/html/body/div[2]/div[1]/div/div[2]/form/div/input"
   ]
  },
  {
   "cell_type": "code",
   "execution_count": 46,
   "metadata": {
    "ExecuteTime": {
     "end_time": "2021-02-26T10:28:14.592155Z",
     "start_time": "2021-02-26T10:28:13.509998Z"
    }
   },
   "outputs": [],
   "source": [
    "buscador = driver.find_element(By.XPATH, '//*[@id=\"top-search-input\"]')\n",
    "buscador.send_keys('El Caballero Oscuro')"
   ]
  },
  {
   "cell_type": "code",
   "execution_count": 47,
   "metadata": {},
   "outputs": [],
   "source": [
    "buscador.send_keys(Keys.ENTER)"
   ]
  },
  {
   "cell_type": "code",
   "execution_count": 48,
   "metadata": {},
   "outputs": [],
   "source": [
    "driver.back()"
   ]
  },
  {
   "cell_type": "code",
   "execution_count": null,
   "metadata": {},
   "outputs": [],
   "source": []
  },
  {
   "cell_type": "code",
   "execution_count": null,
   "metadata": {},
   "outputs": [],
   "source": []
  },
  {
   "cell_type": "markdown",
   "metadata": {
    "ExecuteTime": {
     "end_time": "2021-02-25T10:09:19.308961Z",
     "start_time": "2021-02-25T10:09:19.299983Z"
    }
   },
   "source": [
    "### Vamos a buscar todas las películas que se estrenan el próximo viernes"
   ]
  },
  {
   "cell_type": "markdown",
   "metadata": {},
   "source": [
    "1. Cogemos los containers que hay en la zona lateral"
   ]
  },
  {
   "cell_type": "code",
   "execution_count": 58,
   "metadata": {
    "ExecuteTime": {
     "end_time": "2021-02-25T10:40:53.961145Z",
     "start_time": "2021-02-25T10:40:53.793388Z"
    }
   },
   "outputs": [
    {
     "data": {
      "text/plain": [
       "<selenium.webdriver.remote.webelement.WebElement (session=\"19fa22ac493b1b6a75a7731da9c2357f\", element=\"950ac831-9bcd-4a92-bd9f-2f5bce481dcc\")>"
      ]
     },
     "execution_count": 58,
     "metadata": {},
     "output_type": "execute_result"
    }
   ],
   "source": [
    "menu_lateral = driver.find_element(By.ID, 'lsmenu') ####### si se corrompe el navegador seleciona cualquier pagina distinta a proximos extrenos y ejecuta desde aqui\n",
    "menu_lateral"
   ]
  },
  {
   "cell_type": "code",
   "execution_count": 59,
   "metadata": {},
   "outputs": [
    {
     "data": {
      "text/plain": [
       "'Usuarios\\nVotar los tours\\nIniciar sesión\\nRegistrarse\\nEspaña\\nPelículas en cartelera\\nCines España\\nPróximos estrenos\\nEstrenos Blu-ray venta\\nPróximos Blu-ray venta\\nYa para alquilar\\nPróximamente alquiler\\nNetflix\\nNetflix (próx)\\nAmazon Prime\\nMovistar Plus+\\nMovistar Plus+ (próx)\\nHBO Max\\nDisney+\\nFilmin\\nApple TV+\\nRakuten TV\\nUSA - UK - FR\\nEstrenos USA\\nEstrenos Reino Unido\\nEstrenos Francia\\nRankings FA\\nTodos los rankings\\nN\\nEl Top 1000 de FA\\nSecciones\\nTaquilla\\nTrailers\\nÚltimos trailers\\nÚltimas críticas users\\nQué dice la crítica\\nPelículas por temas\\nSagas & Franquicias\\nSeries de TV\\nSeries de actualidad\\nTop series\\nVota Series de TV\\nTOPs\\nTop Filmaffinity\\nLo mejor del TOP\\nTop Estrenos\\nTop Estrenos Blu-ray\\nRanking de listas\\nPremios | Festivales\\nPremios y Festivales\\nTodos los Oscar\\nResumen 2021\\nInformación\\nAcerca de FA\\nContacto'"
      ]
     },
     "execution_count": 59,
     "metadata": {},
     "output_type": "execute_result"
    }
   ],
   "source": [
    "menu_lateral.text"
   ]
  },
  {
   "cell_type": "code",
   "execution_count": 60,
   "metadata": {},
   "outputs": [],
   "source": [
    "mis_secciones = menu_lateral.find_elements(By.TAG_NAME, 'a')"
   ]
  },
  {
   "cell_type": "code",
   "execution_count": null,
   "metadata": {},
   "outputs": [],
   "source": [
    "mis_secciones"
   ]
  },
  {
   "cell_type": "markdown",
   "metadata": {},
   "source": [
    "2. Vemos con cuál nos tenemos que quedar"
   ]
  },
  {
   "cell_type": "code",
   "execution_count": 52,
   "metadata": {
    "ExecuteTime": {
     "end_time": "2021-02-25T10:40:55.130681Z",
     "start_time": "2021-02-25T10:40:54.930234Z"
    }
   },
   "outputs": [
    {
     "name": "stderr",
     "output_type": "stream",
     "text": [
      " 11%|█         | 5/45 [00:01<00:08,  4.62it/s]\n"
     ]
    }
   ],
   "source": [
    "for a in tqdm(mis_secciones):\n",
    "    if a.text == 'Próximos estrenos':\n",
    "        a.click()\n",
    "        break"
   ]
  },
  {
   "cell_type": "code",
   "execution_count": 54,
   "metadata": {},
   "outputs": [],
   "source": [
    "driver.back()"
   ]
  },
  {
   "cell_type": "code",
   "execution_count": 62,
   "metadata": {},
   "outputs": [
    {
     "name": "stderr",
     "output_type": "stream",
     "text": [
      " 11%|█         | 5/45 [00:00<00:07,  5.49it/s]\n"
     ]
    }
   ],
   "source": [
    "for a in tqdm(mis_secciones):\n",
    "    if a.text == 'Próximos estrenos':\n",
    "        a.click()\n",
    "        break"
   ]
  },
  {
   "cell_type": "markdown",
   "metadata": {},
   "source": [
    "Accedemos al container central, en el que aparecen los estrenos por semana que queremos ver, exactamente igual que hemos hecho antes"
   ]
  },
  {
   "cell_type": "code",
   "execution_count": 63,
   "metadata": {
    "ExecuteTime": {
     "end_time": "2021-02-25T10:43:53.772471Z",
     "start_time": "2021-02-25T10:43:53.757510Z"
    }
   },
   "outputs": [],
   "source": [
    "cajon_central = driver.find_elements(By.ID, 'main-wrapper-rdcat')"
   ]
  },
  {
   "cell_type": "code",
   "execution_count": 64,
   "metadata": {},
   "outputs": [
    {
     "name": "stdout",
     "output_type": "stream",
     "text": [
      "14 de julio de 2022\n",
      "2022-07-14\n",
      "22 de julio de 2022\n",
      "2022-07-22\n",
      "29 de julio de 2022\n",
      "2022-07-29\n",
      "5 de agosto de 2022\n",
      "2022-08-05\n",
      "12 de agosto de 2022\n",
      "2022-08-12\n",
      "19 de agosto de 2022\n",
      "2022-08-19\n",
      "26 de agosto de 2022\n",
      "2022-08-26\n"
     ]
    }
   ],
   "source": [
    "for semana in cajon_central:\n",
    "    print(semana.find_element(By.TAG_NAME, 'div').text)\n",
    "    print(semana.find_element(By.TAG_NAME, 'div').get_attribute('id'))"
   ]
  },
  {
   "cell_type": "code",
   "execution_count": 65,
   "metadata": {
    "ExecuteTime": {
     "end_time": "2021-02-25T11:04:59.734561Z",
     "start_time": "2021-02-25T11:04:59.617626Z"
    }
   },
   "outputs": [],
   "source": [
    "caratulas = semana.find_elements(By.CLASS_NAME, 'mc-poster')\n",
    "lista_pelis = []\n",
    "for peli in caratulas:\n",
    "    lista_pelis.append(peli.find_element(By.TAG_NAME, 'a').get_attribute('href'))"
   ]
  },
  {
   "cell_type": "code",
   "execution_count": 66,
   "metadata": {},
   "outputs": [
    {
     "data": {
      "text/plain": [
       "['https://www.filmaffinity.com/es/film708007.html',\n",
       " 'https://www.filmaffinity.com/es/film868866.html',\n",
       " 'https://www.filmaffinity.com/es/film840601.html',\n",
       " 'https://www.filmaffinity.com/es/film259770.html',\n",
       " 'https://www.filmaffinity.com/es/film157744.html',\n",
       " 'https://www.filmaffinity.com/es/film227486.html',\n",
       " 'https://www.filmaffinity.com/es/film479695.html']"
      ]
     },
     "execution_count": 66,
     "metadata": {},
     "output_type": "execute_result"
    }
   ],
   "source": [
    "lista_pelis"
   ]
  },
  {
   "cell_type": "markdown",
   "metadata": {
    "ExecuteTime": {
     "end_time": "2021-02-25T11:04:08.219853Z",
     "start_time": "2021-02-25T11:04:08.215863Z"
    }
   },
   "source": [
    "Buscamos cómo acceder a las películas"
   ]
  },
  {
   "cell_type": "code",
   "execution_count": null,
   "metadata": {
    "ExecuteTime": {
     "end_time": "2021-02-25T11:10:28.294864Z",
     "start_time": "2021-02-25T11:10:28.174126Z"
    }
   },
   "outputs": [],
   "source": []
  },
  {
   "cell_type": "code",
   "execution_count": null,
   "metadata": {},
   "outputs": [],
   "source": []
  },
  {
   "cell_type": "markdown",
   "metadata": {},
   "source": [
    "Una vez tenemos todas las urls vamos a ver qué hacemos con cada una de ellas"
   ]
  },
  {
   "cell_type": "code",
   "execution_count": 67,
   "metadata": {
    "ExecuteTime": {
     "end_time": "2021-02-25T11:15:40.003059Z",
     "start_time": "2021-02-25T11:15:39.091047Z"
    }
   },
   "outputs": [],
   "source": [
    "driver.get(lista_pelis[0])"
   ]
  },
  {
   "cell_type": "markdown",
   "metadata": {
    "ExecuteTime": {
     "end_time": "2021-02-25T11:21:51.020248Z",
     "start_time": "2021-02-25T11:21:50.381138Z"
    }
   },
   "source": [
    "Vamos a ver el proceso que deberíamos hacer con cada una de las películas:"
   ]
  },
  {
   "cell_type": "markdown",
   "metadata": {},
   "source": [
    "1. Sacamos toda la información que nos interesa"
   ]
  },
  {
   "cell_type": "code",
   "execution_count": 70,
   "metadata": {
    "ExecuteTime": {
     "end_time": "2021-02-25T11:36:58.487622Z",
     "start_time": "2021-02-25T11:36:58.420292Z"
    }
   },
   "outputs": [
    {
     "name": "stdout",
     "output_type": "stream",
     "text": [
      "La invitación\n"
     ]
    },
    {
     "ename": "NoSuchElementException",
     "evalue": "Message: no such element: Unable to locate element: {\"method\":\"xpath\",\"selector\":\"/html/body/div[4]/table/tbody/tr/td[2]/div[1]/div[4]/div/div[2]/div[2]/div[1]/div[2]/div[1]\"}\n  (Session info: chrome=103.0.5060.114)\nStacktrace:\nBacktrace:\n\tOrdinal0 [0x011D6463+2188387]\n\tOrdinal0 [0x0116E461+1762401]\n\tOrdinal0 [0x01083D78+802168]\n\tOrdinal0 [0x010B1880+989312]\n\tOrdinal0 [0x010B1B1B+989979]\n\tOrdinal0 [0x010DE912+1173778]\n\tOrdinal0 [0x010CC824+1099812]\n\tOrdinal0 [0x010DCC22+1166370]\n\tOrdinal0 [0x010CC5F6+1099254]\n\tOrdinal0 [0x010A6BE0+945120]\n\tOrdinal0 [0x010A7AD6+948950]\n\tGetHandleVerifier [0x014771F2+2712546]\n\tGetHandleVerifier [0x0146886D+2652765]\n\tGetHandleVerifier [0x0126002A+520730]\n\tGetHandleVerifier [0x0125EE06+516086]\n\tOrdinal0 [0x0117468B+1787531]\n\tOrdinal0 [0x01178E88+1805960]\n\tOrdinal0 [0x01178F75+1806197]\n\tOrdinal0 [0x01181DF1+1842673]\n\tBaseThreadInitThunk [0x76806739+25]\n\tRtlGetFullPathName_UEx [0x77AD8FEF+1215]\n\tRtlGetFullPathName_UEx [0x77AD8FBD+1165]\n",
     "output_type": "error",
     "traceback": [
      "\u001b[1;31m---------------------------------------------------------------------------\u001b[0m",
      "\u001b[1;31mNoSuchElementException\u001b[0m                    Traceback (most recent call last)",
      "\u001b[1;32mc:\\Users\\Alex\\Documents\\The_Bridge_School\\data_science_TheBridge_TA\\junio_2022\\Taller_Webscrapping\\repo_webscraping\\taller_webscraping\\Selenium\\Selenium.ipynb Celda 97\u001b[0m in \u001b[0;36m<cell line: 3>\u001b[1;34m()\u001b[0m\n\u001b[0;32m      <a href='vscode-notebook-cell:/c%3A/Users/Alex/Documents/The_Bridge_School/data_science_TheBridge_TA/junio_2022/Taller_Webscrapping/repo_webscraping/taller_webscraping/Selenium/Selenium.ipynb#ch0000084?line=0'>1</a>\u001b[0m titulo \u001b[39m=\u001b[39m driver\u001b[39m.\u001b[39mfind_element(By\u001b[39m.\u001b[39mXPATH, \u001b[39m'\u001b[39m\u001b[39m//*[@id=\u001b[39m\u001b[39m\"\u001b[39m\u001b[39mmain-title\u001b[39m\u001b[39m\"\u001b[39m\u001b[39m]/span\u001b[39m\u001b[39m'\u001b[39m)\u001b[39m.\u001b[39mtext\n\u001b[0;32m      <a href='vscode-notebook-cell:/c%3A/Users/Alex/Documents/The_Bridge_School/data_science_TheBridge_TA/junio_2022/Taller_Webscrapping/repo_webscraping/taller_webscraping/Selenium/Selenium.ipynb#ch0000084?line=1'>2</a>\u001b[0m \u001b[39mprint\u001b[39m(titulo)\n\u001b[1;32m----> <a href='vscode-notebook-cell:/c%3A/Users/Alex/Documents/The_Bridge_School/data_science_TheBridge_TA/junio_2022/Taller_Webscrapping/repo_webscraping/taller_webscraping/Selenium/Selenium.ipynb#ch0000084?line=2'>3</a>\u001b[0m nota \u001b[39m=\u001b[39m driver\u001b[39m.\u001b[39;49mfind_element(By\u001b[39m.\u001b[39;49mXPATH, \u001b[39m'\u001b[39;49m\u001b[39m/html/body/div[4]/table/tbody/tr/td[2]/div[1]/div[4]/div/div[2]/div[2]/div[1]/div[2]/div[1]\u001b[39;49m\u001b[39m'\u001b[39;49m)\u001b[39m.\u001b[39mtext\n\u001b[0;32m      <a href='vscode-notebook-cell:/c%3A/Users/Alex/Documents/The_Bridge_School/data_science_TheBridge_TA/junio_2022/Taller_Webscrapping/repo_webscraping/taller_webscraping/Selenium/Selenium.ipynb#ch0000084?line=3'>4</a>\u001b[0m votos \u001b[39m=\u001b[39m driver\u001b[39m.\u001b[39mfind_element(By\u001b[39m.\u001b[39mXPATH, \u001b[39m'\u001b[39m\u001b[39m/html/body/div[4]/table/tbody/tr/td[2]/div[1]/div[4]/div/div[2]/div[2]/div[1]/div[2]/div[2]/span\u001b[39m\u001b[39m'\u001b[39m)\u001b[39m.\u001b[39mtext\n\u001b[0;32m      <a href='vscode-notebook-cell:/c%3A/Users/Alex/Documents/The_Bridge_School/data_science_TheBridge_TA/junio_2022/Taller_Webscrapping/repo_webscraping/taller_webscraping/Selenium/Selenium.ipynb#ch0000084?line=4'>5</a>\u001b[0m ficha \u001b[39m=\u001b[39m driver\u001b[39m.\u001b[39mfind_element(By\u001b[39m.\u001b[39mXPATH, \u001b[39m'\u001b[39m\u001b[39m/html/body/div[4]/table/tbody/tr/td[2]/div[1]/div[4]/div/div[3]/dl[1]\u001b[39m\u001b[39m'\u001b[39m)\n",
      "File \u001b[1;32mc:\\Users\\Alex\\Documents\\The_Bridge_School\\data_science_TheBridge_TA\\junio_2022\\Taller_Webscrapping\\repo_webscraping\\taller_webscraping\\.venv_webs\\lib\\site-packages\\selenium\\webdriver\\remote\\webdriver.py:857\u001b[0m, in \u001b[0;36mWebDriver.find_element\u001b[1;34m(self, by, value)\u001b[0m\n\u001b[0;32m    854\u001b[0m     by \u001b[39m=\u001b[39m By\u001b[39m.\u001b[39mCSS_SELECTOR\n\u001b[0;32m    855\u001b[0m     value \u001b[39m=\u001b[39m \u001b[39m'\u001b[39m\u001b[39m[name=\u001b[39m\u001b[39m\"\u001b[39m\u001b[39m%s\u001b[39;00m\u001b[39m\"\u001b[39m\u001b[39m]\u001b[39m\u001b[39m'\u001b[39m \u001b[39m%\u001b[39m value\n\u001b[1;32m--> 857\u001b[0m \u001b[39mreturn\u001b[39;00m \u001b[39mself\u001b[39;49m\u001b[39m.\u001b[39;49mexecute(Command\u001b[39m.\u001b[39;49mFIND_ELEMENT, {\n\u001b[0;32m    858\u001b[0m     \u001b[39m'\u001b[39;49m\u001b[39musing\u001b[39;49m\u001b[39m'\u001b[39;49m: by,\n\u001b[0;32m    859\u001b[0m     \u001b[39m'\u001b[39;49m\u001b[39mvalue\u001b[39;49m\u001b[39m'\u001b[39;49m: value})[\u001b[39m'\u001b[39m\u001b[39mvalue\u001b[39m\u001b[39m'\u001b[39m]\n",
      "File \u001b[1;32mc:\\Users\\Alex\\Documents\\The_Bridge_School\\data_science_TheBridge_TA\\junio_2022\\Taller_Webscrapping\\repo_webscraping\\taller_webscraping\\.venv_webs\\lib\\site-packages\\selenium\\webdriver\\remote\\webdriver.py:435\u001b[0m, in \u001b[0;36mWebDriver.execute\u001b[1;34m(self, driver_command, params)\u001b[0m\n\u001b[0;32m    433\u001b[0m response \u001b[39m=\u001b[39m \u001b[39mself\u001b[39m\u001b[39m.\u001b[39mcommand_executor\u001b[39m.\u001b[39mexecute(driver_command, params)\n\u001b[0;32m    434\u001b[0m \u001b[39mif\u001b[39;00m response:\n\u001b[1;32m--> 435\u001b[0m     \u001b[39mself\u001b[39;49m\u001b[39m.\u001b[39;49merror_handler\u001b[39m.\u001b[39;49mcheck_response(response)\n\u001b[0;32m    436\u001b[0m     response[\u001b[39m'\u001b[39m\u001b[39mvalue\u001b[39m\u001b[39m'\u001b[39m] \u001b[39m=\u001b[39m \u001b[39mself\u001b[39m\u001b[39m.\u001b[39m_unwrap_value(\n\u001b[0;32m    437\u001b[0m         response\u001b[39m.\u001b[39mget(\u001b[39m'\u001b[39m\u001b[39mvalue\u001b[39m\u001b[39m'\u001b[39m, \u001b[39mNone\u001b[39;00m))\n\u001b[0;32m    438\u001b[0m     \u001b[39mreturn\u001b[39;00m response\n",
      "File \u001b[1;32mc:\\Users\\Alex\\Documents\\The_Bridge_School\\data_science_TheBridge_TA\\junio_2022\\Taller_Webscrapping\\repo_webscraping\\taller_webscraping\\.venv_webs\\lib\\site-packages\\selenium\\webdriver\\remote\\errorhandler.py:247\u001b[0m, in \u001b[0;36mErrorHandler.check_response\u001b[1;34m(self, response)\u001b[0m\n\u001b[0;32m    245\u001b[0m         alert_text \u001b[39m=\u001b[39m value[\u001b[39m'\u001b[39m\u001b[39malert\u001b[39m\u001b[39m'\u001b[39m]\u001b[39m.\u001b[39mget(\u001b[39m'\u001b[39m\u001b[39mtext\u001b[39m\u001b[39m'\u001b[39m)\n\u001b[0;32m    246\u001b[0m     \u001b[39mraise\u001b[39;00m exception_class(message, screen, stacktrace, alert_text)  \u001b[39m# type: ignore[call-arg]  # mypy is not smart enough here\u001b[39;00m\n\u001b[1;32m--> 247\u001b[0m \u001b[39mraise\u001b[39;00m exception_class(message, screen, stacktrace)\n",
      "\u001b[1;31mNoSuchElementException\u001b[0m: Message: no such element: Unable to locate element: {\"method\":\"xpath\",\"selector\":\"/html/body/div[4]/table/tbody/tr/td[2]/div[1]/div[4]/div/div[2]/div[2]/div[1]/div[2]/div[1]\"}\n  (Session info: chrome=103.0.5060.114)\nStacktrace:\nBacktrace:\n\tOrdinal0 [0x011D6463+2188387]\n\tOrdinal0 [0x0116E461+1762401]\n\tOrdinal0 [0x01083D78+802168]\n\tOrdinal0 [0x010B1880+989312]\n\tOrdinal0 [0x010B1B1B+989979]\n\tOrdinal0 [0x010DE912+1173778]\n\tOrdinal0 [0x010CC824+1099812]\n\tOrdinal0 [0x010DCC22+1166370]\n\tOrdinal0 [0x010CC5F6+1099254]\n\tOrdinal0 [0x010A6BE0+945120]\n\tOrdinal0 [0x010A7AD6+948950]\n\tGetHandleVerifier [0x014771F2+2712546]\n\tGetHandleVerifier [0x0146886D+2652765]\n\tGetHandleVerifier [0x0126002A+520730]\n\tGetHandleVerifier [0x0125EE06+516086]\n\tOrdinal0 [0x0117468B+1787531]\n\tOrdinal0 [0x01178E88+1805960]\n\tOrdinal0 [0x01178F75+1806197]\n\tOrdinal0 [0x01181DF1+1842673]\n\tBaseThreadInitThunk [0x76806739+25]\n\tRtlGetFullPathName_UEx [0x77AD8FEF+1215]\n\tRtlGetFullPathName_UEx [0x77AD8FBD+1165]\n"
     ]
    }
   ],
   "source": [
    "titulo = driver.find_element(By.XPATH, '//*[@id=\"main-title\"]/span').text\n",
    "print(titulo)\n",
    "nota = driver.find_element(By.XPATH, '/html/body/div[4]/table/tbody/tr/td[2]/div[1]/div[4]/div/div[2]/div[2]/div[1]/div[2]/div[1]').text\n",
    "votos = driver.find_element(By.XPATH, '/html/body/div[4]/table/tbody/tr/td[2]/div[1]/div[4]/div/div[2]/div[2]/div[1]/div[2]/div[2]/span').text\n",
    "ficha = driver.find_element(By.XPATH, '/html/body/div[4]/table/tbody/tr/td[2]/div[1]/div[4]/div/div[3]/dl[1]')"
   ]
  },
  {
   "cell_type": "code",
   "execution_count": null,
   "metadata": {},
   "outputs": [],
   "source": []
  },
  {
   "cell_type": "markdown",
   "metadata": {},
   "source": [
    "2. Creamos una lista a partir de la ficha técnica"
   ]
  },
  {
   "cell_type": "code",
   "execution_count": 73,
   "metadata": {
    "ExecuteTime": {
     "end_time": "2021-02-25T11:34:54.218938Z",
     "start_time": "2021-02-25T11:34:53.923558Z"
    }
   },
   "outputs": [
    {
     "ename": "AttributeError",
     "evalue": "'str' object has no attribute 'find_element'",
     "output_type": "error",
     "traceback": [
      "\u001b[1;31m---------------------------------------------------------------------------\u001b[0m",
      "\u001b[1;31mAttributeError\u001b[0m                            Traceback (most recent call last)",
      "\u001b[1;32mc:\\Users\\Alex\\Documents\\The_Bridge_School\\data_science_TheBridge_TA\\junio_2022\\Taller_Webscrapping\\repo_webscraping\\taller_webscraping\\Selenium\\Selenium.ipynb Celda 100\u001b[0m in \u001b[0;36m<cell line: 3>\u001b[1;34m()\u001b[0m\n\u001b[0;32m      <a href='vscode-notebook-cell:/c%3A/Users/Alex/Documents/The_Bridge_School/data_science_TheBridge_TA/junio_2022/Taller_Webscrapping/repo_webscraping/taller_webscraping/Selenium/Selenium.ipynb#ch0000087?line=0'>1</a>\u001b[0m titulo_names \u001b[39m=\u001b[39m []\n\u001b[1;32m----> <a href='vscode-notebook-cell:/c%3A/Users/Alex/Documents/The_Bridge_School/data_science_TheBridge_TA/junio_2022/Taller_Webscrapping/repo_webscraping/taller_webscraping/Selenium/Selenium.ipynb#ch0000087?line=2'>3</a>\u001b[0m \u001b[39mfor\u001b[39;00m name \u001b[39min\u001b[39;00m titulo\u001b[39m.\u001b[39;49mfind_element(By\u001b[39m.\u001b[39mTAG_NAME, \u001b[39m'\u001b[39m\u001b[39mdt\u001b[39m\u001b[39m'\u001b[39m):\n\u001b[0;32m      <a href='vscode-notebook-cell:/c%3A/Users/Alex/Documents/The_Bridge_School/data_science_TheBridge_TA/junio_2022/Taller_Webscrapping/repo_webscraping/taller_webscraping/Selenium/Selenium.ipynb#ch0000087?line=3'>4</a>\u001b[0m     titulo_names\u001b[39m.\u001b[39mappend(name\u001b[39m.\u001b[39mtext)\n",
      "\u001b[1;31mAttributeError\u001b[0m: 'str' object has no attribute 'find_element'"
     ]
    }
   ],
   "source": [
    "titulo_names = []\n",
    "\n",
    "for name in titulo.find_elements(By.TAG_NAME, 'dt'):\n",
    "    titulo_names.append(name.text)"
   ]
  },
  {
   "cell_type": "code",
   "execution_count": null,
   "metadata": {},
   "outputs": [],
   "source": []
  },
  {
   "cell_type": "markdown",
   "metadata": {},
   "source": [
    "3. Creamos un dataframe con la info"
   ]
  },
  {
   "cell_type": "code",
   "execution_count": null,
   "metadata": {
    "ExecuteTime": {
     "end_time": "2021-02-25T11:38:19.916044Z",
     "start_time": "2021-02-25T11:38:19.899094Z"
    }
   },
   "outputs": [],
   "source": []
  },
  {
   "cell_type": "code",
   "execution_count": null,
   "metadata": {},
   "outputs": [],
   "source": []
  },
  {
   "cell_type": "code",
   "execution_count": null,
   "metadata": {},
   "outputs": [],
   "source": []
  },
  {
   "cell_type": "markdown",
   "metadata": {},
   "source": [
    "Ahora vamos a crear una función que nos haga todo esto para cada una de las películas:"
   ]
  },
  {
   "cell_type": "code",
   "execution_count": null,
   "metadata": {
    "ExecuteTime": {
     "end_time": "2021-02-25T11:58:39.349919Z",
     "start_time": "2021-02-25T11:58:39.052802Z"
    }
   },
   "outputs": [],
   "source": []
  },
  {
   "cell_type": "markdown",
   "metadata": {},
   "source": [
    "Vamos a ver cómo nos podemos mover entre ventanas del navegador\n",
    "\n",
    "Abrir nueva ventana:"
   ]
  },
  {
   "cell_type": "code",
   "execution_count": null,
   "metadata": {},
   "outputs": [],
   "source": []
  },
  {
   "cell_type": "markdown",
   "metadata": {},
   "source": [
    "Movernos a otra ventana"
   ]
  },
  {
   "cell_type": "code",
   "execution_count": null,
   "metadata": {},
   "outputs": [],
   "source": []
  },
  {
   "cell_type": "markdown",
   "metadata": {},
   "source": [
    "Cerrar ventana"
   ]
  },
  {
   "cell_type": "code",
   "execution_count": null,
   "metadata": {
    "ExecuteTime": {
     "end_time": "2021-02-25T12:04:17.177986Z",
     "start_time": "2021-02-25T12:04:17.160442Z"
    }
   },
   "outputs": [],
   "source": []
  },
  {
   "cell_type": "markdown",
   "metadata": {},
   "source": [
    "Una vez cerramos la ventana tenemos que indicarle a qué ventana tiene que ir"
   ]
  },
  {
   "cell_type": "code",
   "execution_count": null,
   "metadata": {
    "ExecuteTime": {
     "end_time": "2021-02-25T12:05:01.711952Z",
     "start_time": "2021-02-25T12:05:01.583709Z"
    }
   },
   "outputs": [],
   "source": []
  },
  {
   "cell_type": "markdown",
   "metadata": {},
   "source": [
    "Sabiendo cómo podemos movernos por entre las ventanas y sabiendo cómo extraer de cada página toda la información que necesitamos vamos a crear nuestro dataframe:"
   ]
  },
  {
   "cell_type": "code",
   "execution_count": null,
   "metadata": {},
   "outputs": [],
   "source": []
  },
  {
   "cell_type": "code",
   "execution_count": null,
   "metadata": {
    "ExecuteTime": {
     "end_time": "2021-02-25T12:00:27.038323Z",
     "start_time": "2021-02-25T11:59:37.219902Z"
    }
   },
   "outputs": [],
   "source": []
  },
  {
   "cell_type": "code",
   "execution_count": null,
   "metadata": {
    "ExecuteTime": {
     "end_time": "2021-02-25T12:00:36.221987Z",
     "start_time": "2021-02-25T12:00:36.207006Z"
    }
   },
   "outputs": [],
   "source": []
  },
  {
   "cell_type": "code",
   "execution_count": null,
   "metadata": {},
   "outputs": [],
   "source": []
  },
  {
   "cell_type": "markdown",
   "metadata": {},
   "source": [
    "Ya tenemos un dataframe con todas las películas que se van a estrenar el próximo viernes"
   ]
  }
 ],
 "metadata": {
  "hide_input": false,
  "kernelspec": {
   "display_name": "Python 3.9.2 ('.venv_webs': venv)",
   "language": "python",
   "name": "python3"
  },
  "language_info": {
   "codemirror_mode": {
    "name": "ipython",
    "version": 3
   },
   "file_extension": ".py",
   "mimetype": "text/x-python",
   "name": "python",
   "nbconvert_exporter": "python",
   "pygments_lexer": "ipython3",
   "version": "3.9.2"
  },
  "nbTranslate": {
   "displayLangs": [
    "*"
   ],
   "hotkey": "alt-t",
   "langInMainMenu": true,
   "sourceLang": "en",
   "targetLang": "fr",
   "useGoogleTranslate": true
  },
  "varInspector": {
   "cols": {
    "lenName": 16,
    "lenType": 16,
    "lenVar": 40
   },
   "kernels_config": {
    "python": {
     "delete_cmd_postfix": "",
     "delete_cmd_prefix": "del ",
     "library": "var_list.py",
     "varRefreshCmd": "print(var_dic_list())"
    },
    "r": {
     "delete_cmd_postfix": ") ",
     "delete_cmd_prefix": "rm(",
     "library": "var_list.r",
     "varRefreshCmd": "cat(var_dic_list()) "
    }
   },
   "types_to_exclude": [
    "module",
    "function",
    "builtin_function_or_method",
    "instance",
    "_Feature"
   ],
   "window_display": false
  },
  "vscode": {
   "interpreter": {
    "hash": "9a1907237d38fe9333ca6246545cc87b770b40495d73746d11538bf44e1a7930"
   }
  }
 },
 "nbformat": 4,
 "nbformat_minor": 2
}
